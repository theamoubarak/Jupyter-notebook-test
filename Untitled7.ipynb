{
 "cells": [
  {
   "cell_type": "code",
   "execution_count": 3,
   "id": "50775865-6745-4304-be40-6725bcd1d63b",
   "metadata": {},
   "outputs": [
    {
     "name": "stdout",
     "output_type": "stream",
     "text": [
      "Requirement already satisfied: chart-studio in /opt/anaconda3/lib/python3.12/site-packages (1.1.0)\n",
      "Requirement already satisfied: plotly in /opt/anaconda3/lib/python3.12/site-packages (from chart-studio) (5.22.0)\n",
      "Requirement already satisfied: requests in /opt/anaconda3/lib/python3.12/site-packages (from chart-studio) (2.32.2)\n",
      "Requirement already satisfied: retrying>=1.3.3 in /opt/anaconda3/lib/python3.12/site-packages (from chart-studio) (1.3.4)\n",
      "Requirement already satisfied: six in /opt/anaconda3/lib/python3.12/site-packages (from chart-studio) (1.16.0)\n",
      "Requirement already satisfied: tenacity>=6.2.0 in /opt/anaconda3/lib/python3.12/site-packages (from plotly->chart-studio) (8.2.2)\n",
      "Requirement already satisfied: packaging in /opt/anaconda3/lib/python3.12/site-packages (from plotly->chart-studio) (23.2)\n",
      "Requirement already satisfied: charset-normalizer<4,>=2 in /opt/anaconda3/lib/python3.12/site-packages (from requests->chart-studio) (2.0.4)\n",
      "Requirement already satisfied: idna<4,>=2.5 in /opt/anaconda3/lib/python3.12/site-packages (from requests->chart-studio) (3.7)\n",
      "Requirement already satisfied: urllib3<3,>=1.21.1 in /opt/anaconda3/lib/python3.12/site-packages (from requests->chart-studio) (2.2.2)\n",
      "Requirement already satisfied: certifi>=2017.4.17 in /opt/anaconda3/lib/python3.12/site-packages (from requests->chart-studio) (2024.8.30)\n",
      "Note: you may need to restart the kernel to use updated packages.\n"
     ]
    }
   ],
   "source": [
    "pip install chart-studio\n"
   ]
  },
  {
   "cell_type": "code",
   "execution_count": 1,
   "id": "f5d0dd9b-414a-426e-a495-e5be63c287a1",
   "metadata": {},
   "outputs": [
    {
     "name": "stdout",
     "output_type": "stream",
     "text": [
      "   Percentage of Women  Percentage of Men  \\\n",
      "0                 49.0               51.0   \n",
      "1                  0.0                0.0   \n",
      "2                 70.0               30.0   \n",
      "3                 53.0               47.0   \n",
      "4                 50.0               50.0   \n",
      "\n",
      "   Percentage of Eldelry - 65 or more years  \\\n",
      "0                                      11.0   \n",
      "1                                       0.0   \n",
      "2                                      35.0   \n",
      "3                                      80.0   \n",
      "4                                      25.0   \n",
      "\n",
      "   Percentage of Youth - 15-24 years                      Town  \\\n",
      "0                               12.0                     Bireh   \n",
      "1                                0.0  A'ain El-Mir (El Establ)   \n",
      "2                               35.0     AAridet Cheikh Zennad   \n",
      "3                                3.0                      Aaba   \n",
      "4                               35.0                 Aabadiyeh   \n",
      "\n",
      "   Average family size - 4 to 6 members  \\\n",
      "0                                     1   \n",
      "1                                     0   \n",
      "2                                     0   \n",
      "3                                     1   \n",
      "4                                     1   \n",
      "\n",
      "   Average family size - 7 or more members  \\\n",
      "0                                        0   \n",
      "1                                        0   \n",
      "2                                        1   \n",
      "3                                        0   \n",
      "4                                        0   \n",
      "\n",
      "   Average family size - 1 to 3 members  \n",
      "0                                     0  \n",
      "1                                     0  \n",
      "2                                     0  \n",
      "3                                     0  \n",
      "4                                     0  \n"
     ]
    }
   ],
   "source": [
    "import pandas as pd\n",
    "import numpy as np\n",
    "import scipy as sp\n",
    "import plotly.offline as py\n",
    "import plotly.figure_factory as ff\n",
    "import pandas as pd\n",
    "import plotly.graph_objects as go\n",
    "\n",
    "df=pd.read_excel('datas.xlsx')\n",
    "print(df.head())\n"
   ]
  },
  {
   "cell_type": "code",
   "execution_count": 13,
   "id": "29bfeb2c-8f4e-45c1-9fc5-2bc9c1b596ec",
   "metadata": {},
   "outputs": [
    {
     "data": {
      "application/vnd.plotly.v1+json": {
       "config": {
        "linkText": "Export to plot.ly",
        "plotlyServerURL": "https://plot.ly",
        "showLink": false
       },
       "data": [
        {
         "type": "bar",
         "x": [
          "Aabdine",
          "Aain Drafil",
          "Aain Ed-Delbe",
          "Aain El Saydeh",
          "Aain El-Kharroubeh",
          "Aain Et-Teffaha",
          "Aain Harsha",
          "Aaita Ej-Jabal",
          "Aalmane Ech-Chouf",
          "Aammatour",
          "Aanout",
          "Aathrine",
          "Aayha",
          "Aayroun",
          "Aaytat",
          "Antelias-Naccache",
          "Arsoun",
          "Baisour",
          "Balloune",
          "Batroumine",
          "Batroun",
          "Bchamoun",
          "Behdaydat",
          "Beit Monzer",
          "Berti",
          "Besri Jezzine",
          "Bmahray",
          "Bnaafoul",
          "Bnabil",
          "Bohwara",
          "Borj Aakkar",
          "Borj En-Naqoura",
          "Bouar",
          "Bqaa Kafra",
          "Bramiyeh",
          "Breissat",
          "Bsarma",
          "Btalloun",
          "Btedine El-Leqch",
          "Bzoummar",
          "Chamate",
          "Chhim",
          "Chibtine",
          "Chimlane",
          "Chnanaair",
          "Damour",
          "Daraiya Kesrouane",
          "Deir El-Ghazal",
          "Deir Mimas",
          "Dibbine",
          "Dlebta",
          "Douma",
          "Edde El-Batroun",
          "Eghbe",
          "El Ghabe",
          "Fatre",
          "Fourzol",
          "Ghabat",
          "Ghaziyeh",
          "Hadath Ej-Jebbeh",
          "Hammana",
          "Hanaouay",
          "Haouch El Qinnabeh Rachaya",
          "Hdeine",
          "Heri",
          "Hilan",
          "Jbaa En-Nabatiyeh-Ein-Boswar",
          "Jbeil",
          "Jdaidet Ghazir",
          "Jdita",
          "Jenjlaya",
          "Jiyeh",
          "Jouret El-Ballout",
          "Kafr Harra",
          "Kaftoun",
          "Kfar Hay",
          "Kfar Jreif",
          "Kfarhata ",
          "Kfarhata Zgharta",
          "Kouakh",
          "Kour",
          "Lassa",
          "Magher wbala",
          "Mar Chaaya",
          "Mazraat Mechref",
          "Mhaiydseh Rachaya",
          "Miziara",
          "Nabi Ayla",
          "Nabi Osmane",
          "Nakhleh",
          "Nimrine",
          "Nmairiyeh",
          "Qaa Er-Rim",
          "Qahmez",
          "Qalaouiyeh",
          "Qarah Bach",
          "Qartaba",
          "Qaynour",
          "Qaytouleh",
          "Qbaiyat Aakkar",
          "Qennabet Broummana",
          "Qleiaat Aakkar",
          "Qnat",
          "Qortada",
          "Qsaibet En-Nabatiyeh",
          "Rahbeh",
          "Rashana",
          "Sebaal Zgharta",
          "Soultaniyet Bent Jbeil",
          "Srayri",
          "Srobbine",
          "Talia",
          "Tallet Chattaha",
          "Toula El-Batroun",
          "Zaitoun",
          "Zeita",
          "Zgharta-Ehden",
          "Zibdine En-Nabatiyeh",
          "Zouarib",
          "Zrariyeh",
          "berqayel"
         ],
         "y": [
          0,
          52,
          40,
          40,
          0,
          60,
          55,
          35,
          60,
          55,
          60,
          55,
          65,
          50,
          52,
          0,
          50,
          50,
          48,
          60,
          40,
          0,
          0,
          50,
          0,
          40,
          55,
          60,
          60,
          45,
          55,
          60,
          40,
          50,
          50,
          60,
          55,
          54,
          0,
          55,
          60,
          60,
          60,
          50,
          50,
          55,
          60,
          52,
          55,
          40,
          60,
          50,
          45,
          45,
          55,
          70,
          40,
          70,
          60,
          40,
          52,
          40,
          60,
          50,
          70,
          40,
          51,
          60,
          50,
          60,
          60,
          50,
          40,
          48,
          70,
          55,
          52,
          0,
          0,
          53,
          60,
          35,
          40,
          60,
          55,
          51,
          60,
          55,
          40,
          75,
          45,
          20,
          47,
          45,
          70,
          45,
          50,
          60,
          60,
          50.2,
          62,
          0,
          55,
          60,
          65,
          60,
          52,
          50,
          55,
          35,
          0,
          60,
          50,
          55,
          60,
          45,
          45,
          60,
          50,
          53,
          65
         ]
        }
       ],
       "layout": {
        "autosize": true,
        "template": {
         "data": {
          "bar": [
           {
            "error_x": {
             "color": "#2a3f5f"
            },
            "error_y": {
             "color": "#2a3f5f"
            },
            "marker": {
             "line": {
              "color": "#E5ECF6",
              "width": 0.5
             },
             "pattern": {
              "fillmode": "overlay",
              "size": 10,
              "solidity": 0.2
             }
            },
            "type": "bar"
           }
          ],
          "barpolar": [
           {
            "marker": {
             "line": {
              "color": "#E5ECF6",
              "width": 0.5
             },
             "pattern": {
              "fillmode": "overlay",
              "size": 10,
              "solidity": 0.2
             }
            },
            "type": "barpolar"
           }
          ],
          "carpet": [
           {
            "aaxis": {
             "endlinecolor": "#2a3f5f",
             "gridcolor": "white",
             "linecolor": "white",
             "minorgridcolor": "white",
             "startlinecolor": "#2a3f5f"
            },
            "baxis": {
             "endlinecolor": "#2a3f5f",
             "gridcolor": "white",
             "linecolor": "white",
             "minorgridcolor": "white",
             "startlinecolor": "#2a3f5f"
            },
            "type": "carpet"
           }
          ],
          "choropleth": [
           {
            "colorbar": {
             "outlinewidth": 0,
             "ticks": ""
            },
            "type": "choropleth"
           }
          ],
          "contour": [
           {
            "colorbar": {
             "outlinewidth": 0,
             "ticks": ""
            },
            "colorscale": [
             [
              0,
              "#0d0887"
             ],
             [
              0.1111111111111111,
              "#46039f"
             ],
             [
              0.2222222222222222,
              "#7201a8"
             ],
             [
              0.3333333333333333,
              "#9c179e"
             ],
             [
              0.4444444444444444,
              "#bd3786"
             ],
             [
              0.5555555555555556,
              "#d8576b"
             ],
             [
              0.6666666666666666,
              "#ed7953"
             ],
             [
              0.7777777777777778,
              "#fb9f3a"
             ],
             [
              0.8888888888888888,
              "#fdca26"
             ],
             [
              1,
              "#f0f921"
             ]
            ],
            "type": "contour"
           }
          ],
          "contourcarpet": [
           {
            "colorbar": {
             "outlinewidth": 0,
             "ticks": ""
            },
            "type": "contourcarpet"
           }
          ],
          "heatmap": [
           {
            "colorbar": {
             "outlinewidth": 0,
             "ticks": ""
            },
            "colorscale": [
             [
              0,
              "#0d0887"
             ],
             [
              0.1111111111111111,
              "#46039f"
             ],
             [
              0.2222222222222222,
              "#7201a8"
             ],
             [
              0.3333333333333333,
              "#9c179e"
             ],
             [
              0.4444444444444444,
              "#bd3786"
             ],
             [
              0.5555555555555556,
              "#d8576b"
             ],
             [
              0.6666666666666666,
              "#ed7953"
             ],
             [
              0.7777777777777778,
              "#fb9f3a"
             ],
             [
              0.8888888888888888,
              "#fdca26"
             ],
             [
              1,
              "#f0f921"
             ]
            ],
            "type": "heatmap"
           }
          ],
          "heatmapgl": [
           {
            "colorbar": {
             "outlinewidth": 0,
             "ticks": ""
            },
            "colorscale": [
             [
              0,
              "#0d0887"
             ],
             [
              0.1111111111111111,
              "#46039f"
             ],
             [
              0.2222222222222222,
              "#7201a8"
             ],
             [
              0.3333333333333333,
              "#9c179e"
             ],
             [
              0.4444444444444444,
              "#bd3786"
             ],
             [
              0.5555555555555556,
              "#d8576b"
             ],
             [
              0.6666666666666666,
              "#ed7953"
             ],
             [
              0.7777777777777778,
              "#fb9f3a"
             ],
             [
              0.8888888888888888,
              "#fdca26"
             ],
             [
              1,
              "#f0f921"
             ]
            ],
            "type": "heatmapgl"
           }
          ],
          "histogram": [
           {
            "marker": {
             "pattern": {
              "fillmode": "overlay",
              "size": 10,
              "solidity": 0.2
             }
            },
            "type": "histogram"
           }
          ],
          "histogram2d": [
           {
            "colorbar": {
             "outlinewidth": 0,
             "ticks": ""
            },
            "colorscale": [
             [
              0,
              "#0d0887"
             ],
             [
              0.1111111111111111,
              "#46039f"
             ],
             [
              0.2222222222222222,
              "#7201a8"
             ],
             [
              0.3333333333333333,
              "#9c179e"
             ],
             [
              0.4444444444444444,
              "#bd3786"
             ],
             [
              0.5555555555555556,
              "#d8576b"
             ],
             [
              0.6666666666666666,
              "#ed7953"
             ],
             [
              0.7777777777777778,
              "#fb9f3a"
             ],
             [
              0.8888888888888888,
              "#fdca26"
             ],
             [
              1,
              "#f0f921"
             ]
            ],
            "type": "histogram2d"
           }
          ],
          "histogram2dcontour": [
           {
            "colorbar": {
             "outlinewidth": 0,
             "ticks": ""
            },
            "colorscale": [
             [
              0,
              "#0d0887"
             ],
             [
              0.1111111111111111,
              "#46039f"
             ],
             [
              0.2222222222222222,
              "#7201a8"
             ],
             [
              0.3333333333333333,
              "#9c179e"
             ],
             [
              0.4444444444444444,
              "#bd3786"
             ],
             [
              0.5555555555555556,
              "#d8576b"
             ],
             [
              0.6666666666666666,
              "#ed7953"
             ],
             [
              0.7777777777777778,
              "#fb9f3a"
             ],
             [
              0.8888888888888888,
              "#fdca26"
             ],
             [
              1,
              "#f0f921"
             ]
            ],
            "type": "histogram2dcontour"
           }
          ],
          "mesh3d": [
           {
            "colorbar": {
             "outlinewidth": 0,
             "ticks": ""
            },
            "type": "mesh3d"
           }
          ],
          "parcoords": [
           {
            "line": {
             "colorbar": {
              "outlinewidth": 0,
              "ticks": ""
             }
            },
            "type": "parcoords"
           }
          ],
          "pie": [
           {
            "automargin": true,
            "type": "pie"
           }
          ],
          "scatter": [
           {
            "fillpattern": {
             "fillmode": "overlay",
             "size": 10,
             "solidity": 0.2
            },
            "type": "scatter"
           }
          ],
          "scatter3d": [
           {
            "line": {
             "colorbar": {
              "outlinewidth": 0,
              "ticks": ""
             }
            },
            "marker": {
             "colorbar": {
              "outlinewidth": 0,
              "ticks": ""
             }
            },
            "type": "scatter3d"
           }
          ],
          "scattercarpet": [
           {
            "marker": {
             "colorbar": {
              "outlinewidth": 0,
              "ticks": ""
             }
            },
            "type": "scattercarpet"
           }
          ],
          "scattergeo": [
           {
            "marker": {
             "colorbar": {
              "outlinewidth": 0,
              "ticks": ""
             }
            },
            "type": "scattergeo"
           }
          ],
          "scattergl": [
           {
            "marker": {
             "colorbar": {
              "outlinewidth": 0,
              "ticks": ""
             }
            },
            "type": "scattergl"
           }
          ],
          "scattermapbox": [
           {
            "marker": {
             "colorbar": {
              "outlinewidth": 0,
              "ticks": ""
             }
            },
            "type": "scattermapbox"
           }
          ],
          "scatterpolar": [
           {
            "marker": {
             "colorbar": {
              "outlinewidth": 0,
              "ticks": ""
             }
            },
            "type": "scatterpolar"
           }
          ],
          "scatterpolargl": [
           {
            "marker": {
             "colorbar": {
              "outlinewidth": 0,
              "ticks": ""
             }
            },
            "type": "scatterpolargl"
           }
          ],
          "scatterternary": [
           {
            "marker": {
             "colorbar": {
              "outlinewidth": 0,
              "ticks": ""
             }
            },
            "type": "scatterternary"
           }
          ],
          "surface": [
           {
            "colorbar": {
             "outlinewidth": 0,
             "ticks": ""
            },
            "colorscale": [
             [
              0,
              "#0d0887"
             ],
             [
              0.1111111111111111,
              "#46039f"
             ],
             [
              0.2222222222222222,
              "#7201a8"
             ],
             [
              0.3333333333333333,
              "#9c179e"
             ],
             [
              0.4444444444444444,
              "#bd3786"
             ],
             [
              0.5555555555555556,
              "#d8576b"
             ],
             [
              0.6666666666666666,
              "#ed7953"
             ],
             [
              0.7777777777777778,
              "#fb9f3a"
             ],
             [
              0.8888888888888888,
              "#fdca26"
             ],
             [
              1,
              "#f0f921"
             ]
            ],
            "type": "surface"
           }
          ],
          "table": [
           {
            "cells": {
             "fill": {
              "color": "#EBF0F8"
             },
             "line": {
              "color": "white"
             }
            },
            "header": {
             "fill": {
              "color": "#C8D4E3"
             },
             "line": {
              "color": "white"
             }
            },
            "type": "table"
           }
          ]
         },
         "layout": {
          "annotationdefaults": {
           "arrowcolor": "#2a3f5f",
           "arrowhead": 0,
           "arrowwidth": 1
          },
          "autotypenumbers": "strict",
          "coloraxis": {
           "colorbar": {
            "outlinewidth": 0,
            "ticks": ""
           }
          },
          "colorscale": {
           "diverging": [
            [
             0,
             "#8e0152"
            ],
            [
             0.1,
             "#c51b7d"
            ],
            [
             0.2,
             "#de77ae"
            ],
            [
             0.3,
             "#f1b6da"
            ],
            [
             0.4,
             "#fde0ef"
            ],
            [
             0.5,
             "#f7f7f7"
            ],
            [
             0.6,
             "#e6f5d0"
            ],
            [
             0.7,
             "#b8e186"
            ],
            [
             0.8,
             "#7fbc41"
            ],
            [
             0.9,
             "#4d9221"
            ],
            [
             1,
             "#276419"
            ]
           ],
           "sequential": [
            [
             0,
             "#0d0887"
            ],
            [
             0.1111111111111111,
             "#46039f"
            ],
            [
             0.2222222222222222,
             "#7201a8"
            ],
            [
             0.3333333333333333,
             "#9c179e"
            ],
            [
             0.4444444444444444,
             "#bd3786"
            ],
            [
             0.5555555555555556,
             "#d8576b"
            ],
            [
             0.6666666666666666,
             "#ed7953"
            ],
            [
             0.7777777777777778,
             "#fb9f3a"
            ],
            [
             0.8888888888888888,
             "#fdca26"
            ],
            [
             1,
             "#f0f921"
            ]
           ],
           "sequentialminus": [
            [
             0,
             "#0d0887"
            ],
            [
             0.1111111111111111,
             "#46039f"
            ],
            [
             0.2222222222222222,
             "#7201a8"
            ],
            [
             0.3333333333333333,
             "#9c179e"
            ],
            [
             0.4444444444444444,
             "#bd3786"
            ],
            [
             0.5555555555555556,
             "#d8576b"
            ],
            [
             0.6666666666666666,
             "#ed7953"
            ],
            [
             0.7777777777777778,
             "#fb9f3a"
            ],
            [
             0.8888888888888888,
             "#fdca26"
            ],
            [
             1,
             "#f0f921"
            ]
           ]
          },
          "colorway": [
           "#636efa",
           "#EF553B",
           "#00cc96",
           "#ab63fa",
           "#FFA15A",
           "#19d3f3",
           "#FF6692",
           "#B6E880",
           "#FF97FF",
           "#FECB52"
          ],
          "font": {
           "color": "#2a3f5f"
          },
          "geo": {
           "bgcolor": "white",
           "lakecolor": "white",
           "landcolor": "#E5ECF6",
           "showlakes": true,
           "showland": true,
           "subunitcolor": "white"
          },
          "hoverlabel": {
           "align": "left"
          },
          "hovermode": "closest",
          "mapbox": {
           "style": "light"
          },
          "paper_bgcolor": "white",
          "plot_bgcolor": "#E5ECF6",
          "polar": {
           "angularaxis": {
            "gridcolor": "white",
            "linecolor": "white",
            "ticks": ""
           },
           "bgcolor": "#E5ECF6",
           "radialaxis": {
            "gridcolor": "white",
            "linecolor": "white",
            "ticks": ""
           }
          },
          "scene": {
           "xaxis": {
            "backgroundcolor": "#E5ECF6",
            "gridcolor": "white",
            "gridwidth": 2,
            "linecolor": "white",
            "showbackground": true,
            "ticks": "",
            "zerolinecolor": "white"
           },
           "yaxis": {
            "backgroundcolor": "#E5ECF6",
            "gridcolor": "white",
            "gridwidth": 2,
            "linecolor": "white",
            "showbackground": true,
            "ticks": "",
            "zerolinecolor": "white"
           },
           "zaxis": {
            "backgroundcolor": "#E5ECF6",
            "gridcolor": "white",
            "gridwidth": 2,
            "linecolor": "white",
            "showbackground": true,
            "ticks": "",
            "zerolinecolor": "white"
           }
          },
          "shapedefaults": {
           "line": {
            "color": "#2a3f5f"
           }
          },
          "ternary": {
           "aaxis": {
            "gridcolor": "white",
            "linecolor": "white",
            "ticks": ""
           },
           "baxis": {
            "gridcolor": "white",
            "linecolor": "white",
            "ticks": ""
           },
           "bgcolor": "#E5ECF6",
           "caxis": {
            "gridcolor": "white",
            "linecolor": "white",
            "ticks": ""
           }
          },
          "title": {
           "x": 0.05
          },
          "xaxis": {
           "automargin": true,
           "gridcolor": "white",
           "linecolor": "white",
           "ticks": "",
           "title": {
            "standoff": 15
           },
           "zerolinecolor": "white",
           "zerolinewidth": 2
          },
          "yaxis": {
           "automargin": true,
           "gridcolor": "white",
           "linecolor": "white",
           "ticks": "",
           "title": {
            "standoff": 15
           },
           "zerolinecolor": "white",
           "zerolinewidth": 2
          }
         }
        },
        "title": {
         "text": "Bar Graph showing the Percentage of Women Within Lebanese Villages"
        },
        "xaxis": {
         "autorange": false,
         "range": [
          -0.5,
          120.5
         ],
         "type": "category"
        },
        "yaxis": {
         "autorange": false,
         "range": [
          0,
          100
         ],
         "type": "linear"
        }
       }
      },
      "image/png": "[encoded data removed]",
      "text/html": [
       "<div>                            <div id=\"732d3e82-8d71-4d8a-b47e-823bcfe7e5af\" class=\"plotly-graph-div\" style=\"height:525px; width:100%;\"></div>            <script type=\"text/javascript\">                require([\"plotly\"], function(Plotly) {                    window.PLOTLYENV=window.PLOTLYENV || {};                                    if (document.getElementById(\"732d3e82-8d71-4d8a-b47e-823bcfe7e5af\")) {                    Plotly.newPlot(                        \"732d3e82-8d71-4d8a-b47e-823bcfe7e5af\",                        [{\"x\":[\"Aabdine\",\"Aain Drafil\",\"Aain Ed-Delbe\",\"Aain El Saydeh\",\"Aain El-Kharroubeh\",\"Aain Et-Teffaha\",\"Aain Harsha\",\"Aaita Ej-Jabal\",\"Aalmane Ech-Chouf\",\"Aammatour\",\"Aanout\",\"Aathrine\",\"Aayha\",\"Aayroun\",\"Aaytat\",\"Antelias-Naccache\",\"Arsoun\",\"Baisour\",\"Balloune\",\"Batroumine\",\"Batroun\",\"Bchamoun\",\"Behdaydat\",\"Beit Monzer\",\"Berti\",\"Besri Jezzine\",\"Bmahray\",\"Bnaafoul\",\"Bnabil\",\"Bohwara\",\"Borj Aakkar\",\"Borj En-Naqoura\",\"Bouar\",\"Bqaa Kafra\",\"Bramiyeh\",\"Breissat\",\"Bsarma\",\"Btalloun\",\"Btedine El-Leqch\",\"Bzoummar\",\"Chamate\",\"Chhim\",\"Chibtine\",\"Chimlane\",\"Chnanaair\",\"Damour\",\"Daraiya Kesrouane\",\"Deir El-Ghazal\",\"Deir Mimas\",\"Dibbine\",\"Dlebta\",\"Douma\",\"Edde El-Batroun\",\"Eghbe\",\"El Ghabe\",\"Fatre\",\"Fourzol\",\"Ghabat\",\"Ghaziyeh\",\"Hadath Ej-Jebbeh\",\"Hammana\",\"Hanaouay\",\"Haouch El Qinnabeh Rachaya\",\"Hdeine\",\"Heri\",\"Hilan\",\"Jbaa En-Nabatiyeh-Ein-Boswar\",\"Jbeil\",\"Jdaidet Ghazir\",\"Jdita\",\"Jenjlaya\",\"Jiyeh\",\"Jouret El-Ballout\",\"Kafr Harra\",\"Kaftoun\",\"Kfar Hay\",\"Kfar Jreif\",\"Kfarhata\\u00a0\",\"Kfarhata Zgharta\",\"Kouakh\",\"Kour\",\"Lassa\",\"Magher wbala\",\"Mar Chaaya\",\"Mazraat Mechref\",\"Mhaiydseh Rachaya\",\"Miziara\",\"Nabi Ayla\",\"Nabi Osmane\",\"Nakhleh\",\"Nimrine\",\"Nmairiyeh\",\"Qaa Er-Rim\",\"Qahmez\",\"Qalaouiyeh\",\"Qarah Bach\",\"Qartaba\",\"Qaynour\",\"Qaytouleh\",\"Qbaiyat Aakkar\",\"Qennabet Broummana\",\"Qleiaat Aakkar\",\"Qnat\",\"Qortada\",\"Qsaibet En-Nabatiyeh\",\"Rahbeh\",\"Rashana\",\"Sebaal Zgharta\",\"Soultaniyet Bent Jbeil\",\"Srayri\",\"Srobbine\",\"Talia\",\"Tallet Chattaha\",\"Toula El-Batroun\",\"Zaitoun\",\"Zeita\",\"Zgharta-Ehden\",\"Zibdine En-Nabatiyeh\",\"Zouarib\",\"Zrariyeh\",\"berqayel\"],\"y\":[0.0,52.0,40.0,40.0,0.0,60.0,55.0,35.0,60.0,55.0,60.0,55.0,65.0,50.0,52.0,0.0,50.0,50.0,48.0,60.0,40.0,0.0,0.0,50.0,0.0,40.0,55.0,60.0,60.0,45.0,55.0,60.0,40.0,50.0,50.0,60.0,55.0,54.0,0.0,55.0,60.0,60.0,60.0,50.0,50.0,55.0,60.0,52.0,55.0,40.0,60.0,50.0,45.0,45.0,55.0,70.0,40.0,70.0,60.0,40.0,52.0,40.0,60.0,50.0,70.0,40.0,51.0,60.0,50.0,60.0,60.0,50.0,40.0,48.0,70.0,55.0,52.0,0.0,0.0,53.0,60.0,35.0,40.0,60.0,55.0,51.0,60.0,55.0,40.0,75.0,45.0,20.0,47.0,45.0,70.0,45.0,50.0,60.0,60.0,50.2,62.0,0.0,55.0,60.0,65.0,60.0,52.0,50.0,55.0,35.0,0.0,60.0,50.0,55.0,60.0,45.0,45.0,60.0,50.0,53.0,65.0],\"type\":\"bar\"}],                        {\"template\":{\"data\":{\"barpolar\":[{\"marker\":{\"line\":{\"color\":\"#E5ECF6\",\"width\":0.5},\"pattern\":{\"fillmode\":\"overlay\",\"size\":10,\"solidity\":0.2}},\"type\":\"barpolar\"}],\"bar\":[{\"error_x\":{\"color\":\"#2a3f5f\"},\"error_y\":{\"color\":\"#2a3f5f\"},\"marker\":{\"line\":{\"color\":\"#E5ECF6\",\"width\":0.5},\"pattern\":{\"fillmode\":\"overlay\",\"size\":10,\"solidity\":0.2}},\"type\":\"bar\"}],\"carpet\":[{\"aaxis\":{\"endlinecolor\":\"#2a3f5f\",\"gridcolor\":\"white\",\"linecolor\":\"white\",\"minorgridcolor\":\"white\",\"startlinecolor\":\"#2a3f5f\"},\"baxis\":{\"endlinecolor\":\"#2a3f5f\",\"gridcolor\":\"white\",\"linecolor\":\"white\",\"minorgridcolor\":\"white\",\"startlinecolor\":\"#2a3f5f\"},\"type\":\"carpet\"}],\"choropleth\":[{\"colorbar\":{\"outlinewidth\":0,\"ticks\":\"\"},\"type\":\"choropleth\"}],\"contourcarpet\":[{\"colorbar\":{\"outlinewidth\":0,\"ticks\":\"\"},\"type\":\"contourcarpet\"}],\"contour\":[{\"colorbar\":{\"outlinewidth\":0,\"ticks\":\"\"},\"colorscale\":[[0.0,\"#0d0887\"],[0.1111111111111111,\"#46039f\"],[0.2222222222222222,\"#7201a8\"],[0.3333333333333333,\"#9c179e\"],[0.4444444444444444,\"#bd3786\"],[0.5555555555555556,\"#d8576b\"],[0.6666666666666666,\"#ed7953\"],[0.7777777777777778,\"#fb9f3a\"],[0.8888888888888888,\"#fdca26\"],[1.0,\"#f0f921\"]],\"type\":\"contour\"}],\"heatmapgl\":[{\"colorbar\":{\"outlinewidth\":0,\"ticks\":\"\"},\"colorscale\":[[0.0,\"#0d0887\"],[0.1111111111111111,\"#46039f\"],[0.2222222222222222,\"#7201a8\"],[0.3333333333333333,\"#9c179e\"],[0.4444444444444444,\"#bd3786\"],[0.5555555555555556,\"#d8576b\"],[0.6666666666666666,\"#ed7953\"],[0.7777777777777778,\"#fb9f3a\"],[0.8888888888888888,\"#fdca26\"],[1.0,\"#f0f921\"]],\"type\":\"heatmapgl\"}],\"heatmap\":[{\"colorbar\":{\"outlinewidth\":0,\"ticks\":\"\"},\"colorscale\":[[0.0,\"#0d0887\"],[0.1111111111111111,\"#46039f\"],[0.2222222222222222,\"#7201a8\"],[0.3333333333333333,\"#9c179e\"],[0.4444444444444444,\"#bd3786\"],[0.5555555555555556,\"#d8576b\"],[0.6666666666666666,\"#ed7953\"],[0.7777777777777778,\"#fb9f3a\"],[0.8888888888888888,\"#fdca26\"],[1.0,\"#f0f921\"]],\"type\":\"heatmap\"}],\"histogram2dcontour\":[{\"colorbar\":{\"outlinewidth\":0,\"ticks\":\"\"},\"colorscale\":[[0.0,\"#0d0887\"],[0.1111111111111111,\"#46039f\"],[0.2222222222222222,\"#7201a8\"],[0.3333333333333333,\"#9c179e\"],[0.4444444444444444,\"#bd3786\"],[0.5555555555555556,\"#d8576b\"],[0.6666666666666666,\"#ed7953\"],[0.7777777777777778,\"#fb9f3a\"],[0.8888888888888888,\"#fdca26\"],[1.0,\"#f0f921\"]],\"type\":\"histogram2dcontour\"}],\"histogram2d\":[{\"colorbar\":{\"outlinewidth\":0,\"ticks\":\"\"},\"colorscale\":[[0.0,\"#0d0887\"],[0.1111111111111111,\"#46039f\"],[0.2222222222222222,\"#7201a8\"],[0.3333333333333333,\"#9c179e\"],[0.4444444444444444,\"#bd3786\"],[0.5555555555555556,\"#d8576b\"],[0.6666666666666666,\"#ed7953\"],[0.7777777777777778,\"#fb9f3a\"],[0.8888888888888888,\"#fdca26\"],[1.0,\"#f0f921\"]],\"type\":\"histogram2d\"}],\"histogram\":[{\"marker\":{\"pattern\":{\"fillmode\":\"overlay\",\"size\":10,\"solidity\":0.2}},\"type\":\"histogram\"}],\"mesh3d\":[{\"colorbar\":{\"outlinewidth\":0,\"ticks\":\"\"},\"type\":\"mesh3d\"}],\"parcoords\":[{\"line\":{\"colorbar\":{\"outlinewidth\":0,\"ticks\":\"\"}},\"type\":\"parcoords\"}],\"pie\":[{\"automargin\":true,\"type\":\"pie\"}],\"scatter3d\":[{\"line\":{\"colorbar\":{\"outlinewidth\":0,\"ticks\":\"\"}},\"marker\":{\"colorbar\":{\"outlinewidth\":0,\"ticks\":\"\"}},\"type\":\"scatter3d\"}],\"scattercarpet\":[{\"marker\":{\"colorbar\":{\"outlinewidth\":0,\"ticks\":\"\"}},\"type\":\"scattercarpet\"}],\"scattergeo\":[{\"marker\":{\"colorbar\":{\"outlinewidth\":0,\"ticks\":\"\"}},\"type\":\"scattergeo\"}],\"scattergl\":[{\"marker\":{\"colorbar\":{\"outlinewidth\":0,\"ticks\":\"\"}},\"type\":\"scattergl\"}],\"scattermapbox\":[{\"marker\":{\"colorbar\":{\"outlinewidth\":0,\"ticks\":\"\"}},\"type\":\"scattermapbox\"}],\"scatterpolargl\":[{\"marker\":{\"colorbar\":{\"outlinewidth\":0,\"ticks\":\"\"}},\"type\":\"scatterpolargl\"}],\"scatterpolar\":[{\"marker\":{\"colorbar\":{\"outlinewidth\":0,\"ticks\":\"\"}},\"type\":\"scatterpolar\"}],\"scatter\":[{\"fillpattern\":{\"fillmode\":\"overlay\",\"size\":10,\"solidity\":0.2},\"type\":\"scatter\"}],\"scatterternary\":[{\"marker\":{\"colorbar\":{\"outlinewidth\":0,\"ticks\":\"\"}},\"type\":\"scatterternary\"}],\"surface\":[{\"colorbar\":{\"outlinewidth\":0,\"ticks\":\"\"},\"colorscale\":[[0.0,\"#0d0887\"],[0.1111111111111111,\"#46039f\"],[0.2222222222222222,\"#7201a8\"],[0.3333333333333333,\"#9c179e\"],[0.4444444444444444,\"#bd3786\"],[0.5555555555555556,\"#d8576b\"],[0.6666666666666666,\"#ed7953\"],[0.7777777777777778,\"#fb9f3a\"],[0.8888888888888888,\"#fdca26\"],[1.0,\"#f0f921\"]],\"type\":\"surface\"}],\"table\":[{\"cells\":{\"fill\":{\"color\":\"#EBF0F8\"},\"line\":{\"color\":\"white\"}},\"header\":{\"fill\":{\"color\":\"#C8D4E3\"},\"line\":{\"color\":\"white\"}},\"type\":\"table\"}]},\"layout\":{\"annotationdefaults\":{\"arrowcolor\":\"#2a3f5f\",\"arrowhead\":0,\"arrowwidth\":1},\"autotypenumbers\":\"strict\",\"coloraxis\":{\"colorbar\":{\"outlinewidth\":0,\"ticks\":\"\"}},\"colorscale\":{\"diverging\":[[0,\"#8e0152\"],[0.1,\"#c51b7d\"],[0.2,\"#de77ae\"],[0.3,\"#f1b6da\"],[0.4,\"#fde0ef\"],[0.5,\"#f7f7f7\"],[0.6,\"#e6f5d0\"],[0.7,\"#b8e186\"],[0.8,\"#7fbc41\"],[0.9,\"#4d9221\"],[1,\"#276419\"]],\"sequential\":[[0.0,\"#0d0887\"],[0.1111111111111111,\"#46039f\"],[0.2222222222222222,\"#7201a8\"],[0.3333333333333333,\"#9c179e\"],[0.4444444444444444,\"#bd3786\"],[0.5555555555555556,\"#d8576b\"],[0.6666666666666666,\"#ed7953\"],[0.7777777777777778,\"#fb9f3a\"],[0.8888888888888888,\"#fdca26\"],[1.0,\"#f0f921\"]],\"sequentialminus\":[[0.0,\"#0d0887\"],[0.1111111111111111,\"#46039f\"],[0.2222222222222222,\"#7201a8\"],[0.3333333333333333,\"#9c179e\"],[0.4444444444444444,\"#bd3786\"],[0.5555555555555556,\"#d8576b\"],[0.6666666666666666,\"#ed7953\"],[0.7777777777777778,\"#fb9f3a\"],[0.8888888888888888,\"#fdca26\"],[1.0,\"#f0f921\"]]},\"colorway\":[\"#636efa\",\"#EF553B\",\"#00cc96\",\"#ab63fa\",\"#FFA15A\",\"#19d3f3\",\"#FF6692\",\"#B6E880\",\"#FF97FF\",\"#FECB52\"],\"font\":{\"color\":\"#2a3f5f\"},\"geo\":{\"bgcolor\":\"white\",\"lakecolor\":\"white\",\"landcolor\":\"#E5ECF6\",\"showlakes\":true,\"showland\":true,\"subunitcolor\":\"white\"},\"hoverlabel\":{\"align\":\"left\"},\"hovermode\":\"closest\",\"mapbox\":{\"style\":\"light\"},\"paper_bgcolor\":\"white\",\"plot_bgcolor\":\"#E5ECF6\",\"polar\":{\"angularaxis\":{\"gridcolor\":\"white\",\"linecolor\":\"white\",\"ticks\":\"\"},\"bgcolor\":\"#E5ECF6\",\"radialaxis\":{\"gridcolor\":\"white\",\"linecolor\":\"white\",\"ticks\":\"\"}},\"scene\":{\"xaxis\":{\"backgroundcolor\":\"#E5ECF6\",\"gridcolor\":\"white\",\"gridwidth\":2,\"linecolor\":\"white\",\"showbackground\":true,\"ticks\":\"\",\"zerolinecolor\":\"white\"},\"yaxis\":{\"backgroundcolor\":\"#E5ECF6\",\"gridcolor\":\"white\",\"gridwidth\":2,\"linecolor\":\"white\",\"showbackground\":true,\"ticks\":\"\",\"zerolinecolor\":\"white\"},\"zaxis\":{\"backgroundcolor\":\"#E5ECF6\",\"gridcolor\":\"white\",\"gridwidth\":2,\"linecolor\":\"white\",\"showbackground\":true,\"ticks\":\"\",\"zerolinecolor\":\"white\"}},\"shapedefaults\":{\"line\":{\"color\":\"#2a3f5f\"}},\"ternary\":{\"aaxis\":{\"gridcolor\":\"white\",\"linecolor\":\"white\",\"ticks\":\"\"},\"baxis\":{\"gridcolor\":\"white\",\"linecolor\":\"white\",\"ticks\":\"\"},\"bgcolor\":\"#E5ECF6\",\"caxis\":{\"gridcolor\":\"white\",\"linecolor\":\"white\",\"ticks\":\"\"}},\"title\":{\"x\":0.05},\"xaxis\":{\"automargin\":true,\"gridcolor\":\"white\",\"linecolor\":\"white\",\"ticks\":\"\",\"title\":{\"standoff\":15},\"zerolinecolor\":\"white\",\"zerolinewidth\":2},\"yaxis\":{\"automargin\":true,\"gridcolor\":\"white\",\"linecolor\":\"white\",\"ticks\":\"\",\"title\":{\"standoff\":15},\"zerolinecolor\":\"white\",\"zerolinewidth\":2}}},\"title\":{\"text\":\"Bar Graph showing the Percentage of Women Within Lebanese Villages\"},\"yaxis\":{\"range\":[0,100]}},                        {\"responsive\": true}                    ).then(function(){\n",
       "                            \n",
       "var gd = document.getElementById('732d3e82-8d71-4d8a-b47e-823bcfe7e5af');\n",
       "var x = new MutationObserver(function (mutations, observer) {{\n",
       "        var display = window.getComputedStyle(gd).display;\n",
       "        if (!display || display === 'none') {{\n",
       "            console.log([gd, 'removed!']);\n",
       "            Plotly.purge(gd);\n",
       "            observer.disconnect();\n",
       "        }}\n",
       "}});\n",
       "\n",
       "// Listen for the removal of the full notebook cells\n",
       "var notebookContainer = gd.closest('#notebook-container');\n",
       "if (notebookContainer) {{\n",
       "    x.observe(notebookContainer, {childList: true});\n",
       "}}\n",
       "\n",
       "// Listen for the clearing of the current output cell\n",
       "var outputEl = gd.closest('.output');\n",
       "if (outputEl) {{\n",
       "    x.observe(outputEl, {childList: true});\n",
       "}}\n",
       "\n",
       "                        })                };                });            </script>        </div>"
      ]
     },
     "metadata": {},
     "output_type": "display_data"
    }
   ],
   "source": [
    "p1 = [go.Bar(x=df.iloc[:, 4], y=df.iloc[:, 0])]\n",
    "layout = go.Layout(yaxis=dict(range=[0, 100]),title = 'Bar Graph showing the Percentage of Women Within Lebanese Villages')\n",
    "fig = go.Figure(data=p1, layout=layout)\n",
    "py.iplot(fig, filename='bar')"
   ]
  },
  {
   "cell_type": "code",
   "execution_count": 15,
   "id": "a3b4cccd-7d84-4d3c-a4bd-7bd66ead9fe6",
   "metadata": {},
   "outputs": [
    {
     "data": {
      "application/vnd.plotly.v1+json": {
       "config": {
        "linkText": "Export to plot.ly",
        "plotlyServerURL": "https://plot.ly",
        "showLink": false
       },
       "data": [
        {
         "labels": [
          "4 to 6 members",
          "7 or more members",
          "1 to 3 members"
         ],
         "type": "pie",
         "values": [
          2,
          0,
          121
         ]
        }
       ],
       "layout": {
        "autosize": true,
        "template": {
         "data": {
          "bar": [
           {
            "error_x": {
             "color": "#2a3f5f"
            },
            "error_y": {
             "color": "#2a3f5f"
            },
            "marker": {
             "line": {
              "color": "#E5ECF6",
              "width": 0.5
             },
             "pattern": {
              "fillmode": "overlay",
              "size": 10,
              "solidity": 0.2
             }
            },
            "type": "bar"
           }
          ],
          "barpolar": [
           {
            "marker": {
             "line": {
              "color": "#E5ECF6",
              "width": 0.5
             },
             "pattern": {
              "fillmode": "overlay",
              "size": 10,
              "solidity": 0.2
             }
            },
            "type": "barpolar"
           }
          ],
          "carpet": [
           {
            "aaxis": {
             "endlinecolor": "#2a3f5f",
             "gridcolor": "white",
             "linecolor": "white",
             "minorgridcolor": "white",
             "startlinecolor": "#2a3f5f"
            },
            "baxis": {
             "endlinecolor": "#2a3f5f",
             "gridcolor": "white",
             "linecolor": "white",
             "minorgridcolor": "white",
             "startlinecolor": "#2a3f5f"
            },
            "type": "carpet"
           }
          ],
          "choropleth": [
           {
            "colorbar": {
             "outlinewidth": 0,
             "ticks": ""
            },
            "type": "choropleth"
           }
          ],
          "contour": [
           {
            "colorbar": {
             "outlinewidth": 0,
             "ticks": ""
            },
            "colorscale": [
             [
              0,
              "#0d0887"
             ],
             [
              0.1111111111111111,
              "#46039f"
             ],
             [
              0.2222222222222222,
              "#7201a8"
             ],
             [
              0.3333333333333333,
              "#9c179e"
             ],
             [
              0.4444444444444444,
              "#bd3786"
             ],
             [
              0.5555555555555556,
              "#d8576b"
             ],
             [
              0.6666666666666666,
              "#ed7953"
             ],
             [
              0.7777777777777778,
              "#fb9f3a"
             ],
             [
              0.8888888888888888,
              "#fdca26"
             ],
             [
              1,
              "#f0f921"
             ]
            ],
            "type": "contour"
           }
          ],
          "contourcarpet": [
           {
            "colorbar": {
             "outlinewidth": 0,
             "ticks": ""
            },
            "type": "contourcarpet"
           }
          ],
          "heatmap": [
           {
            "colorbar": {
             "outlinewidth": 0,
             "ticks": ""
            },
            "colorscale": [
             [
              0,
              "#0d0887"
             ],
             [
              0.1111111111111111,
              "#46039f"
             ],
             [
              0.2222222222222222,
              "#7201a8"
             ],
             [
              0.3333333333333333,
              "#9c179e"
             ],
             [
              0.4444444444444444,
              "#bd3786"
             ],
             [
              0.5555555555555556,
              "#d8576b"
             ],
             [
              0.6666666666666666,
              "#ed7953"
             ],
             [
              0.7777777777777778,
              "#fb9f3a"
             ],
             [
              0.8888888888888888,
              "#fdca26"
             ],
             [
              1,
              "#f0f921"
             ]
            ],
            "type": "heatmap"
           }
          ],
          "heatmapgl": [
           {
            "colorbar": {
             "outlinewidth": 0,
             "ticks": ""
            },
            "colorscale": [
             [
              0,
              "#0d0887"
             ],
             [
              0.1111111111111111,
              "#46039f"
             ],
             [
              0.2222222222222222,
              "#7201a8"
             ],
             [
              0.3333333333333333,
              "#9c179e"
             ],
             [
              0.4444444444444444,
              "#bd3786"
             ],
             [
              0.5555555555555556,
              "#d8576b"
             ],
             [
              0.6666666666666666,
              "#ed7953"
             ],
             [
              0.7777777777777778,
              "#fb9f3a"
             ],
             [
              0.8888888888888888,
              "#fdca26"
             ],
             [
              1,
              "#f0f921"
             ]
            ],
            "type": "heatmapgl"
           }
          ],
          "histogram": [
           {
            "marker": {
             "pattern": {
              "fillmode": "overlay",
              "size": 10,
              "solidity": 0.2
             }
            },
            "type": "histogram"
           }
          ],
          "histogram2d": [
           {
            "colorbar": {
             "outlinewidth": 0,
             "ticks": ""
            },
            "colorscale": [
             [
              0,
              "#0d0887"
             ],
             [
              0.1111111111111111,
              "#46039f"
             ],
             [
              0.2222222222222222,
              "#7201a8"
             ],
             [
              0.3333333333333333,
              "#9c179e"
             ],
             [
              0.4444444444444444,
              "#bd3786"
             ],
             [
              0.5555555555555556,
              "#d8576b"
             ],
             [
              0.6666666666666666,
              "#ed7953"
             ],
             [
              0.7777777777777778,
              "#fb9f3a"
             ],
             [
              0.8888888888888888,
              "#fdca26"
             ],
             [
              1,
              "#f0f921"
             ]
            ],
            "type": "histogram2d"
           }
          ],
          "histogram2dcontour": [
           {
            "colorbar": {
             "outlinewidth": 0,
             "ticks": ""
            },
            "colorscale": [
             [
              0,
              "#0d0887"
             ],
             [
              0.1111111111111111,
              "#46039f"
             ],
             [
              0.2222222222222222,
              "#7201a8"
             ],
             [
              0.3333333333333333,
              "#9c179e"
             ],
             [
              0.4444444444444444,
              "#bd3786"
             ],
             [
              0.5555555555555556,
              "#d8576b"
             ],
             [
              0.6666666666666666,
              "#ed7953"
             ],
             [
              0.7777777777777778,
              "#fb9f3a"
             ],
             [
              0.8888888888888888,
              "#fdca26"
             ],
             [
              1,
              "#f0f921"
             ]
            ],
            "type": "histogram2dcontour"
           }
          ],
          "mesh3d": [
           {
            "colorbar": {
             "outlinewidth": 0,
             "ticks": ""
            },
            "type": "mesh3d"
           }
          ],
          "parcoords": [
           {
            "line": {
             "colorbar": {
              "outlinewidth": 0,
              "ticks": ""
             }
            },
            "type": "parcoords"
           }
          ],
          "pie": [
           {
            "automargin": true,
            "type": "pie"
           }
          ],
          "scatter": [
           {
            "fillpattern": {
             "fillmode": "overlay",
             "size": 10,
             "solidity": 0.2
            },
            "type": "scatter"
           }
          ],
          "scatter3d": [
           {
            "line": {
             "colorbar": {
              "outlinewidth": 0,
              "ticks": ""
             }
            },
            "marker": {
             "colorbar": {
              "outlinewidth": 0,
              "ticks": ""
             }
            },
            "type": "scatter3d"
           }
          ],
          "scattercarpet": [
           {
            "marker": {
             "colorbar": {
              "outlinewidth": 0,
              "ticks": ""
             }
            },
            "type": "scattercarpet"
           }
          ],
          "scattergeo": [
           {
            "marker": {
             "colorbar": {
              "outlinewidth": 0,
              "ticks": ""
             }
            },
            "type": "scattergeo"
           }
          ],
          "scattergl": [
           {
            "marker": {
             "colorbar": {
              "outlinewidth": 0,
              "ticks": ""
             }
            },
            "type": "scattergl"
           }
          ],
          "scattermapbox": [
           {
            "marker": {
             "colorbar": {
              "outlinewidth": 0,
              "ticks": ""
             }
            },
            "type": "scattermapbox"
           }
          ],
          "scatterpolar": [
           {
            "marker": {
             "colorbar": {
              "outlinewidth": 0,
              "ticks": ""
             }
            },
            "type": "scatterpolar"
           }
          ],
          "scatterpolargl": [
           {
            "marker": {
             "colorbar": {
              "outlinewidth": 0,
              "ticks": ""
             }
            },
            "type": "scatterpolargl"
           }
          ],
          "scatterternary": [
           {
            "marker": {
             "colorbar": {
              "outlinewidth": 0,
              "ticks": ""
             }
            },
            "type": "scatterternary"
           }
          ],
          "surface": [
           {
            "colorbar": {
             "outlinewidth": 0,
             "ticks": ""
            },
            "colorscale": [
             [
              0,
              "#0d0887"
             ],
             [
              0.1111111111111111,
              "#46039f"
             ],
             [
              0.2222222222222222,
              "#7201a8"
             ],
             [
              0.3333333333333333,
              "#9c179e"
             ],
             [
              0.4444444444444444,
              "#bd3786"
             ],
             [
              0.5555555555555556,
              "#d8576b"
             ],
             [
              0.6666666666666666,
              "#ed7953"
             ],
             [
              0.7777777777777778,
              "#fb9f3a"
             ],
             [
              0.8888888888888888,
              "#fdca26"
             ],
             [
              1,
              "#f0f921"
             ]
            ],
            "type": "surface"
           }
          ],
          "table": [
           {
            "cells": {
             "fill": {
              "color": "#EBF0F8"
             },
             "line": {
              "color": "white"
             }
            },
            "header": {
             "fill": {
              "color": "#C8D4E3"
             },
             "line": {
              "color": "white"
             }
            },
            "type": "table"
           }
          ]
         },
         "layout": {
          "annotationdefaults": {
           "arrowcolor": "#2a3f5f",
           "arrowhead": 0,
           "arrowwidth": 1
          },
          "autotypenumbers": "strict",
          "coloraxis": {
           "colorbar": {
            "outlinewidth": 0,
            "ticks": ""
           }
          },
          "colorscale": {
           "diverging": [
            [
             0,
             "#8e0152"
            ],
            [
             0.1,
             "#c51b7d"
            ],
            [
             0.2,
             "#de77ae"
            ],
            [
             0.3,
             "#f1b6da"
            ],
            [
             0.4,
             "#fde0ef"
            ],
            [
             0.5,
             "#f7f7f7"
            ],
            [
             0.6,
             "#e6f5d0"
            ],
            [
             0.7,
             "#b8e186"
            ],
            [
             0.8,
             "#7fbc41"
            ],
            [
             0.9,
             "#4d9221"
            ],
            [
             1,
             "#276419"
            ]
           ],
           "sequential": [
            [
             0,
             "#0d0887"
            ],
            [
             0.1111111111111111,
             "#46039f"
            ],
            [
             0.2222222222222222,
             "#7201a8"
            ],
            [
             0.3333333333333333,
             "#9c179e"
            ],
            [
             0.4444444444444444,
             "#bd3786"
            ],
            [
             0.5555555555555556,
             "#d8576b"
            ],
            [
             0.6666666666666666,
             "#ed7953"
            ],
            [
             0.7777777777777778,
             "#fb9f3a"
            ],
            [
             0.8888888888888888,
             "#fdca26"
            ],
            [
             1,
             "#f0f921"
            ]
           ],
           "sequentialminus": [
            [
             0,
             "#0d0887"
            ],
            [
             0.1111111111111111,
             "#46039f"
            ],
            [
             0.2222222222222222,
             "#7201a8"
            ],
            [
             0.3333333333333333,
             "#9c179e"
            ],
            [
             0.4444444444444444,
             "#bd3786"
            ],
            [
             0.5555555555555556,
             "#d8576b"
            ],
            [
             0.6666666666666666,
             "#ed7953"
            ],
            [
             0.7777777777777778,
             "#fb9f3a"
            ],
            [
             0.8888888888888888,
             "#fdca26"
            ],
            [
             1,
             "#f0f921"
            ]
           ]
          },
          "colorway": [
           "#636efa",
           "#EF553B",
           "#00cc96",
           "#ab63fa",
           "#FFA15A",
           "#19d3f3",
           "#FF6692",
           "#B6E880",
           "#FF97FF",
           "#FECB52"
          ],
          "font": {
           "color": "#2a3f5f"
          },
          "geo": {
           "bgcolor": "white",
           "lakecolor": "white",
           "landcolor": "#E5ECF6",
           "showlakes": true,
           "showland": true,
           "subunitcolor": "white"
          },
          "hoverlabel": {
           "align": "left"
          },
          "hovermode": "closest",
          "mapbox": {
           "style": "light"
          },
          "paper_bgcolor": "white",
          "plot_bgcolor": "#E5ECF6",
          "polar": {
           "angularaxis": {
            "gridcolor": "white",
            "linecolor": "white",
            "ticks": ""
           },
           "bgcolor": "#E5ECF6",
           "radialaxis": {
            "gridcolor": "white",
            "linecolor": "white",
            "ticks": ""
           }
          },
          "scene": {
           "xaxis": {
            "backgroundcolor": "#E5ECF6",
            "gridcolor": "white",
            "gridwidth": 2,
            "linecolor": "white",
            "showbackground": true,
            "ticks": "",
            "zerolinecolor": "white"
           },
           "yaxis": {
            "backgroundcolor": "#E5ECF6",
            "gridcolor": "white",
            "gridwidth": 2,
            "linecolor": "white",
            "showbackground": true,
            "ticks": "",
            "zerolinecolor": "white"
           },
           "zaxis": {
            "backgroundcolor": "#E5ECF6",
            "gridcolor": "white",
            "gridwidth": 2,
            "linecolor": "white",
            "showbackground": true,
            "ticks": "",
            "zerolinecolor": "white"
           }
          },
          "shapedefaults": {
           "line": {
            "color": "#2a3f5f"
           }
          },
          "ternary": {
           "aaxis": {
            "gridcolor": "white",
            "linecolor": "white",
            "ticks": ""
           },
           "baxis": {
            "gridcolor": "white",
            "linecolor": "white",
            "ticks": ""
           },
           "bgcolor": "#E5ECF6",
           "caxis": {
            "gridcolor": "white",
            "linecolor": "white",
            "ticks": ""
           }
          },
          "title": {
           "x": 0.05
          },
          "xaxis": {
           "automargin": true,
           "gridcolor": "white",
           "linecolor": "white",
           "ticks": "",
           "title": {
            "standoff": 15
           },
           "zerolinecolor": "white",
           "zerolinewidth": 2
          },
          "yaxis": {
           "automargin": true,
           "gridcolor": "white",
           "linecolor": "white",
           "ticks": "",
           "title": {
            "standoff": 15
           },
           "zerolinecolor": "white",
           "zerolinewidth": 2
          }
         }
        },
        "title": {
         "text": "Pie Chart showing the Family Size Distribution Among Lebanese Villages"
        }
       }
      },
      "image/png": "[encoded data removed]",
      "text/html": [
       "<div>                            <div id=\"b93275ac-1304-45f8-b78c-94f6752e81bb\" class=\"plotly-graph-div\" style=\"height:525px; width:100%;\"></div>            <script type=\"text/javascript\">                require([\"plotly\"], function(Plotly) {                    window.PLOTLYENV=window.PLOTLYENV || {};                                    if (document.getElementById(\"b93275ac-1304-45f8-b78c-94f6752e81bb\")) {                    Plotly.newPlot(                        \"b93275ac-1304-45f8-b78c-94f6752e81bb\",                        [{\"labels\":[\"4 to 6 members\",\"7 or more members\",\"1 to 3 members\"],\"values\":[2,0,121],\"type\":\"pie\"}],                        {\"template\":{\"data\":{\"barpolar\":[{\"marker\":{\"line\":{\"color\":\"#E5ECF6\",\"width\":0.5},\"pattern\":{\"fillmode\":\"overlay\",\"size\":10,\"solidity\":0.2}},\"type\":\"barpolar\"}],\"bar\":[{\"error_x\":{\"color\":\"#2a3f5f\"},\"error_y\":{\"color\":\"#2a3f5f\"},\"marker\":{\"line\":{\"color\":\"#E5ECF6\",\"width\":0.5},\"pattern\":{\"fillmode\":\"overlay\",\"size\":10,\"solidity\":0.2}},\"type\":\"bar\"}],\"carpet\":[{\"aaxis\":{\"endlinecolor\":\"#2a3f5f\",\"gridcolor\":\"white\",\"linecolor\":\"white\",\"minorgridcolor\":\"white\",\"startlinecolor\":\"#2a3f5f\"},\"baxis\":{\"endlinecolor\":\"#2a3f5f\",\"gridcolor\":\"white\",\"linecolor\":\"white\",\"minorgridcolor\":\"white\",\"startlinecolor\":\"#2a3f5f\"},\"type\":\"carpet\"}],\"choropleth\":[{\"colorbar\":{\"outlinewidth\":0,\"ticks\":\"\"},\"type\":\"choropleth\"}],\"contourcarpet\":[{\"colorbar\":{\"outlinewidth\":0,\"ticks\":\"\"},\"type\":\"contourcarpet\"}],\"contour\":[{\"colorbar\":{\"outlinewidth\":0,\"ticks\":\"\"},\"colorscale\":[[0.0,\"#0d0887\"],[0.1111111111111111,\"#46039f\"],[0.2222222222222222,\"#7201a8\"],[0.3333333333333333,\"#9c179e\"],[0.4444444444444444,\"#bd3786\"],[0.5555555555555556,\"#d8576b\"],[0.6666666666666666,\"#ed7953\"],[0.7777777777777778,\"#fb9f3a\"],[0.8888888888888888,\"#fdca26\"],[1.0,\"#f0f921\"]],\"type\":\"contour\"}],\"heatmapgl\":[{\"colorbar\":{\"outlinewidth\":0,\"ticks\":\"\"},\"colorscale\":[[0.0,\"#0d0887\"],[0.1111111111111111,\"#46039f\"],[0.2222222222222222,\"#7201a8\"],[0.3333333333333333,\"#9c179e\"],[0.4444444444444444,\"#bd3786\"],[0.5555555555555556,\"#d8576b\"],[0.6666666666666666,\"#ed7953\"],[0.7777777777777778,\"#fb9f3a\"],[0.8888888888888888,\"#fdca26\"],[1.0,\"#f0f921\"]],\"type\":\"heatmapgl\"}],\"heatmap\":[{\"colorbar\":{\"outlinewidth\":0,\"ticks\":\"\"},\"colorscale\":[[0.0,\"#0d0887\"],[0.1111111111111111,\"#46039f\"],[0.2222222222222222,\"#7201a8\"],[0.3333333333333333,\"#9c179e\"],[0.4444444444444444,\"#bd3786\"],[0.5555555555555556,\"#d8576b\"],[0.6666666666666666,\"#ed7953\"],[0.7777777777777778,\"#fb9f3a\"],[0.8888888888888888,\"#fdca26\"],[1.0,\"#f0f921\"]],\"type\":\"heatmap\"}],\"histogram2dcontour\":[{\"colorbar\":{\"outlinewidth\":0,\"ticks\":\"\"},\"colorscale\":[[0.0,\"#0d0887\"],[0.1111111111111111,\"#46039f\"],[0.2222222222222222,\"#7201a8\"],[0.3333333333333333,\"#9c179e\"],[0.4444444444444444,\"#bd3786\"],[0.5555555555555556,\"#d8576b\"],[0.6666666666666666,\"#ed7953\"],[0.7777777777777778,\"#fb9f3a\"],[0.8888888888888888,\"#fdca26\"],[1.0,\"#f0f921\"]],\"type\":\"histogram2dcontour\"}],\"histogram2d\":[{\"colorbar\":{\"outlinewidth\":0,\"ticks\":\"\"},\"colorscale\":[[0.0,\"#0d0887\"],[0.1111111111111111,\"#46039f\"],[0.2222222222222222,\"#7201a8\"],[0.3333333333333333,\"#9c179e\"],[0.4444444444444444,\"#bd3786\"],[0.5555555555555556,\"#d8576b\"],[0.6666666666666666,\"#ed7953\"],[0.7777777777777778,\"#fb9f3a\"],[0.8888888888888888,\"#fdca26\"],[1.0,\"#f0f921\"]],\"type\":\"histogram2d\"}],\"histogram\":[{\"marker\":{\"pattern\":{\"fillmode\":\"overlay\",\"size\":10,\"solidity\":0.2}},\"type\":\"histogram\"}],\"mesh3d\":[{\"colorbar\":{\"outlinewidth\":0,\"ticks\":\"\"},\"type\":\"mesh3d\"}],\"parcoords\":[{\"line\":{\"colorbar\":{\"outlinewidth\":0,\"ticks\":\"\"}},\"type\":\"parcoords\"}],\"pie\":[{\"automargin\":true,\"type\":\"pie\"}],\"scatter3d\":[{\"line\":{\"colorbar\":{\"outlinewidth\":0,\"ticks\":\"\"}},\"marker\":{\"colorbar\":{\"outlinewidth\":0,\"ticks\":\"\"}},\"type\":\"scatter3d\"}],\"scattercarpet\":[{\"marker\":{\"colorbar\":{\"outlinewidth\":0,\"ticks\":\"\"}},\"type\":\"scattercarpet\"}],\"scattergeo\":[{\"marker\":{\"colorbar\":{\"outlinewidth\":0,\"ticks\":\"\"}},\"type\":\"scattergeo\"}],\"scattergl\":[{\"marker\":{\"colorbar\":{\"outlinewidth\":0,\"ticks\":\"\"}},\"type\":\"scattergl\"}],\"scattermapbox\":[{\"marker\":{\"colorbar\":{\"outlinewidth\":0,\"ticks\":\"\"}},\"type\":\"scattermapbox\"}],\"scatterpolargl\":[{\"marker\":{\"colorbar\":{\"outlinewidth\":0,\"ticks\":\"\"}},\"type\":\"scatterpolargl\"}],\"scatterpolar\":[{\"marker\":{\"colorbar\":{\"outlinewidth\":0,\"ticks\":\"\"}},\"type\":\"scatterpolar\"}],\"scatter\":[{\"fillpattern\":{\"fillmode\":\"overlay\",\"size\":10,\"solidity\":0.2},\"type\":\"scatter\"}],\"scatterternary\":[{\"marker\":{\"colorbar\":{\"outlinewidth\":0,\"ticks\":\"\"}},\"type\":\"scatterternary\"}],\"surface\":[{\"colorbar\":{\"outlinewidth\":0,\"ticks\":\"\"},\"colorscale\":[[0.0,\"#0d0887\"],[0.1111111111111111,\"#46039f\"],[0.2222222222222222,\"#7201a8\"],[0.3333333333333333,\"#9c179e\"],[0.4444444444444444,\"#bd3786\"],[0.5555555555555556,\"#d8576b\"],[0.6666666666666666,\"#ed7953\"],[0.7777777777777778,\"#fb9f3a\"],[0.8888888888888888,\"#fdca26\"],[1.0,\"#f0f921\"]],\"type\":\"surface\"}],\"table\":[{\"cells\":{\"fill\":{\"color\":\"#EBF0F8\"},\"line\":{\"color\":\"white\"}},\"header\":{\"fill\":{\"color\":\"#C8D4E3\"},\"line\":{\"color\":\"white\"}},\"type\":\"table\"}]},\"layout\":{\"annotationdefaults\":{\"arrowcolor\":\"#2a3f5f\",\"arrowhead\":0,\"arrowwidth\":1},\"autotypenumbers\":\"strict\",\"coloraxis\":{\"colorbar\":{\"outlinewidth\":0,\"ticks\":\"\"}},\"colorscale\":{\"diverging\":[[0,\"#8e0152\"],[0.1,\"#c51b7d\"],[0.2,\"#de77ae\"],[0.3,\"#f1b6da\"],[0.4,\"#fde0ef\"],[0.5,\"#f7f7f7\"],[0.6,\"#e6f5d0\"],[0.7,\"#b8e186\"],[0.8,\"#7fbc41\"],[0.9,\"#4d9221\"],[1,\"#276419\"]],\"sequential\":[[0.0,\"#0d0887\"],[0.1111111111111111,\"#46039f\"],[0.2222222222222222,\"#7201a8\"],[0.3333333333333333,\"#9c179e\"],[0.4444444444444444,\"#bd3786\"],[0.5555555555555556,\"#d8576b\"],[0.6666666666666666,\"#ed7953\"],[0.7777777777777778,\"#fb9f3a\"],[0.8888888888888888,\"#fdca26\"],[1.0,\"#f0f921\"]],\"sequentialminus\":[[0.0,\"#0d0887\"],[0.1111111111111111,\"#46039f\"],[0.2222222222222222,\"#7201a8\"],[0.3333333333333333,\"#9c179e\"],[0.4444444444444444,\"#bd3786\"],[0.5555555555555556,\"#d8576b\"],[0.6666666666666666,\"#ed7953\"],[0.7777777777777778,\"#fb9f3a\"],[0.8888888888888888,\"#fdca26\"],[1.0,\"#f0f921\"]]},\"colorway\":[\"#636efa\",\"#EF553B\",\"#00cc96\",\"#ab63fa\",\"#FFA15A\",\"#19d3f3\",\"#FF6692\",\"#B6E880\",\"#FF97FF\",\"#FECB52\"],\"font\":{\"color\":\"#2a3f5f\"},\"geo\":{\"bgcolor\":\"white\",\"lakecolor\":\"white\",\"landcolor\":\"#E5ECF6\",\"showlakes\":true,\"showland\":true,\"subunitcolor\":\"white\"},\"hoverlabel\":{\"align\":\"left\"},\"hovermode\":\"closest\",\"mapbox\":{\"style\":\"light\"},\"paper_bgcolor\":\"white\",\"plot_bgcolor\":\"#E5ECF6\",\"polar\":{\"angularaxis\":{\"gridcolor\":\"white\",\"linecolor\":\"white\",\"ticks\":\"\"},\"bgcolor\":\"#E5ECF6\",\"radialaxis\":{\"gridcolor\":\"white\",\"linecolor\":\"white\",\"ticks\":\"\"}},\"scene\":{\"xaxis\":{\"backgroundcolor\":\"#E5ECF6\",\"gridcolor\":\"white\",\"gridwidth\":2,\"linecolor\":\"white\",\"showbackground\":true,\"ticks\":\"\",\"zerolinecolor\":\"white\"},\"yaxis\":{\"backgroundcolor\":\"#E5ECF6\",\"gridcolor\":\"white\",\"gridwidth\":2,\"linecolor\":\"white\",\"showbackground\":true,\"ticks\":\"\",\"zerolinecolor\":\"white\"},\"zaxis\":{\"backgroundcolor\":\"#E5ECF6\",\"gridcolor\":\"white\",\"gridwidth\":2,\"linecolor\":\"white\",\"showbackground\":true,\"ticks\":\"\",\"zerolinecolor\":\"white\"}},\"shapedefaults\":{\"line\":{\"color\":\"#2a3f5f\"}},\"ternary\":{\"aaxis\":{\"gridcolor\":\"white\",\"linecolor\":\"white\",\"ticks\":\"\"},\"baxis\":{\"gridcolor\":\"white\",\"linecolor\":\"white\",\"ticks\":\"\"},\"bgcolor\":\"#E5ECF6\",\"caxis\":{\"gridcolor\":\"white\",\"linecolor\":\"white\",\"ticks\":\"\"}},\"title\":{\"x\":0.05},\"xaxis\":{\"automargin\":true,\"gridcolor\":\"white\",\"linecolor\":\"white\",\"ticks\":\"\",\"title\":{\"standoff\":15},\"zerolinecolor\":\"white\",\"zerolinewidth\":2},\"yaxis\":{\"automargin\":true,\"gridcolor\":\"white\",\"linecolor\":\"white\",\"ticks\":\"\",\"title\":{\"standoff\":15},\"zerolinecolor\":\"white\",\"zerolinewidth\":2}}},\"title\":{\"text\":\"Pie Chart showing the Family Size Distribution Among Lebanese Villages\"}},                        {\"responsive\": true}                    ).then(function(){\n",
       "                            \n",
       "var gd = document.getElementById('b93275ac-1304-45f8-b78c-94f6752e81bb');\n",
       "var x = new MutationObserver(function (mutations, observer) {{\n",
       "        var display = window.getComputedStyle(gd).display;\n",
       "        if (!display || display === 'none') {{\n",
       "            console.log([gd, 'removed!']);\n",
       "            Plotly.purge(gd);\n",
       "            observer.disconnect();\n",
       "        }}\n",
       "}});\n",
       "\n",
       "// Listen for the removal of the full notebook cells\n",
       "var notebookContainer = gd.closest('#notebook-container');\n",
       "if (notebookContainer) {{\n",
       "    x.observe(notebookContainer, {childList: true});\n",
       "}}\n",
       "\n",
       "// Listen for the clearing of the current output cell\n",
       "var outputEl = gd.closest('.output');\n",
       "if (outputEl) {{\n",
       "    x.observe(outputEl, {childList: true});\n",
       "}}\n",
       "\n",
       "                        })                };                });            </script>        </div>"
      ]
     },
     "metadata": {},
     "output_type": "display_data"
    }
   ],
   "source": [
    "c1 = (df.iloc[:, 5] == 1).sum()\n",
    "c2 = (df.iloc[:, 6] == 1).sum()\n",
    "c3 = (df.iloc[:, 7] == 1).sum()\n",
    "Counts = [c1,c2,c3]\n",
    "Names = ['4 to 6 members','7 or more members','1 to 3 members']\n",
    "p2 = go.Pie(labels=Names, values=Counts)\n",
    "layout = go.Layout(title='Pie Chart showing the Family Size Distribution Among Lebanese Villages')\n",
    "fig = go.Figure(data=[p2],layout = layout)\n",
    "py.iplot(fig, filename='pie')"
   ]
  },
  {
   "cell_type": "code",
   "execution_count": 17,
   "id": "1a52f826-c6c0-47f1-91f4-a83fa621bb19",
   "metadata": {},
   "outputs": [
    {
     "data": {
      "application/vnd.plotly.v1+json": {
       "config": {
        "linkText": "Export to plot.ly",
        "plotlyServerURL": "https://plot.ly",
        "showLink": false
       },
       "data": [
        {
         "marker": {
          "color": [
           0,
           52,
           40,
           40,
           0,
           60,
           55,
           35,
           60,
           55,
           60,
           55,
           65,
           50,
           52,
           0,
           50,
           50,
           48,
           60,
           40,
           0,
           0,
           50,
           0,
           40,
           55,
           60,
           60,
           45,
           55,
           60,
           40,
           50,
           50,
           60,
           55,
           54,
           0,
           55,
           60,
           60,
           60,
           50,
           50,
           55,
           60,
           52,
           55,
           40,
           60,
           50,
           45,
           45,
           55,
           70,
           40,
           70,
           60,
           40,
           52,
           40,
           60,
           50,
           70,
           40,
           51,
           60,
           50,
           60,
           60,
           50,
           40,
           48,
           70,
           55,
           52,
           0,
           0,
           53,
           60,
           35,
           40,
           60,
           55,
           51,
           60,
           55,
           40,
           75,
           45,
           20,
           47,
           45,
           70,
           45,
           50,
           60,
           60,
           50.2,
           62,
           0,
           55,
           60,
           65,
           60,
           52,
           50,
           55,
           35,
           0,
           60,
           50,
           55,
           60,
           45,
           45,
           60,
           50,
           53,
           65
          ],
          "colorbar": {
           "title": {
            "text": "Percentage of Women"
           }
          },
          "colorscale": [
           [
            0,
            "#440154"
           ],
           [
            0.1111111111111111,
            "#482878"
           ],
           [
            0.2222222222222222,
            "#3e4989"
           ],
           [
            0.3333333333333333,
            "#31688e"
           ],
           [
            0.4444444444444444,
            "#26828e"
           ],
           [
            0.5555555555555556,
            "#1f9e89"
           ],
           [
            0.6666666666666666,
            "#35b779"
           ],
           [
            0.7777777777777778,
            "#6ece58"
           ],
           [
            0.8888888888888888,
            "#b5de2b"
           ],
           [
            1,
            "#fde725"
           ]
          ],
          "opacity": 0.6,
          "size": [
           0,
           52,
           40,
           40,
           0,
           60,
           55,
           35,
           60,
           55,
           60,
           55,
           65,
           50,
           52,
           0,
           50,
           50,
           48,
           60,
           40,
           0,
           0,
           50,
           0,
           40,
           55,
           60,
           60,
           45,
           55,
           60,
           40,
           50,
           50,
           60,
           55,
           54,
           0,
           55,
           60,
           60,
           60,
           50,
           50,
           55,
           60,
           52,
           55,
           40,
           60,
           50,
           45,
           45,
           55,
           70,
           40,
           70,
           60,
           40,
           52,
           40,
           60,
           50,
           70,
           40,
           51,
           60,
           50,
           60,
           60,
           50,
           40,
           48,
           70,
           55,
           52,
           0,
           0,
           53,
           60,
           35,
           40,
           60,
           55,
           51,
           60,
           55,
           40,
           75,
           45,
           20,
           47,
           45,
           70,
           45,
           50,
           60,
           60,
           50.2,
           62,
           0,
           55,
           60,
           65,
           60,
           52,
           50,
           55,
           35,
           0,
           60,
           50,
           55,
           60,
           45,
           45,
           60,
           50,
           53,
           65
          ]
         },
         "mode": "markers",
         "text": [
          "Aabdine",
          "Aain Drafil",
          "Aain Ed-Delbe",
          "Aain El Saydeh",
          "Aain El-Kharroubeh",
          "Aain Et-Teffaha",
          "Aain Harsha",
          "Aaita Ej-Jabal",
          "Aalmane Ech-Chouf",
          "Aammatour",
          "Aanout",
          "Aathrine",
          "Aayha",
          "Aayroun",
          "Aaytat",
          "Antelias-Naccache",
          "Arsoun",
          "Baisour",
          "Balloune",
          "Batroumine",
          "Batroun",
          "Bchamoun",
          "Behdaydat",
          "Beit Monzer",
          "Berti",
          "Besri Jezzine",
          "Bmahray",
          "Bnaafoul",
          "Bnabil",
          "Bohwara",
          "Borj Aakkar",
          "Borj En-Naqoura",
          "Bouar",
          "Bqaa Kafra",
          "Bramiyeh",
          "Breissat",
          "Bsarma",
          "Btalloun",
          "Btedine El-Leqch",
          "Bzoummar",
          "Chamate",
          "Chhim",
          "Chibtine",
          "Chimlane",
          "Chnanaair",
          "Damour",
          "Daraiya Kesrouane",
          "Deir El-Ghazal",
          "Deir Mimas",
          "Dibbine",
          "Dlebta",
          "Douma",
          "Edde El-Batroun",
          "Eghbe",
          "El Ghabe",
          "Fatre",
          "Fourzol",
          "Ghabat",
          "Ghaziyeh",
          "Hadath Ej-Jebbeh",
          "Hammana",
          "Hanaouay",
          "Haouch El Qinnabeh Rachaya",
          "Hdeine",
          "Heri",
          "Hilan",
          "Jbaa En-Nabatiyeh-Ein-Boswar",
          "Jbeil",
          "Jdaidet Ghazir",
          "Jdita",
          "Jenjlaya",
          "Jiyeh",
          "Jouret El-Ballout",
          "Kafr Harra",
          "Kaftoun",
          "Kfar Hay",
          "Kfar Jreif",
          "Kfarhata ",
          "Kfarhata Zgharta",
          "Kouakh",
          "Kour",
          "Lassa",
          "Magher wbala",
          "Mar Chaaya",
          "Mazraat Mechref",
          "Mhaiydseh Rachaya",
          "Miziara",
          "Nabi Ayla",
          "Nabi Osmane",
          "Nakhleh",
          "Nimrine",
          "Nmairiyeh",
          "Qaa Er-Rim",
          "Qahmez",
          "Qalaouiyeh",
          "Qarah Bach",
          "Qartaba",
          "Qaynour",
          "Qaytouleh",
          "Qbaiyat Aakkar",
          "Qennabet Broummana",
          "Qleiaat Aakkar",
          "Qnat",
          "Qortada",
          "Qsaibet En-Nabatiyeh",
          "Rahbeh",
          "Rashana",
          "Sebaal Zgharta",
          "Soultaniyet Bent Jbeil",
          "Srayri",
          "Srobbine",
          "Talia",
          "Tallet Chattaha",
          "Toula El-Batroun",
          "Zaitoun",
          "Zeita",
          "Zgharta-Ehden",
          "Zibdine En-Nabatiyeh",
          "Zouarib",
          "Zrariyeh",
          "berqayel"
         ],
         "type": "scatter",
         "x": [
          0,
          23,
          5,
          20,
          0,
          15,
          15,
          5,
          25,
          11,
          20,
          10,
          25,
          15,
          10,
          0,
          30,
          3,
          30,
          40,
          30,
          0,
          0,
          20,
          0,
          60,
          10,
          5,
          7,
          10,
          30,
          2,
          20,
          20,
          20,
          30,
          10,
          60,
          0,
          2,
          15,
          25,
          30,
          50,
          25,
          20,
          10,
          10,
          50,
          45,
          25,
          25,
          0,
          20,
          25,
          40,
          30,
          15,
          15,
          35,
          45,
          10,
          40,
          0,
          10,
          10,
          15,
          30,
          16,
          10,
          40,
          10,
          30,
          20,
          19,
          20,
          10,
          0,
          0,
          18,
          20,
          2,
          10,
          5,
          15,
          11,
          20,
          15,
          20,
          15,
          30,
          15,
          10,
          25,
          20,
          70,
          30,
          35,
          12,
          9.5,
          22,
          0,
          30,
          20,
          20,
          12,
          50,
          20,
          10,
          30,
          0,
          25,
          65,
          30,
          20,
          33,
          20,
          20,
          40,
          10,
          11
         ],
         "y": [
          0,
          23,
          5,
          40,
          0,
          15,
          35,
          20,
          10,
          15,
          15,
          10,
          40,
          15,
          20,
          0,
          30,
          5,
          25,
          20,
          40,
          0,
          0,
          15,
          0,
          40,
          10,
          35,
          20,
          30,
          35,
          10,
          35,
          20,
          60,
          15,
          15,
          20,
          0,
          4,
          20,
          35,
          20,
          20,
          40,
          20,
          30,
          16,
          30,
          55,
          35,
          20,
          0,
          10,
          30,
          50,
          50,
          20,
          35,
          25,
          25,
          20,
          40,
          0,
          15,
          25,
          30,
          35,
          20,
          20,
          30,
          10,
          10,
          16,
          15,
          35,
          20,
          0,
          0,
          35,
          60,
          3,
          20,
          30,
          45,
          30,
          20,
          60,
          50,
          65,
          20,
          20,
          15,
          20,
          25,
          5,
          35,
          30,
          26,
          20,
          28,
          0,
          10,
          30,
          0,
          20,
          50,
          30,
          30,
          15,
          0,
          25,
          20,
          25,
          50,
          66,
          30,
          80,
          30,
          40,
          15
         ]
        }
       ],
       "layout": {
        "autosize": true,
        "template": {
         "data": {
          "bar": [
           {
            "error_x": {
             "color": "#2a3f5f"
            },
            "error_y": {
             "color": "#2a3f5f"
            },
            "marker": {
             "line": {
              "color": "#E5ECF6",
              "width": 0.5
             },
             "pattern": {
              "fillmode": "overlay",
              "size": 10,
              "solidity": 0.2
             }
            },
            "type": "bar"
           }
          ],
          "barpolar": [
           {
            "marker": {
             "line": {
              "color": "#E5ECF6",
              "width": 0.5
             },
             "pattern": {
              "fillmode": "overlay",
              "size": 10,
              "solidity": 0.2
             }
            },
            "type": "barpolar"
           }
          ],
          "carpet": [
           {
            "aaxis": {
             "endlinecolor": "#2a3f5f",
             "gridcolor": "white",
             "linecolor": "white",
             "minorgridcolor": "white",
             "startlinecolor": "#2a3f5f"
            },
            "baxis": {
             "endlinecolor": "#2a3f5f",
             "gridcolor": "white",
             "linecolor": "white",
             "minorgridcolor": "white",
             "startlinecolor": "#2a3f5f"
            },
            "type": "carpet"
           }
          ],
          "choropleth": [
           {
            "colorbar": {
             "outlinewidth": 0,
             "ticks": ""
            },
            "type": "choropleth"
           }
          ],
          "contour": [
           {
            "colorbar": {
             "outlinewidth": 0,
             "ticks": ""
            },
            "colorscale": [
             [
              0,
              "#0d0887"
             ],
             [
              0.1111111111111111,
              "#46039f"
             ],
             [
              0.2222222222222222,
              "#7201a8"
             ],
             [
              0.3333333333333333,
              "#9c179e"
             ],
             [
              0.4444444444444444,
              "#bd3786"
             ],
             [
              0.5555555555555556,
              "#d8576b"
             ],
             [
              0.6666666666666666,
              "#ed7953"
             ],
             [
              0.7777777777777778,
              "#fb9f3a"
             ],
             [
              0.8888888888888888,
              "#fdca26"
             ],
             [
              1,
              "#f0f921"
             ]
            ],
            "type": "contour"
           }
          ],
          "contourcarpet": [
           {
            "colorbar": {
             "outlinewidth": 0,
             "ticks": ""
            },
            "type": "contourcarpet"
           }
          ],
          "heatmap": [
           {
            "colorbar": {
             "outlinewidth": 0,
             "ticks": ""
            },
            "colorscale": [
             [
              0,
              "#0d0887"
             ],
             [
              0.1111111111111111,
              "#46039f"
             ],
             [
              0.2222222222222222,
              "#7201a8"
             ],
             [
              0.3333333333333333,
              "#9c179e"
             ],
             [
              0.4444444444444444,
              "#bd3786"
             ],
             [
              0.5555555555555556,
              "#d8576b"
             ],
             [
              0.6666666666666666,
              "#ed7953"
             ],
             [
              0.7777777777777778,
              "#fb9f3a"
             ],
             [
              0.8888888888888888,
              "#fdca26"
             ],
             [
              1,
              "#f0f921"
             ]
            ],
            "type": "heatmap"
           }
          ],
          "heatmapgl": [
           {
            "colorbar": {
             "outlinewidth": 0,
             "ticks": ""
            },
            "colorscale": [
             [
              0,
              "#0d0887"
             ],
             [
              0.1111111111111111,
              "#46039f"
             ],
             [
              0.2222222222222222,
              "#7201a8"
             ],
             [
              0.3333333333333333,
              "#9c179e"
             ],
             [
              0.4444444444444444,
              "#bd3786"
             ],
             [
              0.5555555555555556,
              "#d8576b"
             ],
             [
              0.6666666666666666,
              "#ed7953"
             ],
             [
              0.7777777777777778,
              "#fb9f3a"
             ],
             [
              0.8888888888888888,
              "#fdca26"
             ],
             [
              1,
              "#f0f921"
             ]
            ],
            "type": "heatmapgl"
           }
          ],
          "histogram": [
           {
            "marker": {
             "pattern": {
              "fillmode": "overlay",
              "size": 10,
              "solidity": 0.2
             }
            },
            "type": "histogram"
           }
          ],
          "histogram2d": [
           {
            "colorbar": {
             "outlinewidth": 0,
             "ticks": ""
            },
            "colorscale": [
             [
              0,
              "#0d0887"
             ],
             [
              0.1111111111111111,
              "#46039f"
             ],
             [
              0.2222222222222222,
              "#7201a8"
             ],
             [
              0.3333333333333333,
              "#9c179e"
             ],
             [
              0.4444444444444444,
              "#bd3786"
             ],
             [
              0.5555555555555556,
              "#d8576b"
             ],
             [
              0.6666666666666666,
              "#ed7953"
             ],
             [
              0.7777777777777778,
              "#fb9f3a"
             ],
             [
              0.8888888888888888,
              "#fdca26"
             ],
             [
              1,
              "#f0f921"
             ]
            ],
            "type": "histogram2d"
           }
          ],
          "histogram2dcontour": [
           {
            "colorbar": {
             "outlinewidth": 0,
             "ticks": ""
            },
            "colorscale": [
             [
              0,
              "#0d0887"
             ],
             [
              0.1111111111111111,
              "#46039f"
             ],
             [
              0.2222222222222222,
              "#7201a8"
             ],
             [
              0.3333333333333333,
              "#9c179e"
             ],
             [
              0.4444444444444444,
              "#bd3786"
             ],
             [
              0.5555555555555556,
              "#d8576b"
             ],
             [
              0.6666666666666666,
              "#ed7953"
             ],
             [
              0.7777777777777778,
              "#fb9f3a"
             ],
             [
              0.8888888888888888,
              "#fdca26"
             ],
             [
              1,
              "#f0f921"
             ]
            ],
            "type": "histogram2dcontour"
           }
          ],
          "mesh3d": [
           {
            "colorbar": {
             "outlinewidth": 0,
             "ticks": ""
            },
            "type": "mesh3d"
           }
          ],
          "parcoords": [
           {
            "line": {
             "colorbar": {
              "outlinewidth": 0,
              "ticks": ""
             }
            },
            "type": "parcoords"
           }
          ],
          "pie": [
           {
            "automargin": true,
            "type": "pie"
           }
          ],
          "scatter": [
           {
            "fillpattern": {
             "fillmode": "overlay",
             "size": 10,
             "solidity": 0.2
            },
            "type": "scatter"
           }
          ],
          "scatter3d": [
           {
            "line": {
             "colorbar": {
              "outlinewidth": 0,
              "ticks": ""
             }
            },
            "marker": {
             "colorbar": {
              "outlinewidth": 0,
              "ticks": ""
             }
            },
            "type": "scatter3d"
           }
          ],
          "scattercarpet": [
           {
            "marker": {
             "colorbar": {
              "outlinewidth": 0,
              "ticks": ""
             }
            },
            "type": "scattercarpet"
           }
          ],
          "scattergeo": [
           {
            "marker": {
             "colorbar": {
              "outlinewidth": 0,
              "ticks": ""
             }
            },
            "type": "scattergeo"
           }
          ],
          "scattergl": [
           {
            "marker": {
             "colorbar": {
              "outlinewidth": 0,
              "ticks": ""
             }
            },
            "type": "scattergl"
           }
          ],
          "scattermapbox": [
           {
            "marker": {
             "colorbar": {
              "outlinewidth": 0,
              "ticks": ""
             }
            },
            "type": "scattermapbox"
           }
          ],
          "scatterpolar": [
           {
            "marker": {
             "colorbar": {
              "outlinewidth": 0,
              "ticks": ""
             }
            },
            "type": "scatterpolar"
           }
          ],
          "scatterpolargl": [
           {
            "marker": {
             "colorbar": {
              "outlinewidth": 0,
              "ticks": ""
             }
            },
            "type": "scatterpolargl"
           }
          ],
          "scatterternary": [
           {
            "marker": {
             "colorbar": {
              "outlinewidth": 0,
              "ticks": ""
             }
            },
            "type": "scatterternary"
           }
          ],
          "surface": [
           {
            "colorbar": {
             "outlinewidth": 0,
             "ticks": ""
            },
            "colorscale": [
             [
              0,
              "#0d0887"
             ],
             [
              0.1111111111111111,
              "#46039f"
             ],
             [
              0.2222222222222222,
              "#7201a8"
             ],
             [
              0.3333333333333333,
              "#9c179e"
             ],
             [
              0.4444444444444444,
              "#bd3786"
             ],
             [
              0.5555555555555556,
              "#d8576b"
             ],
             [
              0.6666666666666666,
              "#ed7953"
             ],
             [
              0.7777777777777778,
              "#fb9f3a"
             ],
             [
              0.8888888888888888,
              "#fdca26"
             ],
             [
              1,
              "#f0f921"
             ]
            ],
            "type": "surface"
           }
          ],
          "table": [
           {
            "cells": {
             "fill": {
              "color": "#EBF0F8"
             },
             "line": {
              "color": "white"
             }
            },
            "header": {
             "fill": {
              "color": "#C8D4E3"
             },
             "line": {
              "color": "white"
             }
            },
            "type": "table"
           }
          ]
         },
         "layout": {
          "annotationdefaults": {
           "arrowcolor": "#2a3f5f",
           "arrowhead": 0,
           "arrowwidth": 1
          },
          "autotypenumbers": "strict",
          "coloraxis": {
           "colorbar": {
            "outlinewidth": 0,
            "ticks": ""
           }
          },
          "colorscale": {
           "diverging": [
            [
             0,
             "#8e0152"
            ],
            [
             0.1,
             "#c51b7d"
            ],
            [
             0.2,
             "#de77ae"
            ],
            [
             0.3,
             "#f1b6da"
            ],
            [
             0.4,
             "#fde0ef"
            ],
            [
             0.5,
             "#f7f7f7"
            ],
            [
             0.6,
             "#e6f5d0"
            ],
            [
             0.7,
             "#b8e186"
            ],
            [
             0.8,
             "#7fbc41"
            ],
            [
             0.9,
             "#4d9221"
            ],
            [
             1,
             "#276419"
            ]
           ],
           "sequential": [
            [
             0,
             "#0d0887"
            ],
            [
             0.1111111111111111,
             "#46039f"
            ],
            [
             0.2222222222222222,
             "#7201a8"
            ],
            [
             0.3333333333333333,
             "#9c179e"
            ],
            [
             0.4444444444444444,
             "#bd3786"
            ],
            [
             0.5555555555555556,
             "#d8576b"
            ],
            [
             0.6666666666666666,
             "#ed7953"
            ],
            [
             0.7777777777777778,
             "#fb9f3a"
            ],
            [
             0.8888888888888888,
             "#fdca26"
            ],
            [
             1,
             "#f0f921"
            ]
           ],
           "sequentialminus": [
            [
             0,
             "#0d0887"
            ],
            [
             0.1111111111111111,
             "#46039f"
            ],
            [
             0.2222222222222222,
             "#7201a8"
            ],
            [
             0.3333333333333333,
             "#9c179e"
            ],
            [
             0.4444444444444444,
             "#bd3786"
            ],
            [
             0.5555555555555556,
             "#d8576b"
            ],
            [
             0.6666666666666666,
             "#ed7953"
            ],
            [
             0.7777777777777778,
             "#fb9f3a"
            ],
            [
             0.8888888888888888,
             "#fdca26"
            ],
            [
             1,
             "#f0f921"
            ]
           ]
          },
          "colorway": [
           "#636efa",
           "#EF553B",
           "#00cc96",
           "#ab63fa",
           "#FFA15A",
           "#19d3f3",
           "#FF6692",
           "#B6E880",
           "#FF97FF",
           "#FECB52"
          ],
          "font": {
           "color": "#2a3f5f"
          },
          "geo": {
           "bgcolor": "white",
           "lakecolor": "white",
           "landcolor": "#E5ECF6",
           "showlakes": true,
           "showland": true,
           "subunitcolor": "white"
          },
          "hoverlabel": {
           "align": "left"
          },
          "hovermode": "closest",
          "mapbox": {
           "style": "light"
          },
          "paper_bgcolor": "white",
          "plot_bgcolor": "#E5ECF6",
          "polar": {
           "angularaxis": {
            "gridcolor": "white",
            "linecolor": "white",
            "ticks": ""
           },
           "bgcolor": "#E5ECF6",
           "radialaxis": {
            "gridcolor": "white",
            "linecolor": "white",
            "ticks": ""
           }
          },
          "scene": {
           "xaxis": {
            "backgroundcolor": "#E5ECF6",
            "gridcolor": "white",
            "gridwidth": 2,
            "linecolor": "white",
            "showbackground": true,
            "ticks": "",
            "zerolinecolor": "white"
           },
           "yaxis": {
            "backgroundcolor": "#E5ECF6",
            "gridcolor": "white",
            "gridwidth": 2,
            "linecolor": "white",
            "showbackground": true,
            "ticks": "",
            "zerolinecolor": "white"
           },
           "zaxis": {
            "backgroundcolor": "#E5ECF6",
            "gridcolor": "white",
            "gridwidth": 2,
            "linecolor": "white",
            "showbackground": true,
            "ticks": "",
            "zerolinecolor": "white"
           }
          },
          "shapedefaults": {
           "line": {
            "color": "#2a3f5f"
           }
          },
          "ternary": {
           "aaxis": {
            "gridcolor": "white",
            "linecolor": "white",
            "ticks": ""
           },
           "baxis": {
            "gridcolor": "white",
            "linecolor": "white",
            "ticks": ""
           },
           "bgcolor": "#E5ECF6",
           "caxis": {
            "gridcolor": "white",
            "linecolor": "white",
            "ticks": ""
           }
          },
          "title": {
           "x": 0.05
          },
          "xaxis": {
           "automargin": true,
           "gridcolor": "white",
           "linecolor": "white",
           "ticks": "",
           "title": {
            "standoff": 15
           },
           "zerolinecolor": "white",
           "zerolinewidth": 2
          },
          "yaxis": {
           "automargin": true,
           "gridcolor": "white",
           "linecolor": "white",
           "ticks": "",
           "title": {
            "standoff": 15
           },
           "zerolinecolor": "white",
           "zerolinewidth": 2
          }
         }
        },
        "title": {
         "text": "Bubbble chart showing the Percentage of Elderly and Youth Population based on Percentage of Women Within Lebanese Villages"
        },
        "xaxis": {
         "autorange": true,
         "range": [
          -7.383059418457648,
          77.0670037926675
         ],
         "title": {
          "text": "Percentage of Elderly"
         },
         "type": "linear"
        },
        "yaxis": {
         "autorange": true,
         "range": [
          -47.33233979135618,
          124.35171385991057
         ],
         "title": {
          "text": "Percentage of Youth"
         },
         "type": "linear"
        }
       }
      },
      "image/png": "[encoded data removed]",
      "text/html": [
       "<div>                            <div id=\"f261545a-831c-4cb2-b893-21578bb80173\" class=\"plotly-graph-div\" style=\"height:525px; width:100%;\"></div>            <script type=\"text/javascript\">                require([\"plotly\"], function(Plotly) {                    window.PLOTLYENV=window.PLOTLYENV || {};                                    if (document.getElementById(\"f261545a-831c-4cb2-b893-21578bb80173\")) {                    Plotly.newPlot(                        \"f261545a-831c-4cb2-b893-21578bb80173\",                        [{\"marker\":{\"color\":[0.0,52.0,40.0,40.0,0.0,60.0,55.0,35.0,60.0,55.0,60.0,55.0,65.0,50.0,52.0,0.0,50.0,50.0,48.0,60.0,40.0,0.0,0.0,50.0,0.0,40.0,55.0,60.0,60.0,45.0,55.0,60.0,40.0,50.0,50.0,60.0,55.0,54.0,0.0,55.0,60.0,60.0,60.0,50.0,50.0,55.0,60.0,52.0,55.0,40.0,60.0,50.0,45.0,45.0,55.0,70.0,40.0,70.0,60.0,40.0,52.0,40.0,60.0,50.0,70.0,40.0,51.0,60.0,50.0,60.0,60.0,50.0,40.0,48.0,70.0,55.0,52.0,0.0,0.0,53.0,60.0,35.0,40.0,60.0,55.0,51.0,60.0,55.0,40.0,75.0,45.0,20.0,47.0,45.0,70.0,45.0,50.0,60.0,60.0,50.2,62.0,0.0,55.0,60.0,65.0,60.0,52.0,50.0,55.0,35.0,0.0,60.0,50.0,55.0,60.0,45.0,45.0,60.0,50.0,53.0,65.0],\"colorbar\":{\"title\":{\"text\":\"Percentage of Women\"}},\"colorscale\":[[0.0,\"#440154\"],[0.1111111111111111,\"#482878\"],[0.2222222222222222,\"#3e4989\"],[0.3333333333333333,\"#31688e\"],[0.4444444444444444,\"#26828e\"],[0.5555555555555556,\"#1f9e89\"],[0.6666666666666666,\"#35b779\"],[0.7777777777777778,\"#6ece58\"],[0.8888888888888888,\"#b5de2b\"],[1.0,\"#fde725\"]],\"opacity\":0.6,\"size\":[0.0,52.0,40.0,40.0,0.0,60.0,55.0,35.0,60.0,55.0,60.0,55.0,65.0,50.0,52.0,0.0,50.0,50.0,48.0,60.0,40.0,0.0,0.0,50.0,0.0,40.0,55.0,60.0,60.0,45.0,55.0,60.0,40.0,50.0,50.0,60.0,55.0,54.0,0.0,55.0,60.0,60.0,60.0,50.0,50.0,55.0,60.0,52.0,55.0,40.0,60.0,50.0,45.0,45.0,55.0,70.0,40.0,70.0,60.0,40.0,52.0,40.0,60.0,50.0,70.0,40.0,51.0,60.0,50.0,60.0,60.0,50.0,40.0,48.0,70.0,55.0,52.0,0.0,0.0,53.0,60.0,35.0,40.0,60.0,55.0,51.0,60.0,55.0,40.0,75.0,45.0,20.0,47.0,45.0,70.0,45.0,50.0,60.0,60.0,50.2,62.0,0.0,55.0,60.0,65.0,60.0,52.0,50.0,55.0,35.0,0.0,60.0,50.0,55.0,60.0,45.0,45.0,60.0,50.0,53.0,65.0]},\"mode\":\"markers\",\"text\":[\"Aabdine\",\"Aain Drafil\",\"Aain Ed-Delbe\",\"Aain El Saydeh\",\"Aain El-Kharroubeh\",\"Aain Et-Teffaha\",\"Aain Harsha\",\"Aaita Ej-Jabal\",\"Aalmane Ech-Chouf\",\"Aammatour\",\"Aanout\",\"Aathrine\",\"Aayha\",\"Aayroun\",\"Aaytat\",\"Antelias-Naccache\",\"Arsoun\",\"Baisour\",\"Balloune\",\"Batroumine\",\"Batroun\",\"Bchamoun\",\"Behdaydat\",\"Beit Monzer\",\"Berti\",\"Besri Jezzine\",\"Bmahray\",\"Bnaafoul\",\"Bnabil\",\"Bohwara\",\"Borj Aakkar\",\"Borj En-Naqoura\",\"Bouar\",\"Bqaa Kafra\",\"Bramiyeh\",\"Breissat\",\"Bsarma\",\"Btalloun\",\"Btedine El-Leqch\",\"Bzoummar\",\"Chamate\",\"Chhim\",\"Chibtine\",\"Chimlane\",\"Chnanaair\",\"Damour\",\"Daraiya Kesrouane\",\"Deir El-Ghazal\",\"Deir Mimas\",\"Dibbine\",\"Dlebta\",\"Douma\",\"Edde El-Batroun\",\"Eghbe\",\"El Ghabe\",\"Fatre\",\"Fourzol\",\"Ghabat\",\"Ghaziyeh\",\"Hadath Ej-Jebbeh\",\"Hammana\",\"Hanaouay\",\"Haouch El Qinnabeh Rachaya\",\"Hdeine\",\"Heri\",\"Hilan\",\"Jbaa En-Nabatiyeh-Ein-Boswar\",\"Jbeil\",\"Jdaidet Ghazir\",\"Jdita\",\"Jenjlaya\",\"Jiyeh\",\"Jouret El-Ballout\",\"Kafr Harra\",\"Kaftoun\",\"Kfar Hay\",\"Kfar Jreif\",\"Kfarhata\\u00a0\",\"Kfarhata Zgharta\",\"Kouakh\",\"Kour\",\"Lassa\",\"Magher wbala\",\"Mar Chaaya\",\"Mazraat Mechref\",\"Mhaiydseh Rachaya\",\"Miziara\",\"Nabi Ayla\",\"Nabi Osmane\",\"Nakhleh\",\"Nimrine\",\"Nmairiyeh\",\"Qaa Er-Rim\",\"Qahmez\",\"Qalaouiyeh\",\"Qarah Bach\",\"Qartaba\",\"Qaynour\",\"Qaytouleh\",\"Qbaiyat Aakkar\",\"Qennabet Broummana\",\"Qleiaat Aakkar\",\"Qnat\",\"Qortada\",\"Qsaibet En-Nabatiyeh\",\"Rahbeh\",\"Rashana\",\"Sebaal Zgharta\",\"Soultaniyet Bent Jbeil\",\"Srayri\",\"Srobbine\",\"Talia\",\"Tallet Chattaha\",\"Toula El-Batroun\",\"Zaitoun\",\"Zeita\",\"Zgharta-Ehden\",\"Zibdine En-Nabatiyeh\",\"Zouarib\",\"Zrariyeh\",\"berqayel\"],\"x\":[0.0,23.0,5.0,20.0,0.0,15.0,15.0,5.0,25.0,11.0,20.0,10.0,25.0,15.0,10.0,0.0,30.0,3.0,30.0,40.0,30.0,0.0,0.0,20.0,0.0,60.0,10.0,5.0,7.0,10.0,30.0,2.0,20.0,20.0,20.0,30.0,10.0,60.0,0.0,2.0,15.0,25.0,30.0,50.0,25.0,20.0,10.0,10.0,50.0,45.0,25.0,25.0,0.0,20.0,25.0,40.0,30.0,15.0,15.0,35.0,45.0,10.0,40.0,0.0,10.0,10.0,15.0,30.0,16.0,10.0,40.0,10.0,30.0,20.0,19.0,20.0,10.0,0.0,0.0,18.0,20.0,2.0,10.0,5.0,15.0,11.0,20.0,15.0,20.0,15.0,30.0,15.0,10.0,25.0,20.0,70.0,30.0,35.0,12.0,9.5,22.0,0.0,30.0,20.0,20.0,12.0,50.0,20.0,10.0,30.0,0.0,25.0,65.0,30.0,20.0,33.0,20.0,20.0,40.0,10.0,11.0],\"y\":[0.0,23.0,5.0,40.0,0.0,15.0,35.0,20.0,10.0,15.0,15.0,10.0,40.0,15.0,20.0,0.0,30.0,5.0,25.0,20.0,40.0,0.0,0.0,15.0,0.0,40.0,10.0,35.0,20.0,30.0,35.0,10.0,35.0,20.0,60.0,15.0,15.0,20.0,0.0,4.0,20.0,35.0,20.0,20.0,40.0,20.0,30.0,16.0,30.0,55.0,35.0,20.0,0.0,10.0,30.0,50.0,50.0,20.0,35.0,25.0,25.0,20.0,40.0,0.0,15.0,25.0,30.0,35.0,20.0,20.0,30.0,10.0,10.0,16.0,15.0,35.0,20.0,0.0,0.0,35.0,60.0,3.0,20.0,30.0,45.0,30.0,20.0,60.0,50.0,65.0,20.0,20.0,15.0,20.0,25.0,5.0,35.0,30.0,26.0,20.0,28.0,0.0,10.0,30.0,0.0,20.0,50.0,30.0,30.0,15.0,0.0,25.0,20.0,25.0,50.0,66.0,30.0,80.0,30.0,40.0,15.0],\"type\":\"scatter\"}],                        {\"template\":{\"data\":{\"barpolar\":[{\"marker\":{\"line\":{\"color\":\"#E5ECF6\",\"width\":0.5},\"pattern\":{\"fillmode\":\"overlay\",\"size\":10,\"solidity\":0.2}},\"type\":\"barpolar\"}],\"bar\":[{\"error_x\":{\"color\":\"#2a3f5f\"},\"error_y\":{\"color\":\"#2a3f5f\"},\"marker\":{\"line\":{\"color\":\"#E5ECF6\",\"width\":0.5},\"pattern\":{\"fillmode\":\"overlay\",\"size\":10,\"solidity\":0.2}},\"type\":\"bar\"}],\"carpet\":[{\"aaxis\":{\"endlinecolor\":\"#2a3f5f\",\"gridcolor\":\"white\",\"linecolor\":\"white\",\"minorgridcolor\":\"white\",\"startlinecolor\":\"#2a3f5f\"},\"baxis\":{\"endlinecolor\":\"#2a3f5f\",\"gridcolor\":\"white\",\"linecolor\":\"white\",\"minorgridcolor\":\"white\",\"startlinecolor\":\"#2a3f5f\"},\"type\":\"carpet\"}],\"choropleth\":[{\"colorbar\":{\"outlinewidth\":0,\"ticks\":\"\"},\"type\":\"choropleth\"}],\"contourcarpet\":[{\"colorbar\":{\"outlinewidth\":0,\"ticks\":\"\"},\"type\":\"contourcarpet\"}],\"contour\":[{\"colorbar\":{\"outlinewidth\":0,\"ticks\":\"\"},\"colorscale\":[[0.0,\"#0d0887\"],[0.1111111111111111,\"#46039f\"],[0.2222222222222222,\"#7201a8\"],[0.3333333333333333,\"#9c179e\"],[0.4444444444444444,\"#bd3786\"],[0.5555555555555556,\"#d8576b\"],[0.6666666666666666,\"#ed7953\"],[0.7777777777777778,\"#fb9f3a\"],[0.8888888888888888,\"#fdca26\"],[1.0,\"#f0f921\"]],\"type\":\"contour\"}],\"heatmapgl\":[{\"colorbar\":{\"outlinewidth\":0,\"ticks\":\"\"},\"colorscale\":[[0.0,\"#0d0887\"],[0.1111111111111111,\"#46039f\"],[0.2222222222222222,\"#7201a8\"],[0.3333333333333333,\"#9c179e\"],[0.4444444444444444,\"#bd3786\"],[0.5555555555555556,\"#d8576b\"],[0.6666666666666666,\"#ed7953\"],[0.7777777777777778,\"#fb9f3a\"],[0.8888888888888888,\"#fdca26\"],[1.0,\"#f0f921\"]],\"type\":\"heatmapgl\"}],\"heatmap\":[{\"colorbar\":{\"outlinewidth\":0,\"ticks\":\"\"},\"colorscale\":[[0.0,\"#0d0887\"],[0.1111111111111111,\"#46039f\"],[0.2222222222222222,\"#7201a8\"],[0.3333333333333333,\"#9c179e\"],[0.4444444444444444,\"#bd3786\"],[0.5555555555555556,\"#d8576b\"],[0.6666666666666666,\"#ed7953\"],[0.7777777777777778,\"#fb9f3a\"],[0.8888888888888888,\"#fdca26\"],[1.0,\"#f0f921\"]],\"type\":\"heatmap\"}],\"histogram2dcontour\":[{\"colorbar\":{\"outlinewidth\":0,\"ticks\":\"\"},\"colorscale\":[[0.0,\"#0d0887\"],[0.1111111111111111,\"#46039f\"],[0.2222222222222222,\"#7201a8\"],[0.3333333333333333,\"#9c179e\"],[0.4444444444444444,\"#bd3786\"],[0.5555555555555556,\"#d8576b\"],[0.6666666666666666,\"#ed7953\"],[0.7777777777777778,\"#fb9f3a\"],[0.8888888888888888,\"#fdca26\"],[1.0,\"#f0f921\"]],\"type\":\"histogram2dcontour\"}],\"histogram2d\":[{\"colorbar\":{\"outlinewidth\":0,\"ticks\":\"\"},\"colorscale\":[[0.0,\"#0d0887\"],[0.1111111111111111,\"#46039f\"],[0.2222222222222222,\"#7201a8\"],[0.3333333333333333,\"#9c179e\"],[0.4444444444444444,\"#bd3786\"],[0.5555555555555556,\"#d8576b\"],[0.6666666666666666,\"#ed7953\"],[0.7777777777777778,\"#fb9f3a\"],[0.8888888888888888,\"#fdca26\"],[1.0,\"#f0f921\"]],\"type\":\"histogram2d\"}],\"histogram\":[{\"marker\":{\"pattern\":{\"fillmode\":\"overlay\",\"size\":10,\"solidity\":0.2}},\"type\":\"histogram\"}],\"mesh3d\":[{\"colorbar\":{\"outlinewidth\":0,\"ticks\":\"\"},\"type\":\"mesh3d\"}],\"parcoords\":[{\"line\":{\"colorbar\":{\"outlinewidth\":0,\"ticks\":\"\"}},\"type\":\"parcoords\"}],\"pie\":[{\"automargin\":true,\"type\":\"pie\"}],\"scatter3d\":[{\"line\":{\"colorbar\":{\"outlinewidth\":0,\"ticks\":\"\"}},\"marker\":{\"colorbar\":{\"outlinewidth\":0,\"ticks\":\"\"}},\"type\":\"scatter3d\"}],\"scattercarpet\":[{\"marker\":{\"colorbar\":{\"outlinewidth\":0,\"ticks\":\"\"}},\"type\":\"scattercarpet\"}],\"scattergeo\":[{\"marker\":{\"colorbar\":{\"outlinewidth\":0,\"ticks\":\"\"}},\"type\":\"scattergeo\"}],\"scattergl\":[{\"marker\":{\"colorbar\":{\"outlinewidth\":0,\"ticks\":\"\"}},\"type\":\"scattergl\"}],\"scattermapbox\":[{\"marker\":{\"colorbar\":{\"outlinewidth\":0,\"ticks\":\"\"}},\"type\":\"scattermapbox\"}],\"scatterpolargl\":[{\"marker\":{\"colorbar\":{\"outlinewidth\":0,\"ticks\":\"\"}},\"type\":\"scatterpolargl\"}],\"scatterpolar\":[{\"marker\":{\"colorbar\":{\"outlinewidth\":0,\"ticks\":\"\"}},\"type\":\"scatterpolar\"}],\"scatter\":[{\"fillpattern\":{\"fillmode\":\"overlay\",\"size\":10,\"solidity\":0.2},\"type\":\"scatter\"}],\"scatterternary\":[{\"marker\":{\"colorbar\":{\"outlinewidth\":0,\"ticks\":\"\"}},\"type\":\"scatterternary\"}],\"surface\":[{\"colorbar\":{\"outlinewidth\":0,\"ticks\":\"\"},\"colorscale\":[[0.0,\"#0d0887\"],[0.1111111111111111,\"#46039f\"],[0.2222222222222222,\"#7201a8\"],[0.3333333333333333,\"#9c179e\"],[0.4444444444444444,\"#bd3786\"],[0.5555555555555556,\"#d8576b\"],[0.6666666666666666,\"#ed7953\"],[0.7777777777777778,\"#fb9f3a\"],[0.8888888888888888,\"#fdca26\"],[1.0,\"#f0f921\"]],\"type\":\"surface\"}],\"table\":[{\"cells\":{\"fill\":{\"color\":\"#EBF0F8\"},\"line\":{\"color\":\"white\"}},\"header\":{\"fill\":{\"color\":\"#C8D4E3\"},\"line\":{\"color\":\"white\"}},\"type\":\"table\"}]},\"layout\":{\"annotationdefaults\":{\"arrowcolor\":\"#2a3f5f\",\"arrowhead\":0,\"arrowwidth\":1},\"autotypenumbers\":\"strict\",\"coloraxis\":{\"colorbar\":{\"outlinewidth\":0,\"ticks\":\"\"}},\"colorscale\":{\"diverging\":[[0,\"#8e0152\"],[0.1,\"#c51b7d\"],[0.2,\"#de77ae\"],[0.3,\"#f1b6da\"],[0.4,\"#fde0ef\"],[0.5,\"#f7f7f7\"],[0.6,\"#e6f5d0\"],[0.7,\"#b8e186\"],[0.8,\"#7fbc41\"],[0.9,\"#4d9221\"],[1,\"#276419\"]],\"sequential\":[[0.0,\"#0d0887\"],[0.1111111111111111,\"#46039f\"],[0.2222222222222222,\"#7201a8\"],[0.3333333333333333,\"#9c179e\"],[0.4444444444444444,\"#bd3786\"],[0.5555555555555556,\"#d8576b\"],[0.6666666666666666,\"#ed7953\"],[0.7777777777777778,\"#fb9f3a\"],[0.8888888888888888,\"#fdca26\"],[1.0,\"#f0f921\"]],\"sequentialminus\":[[0.0,\"#0d0887\"],[0.1111111111111111,\"#46039f\"],[0.2222222222222222,\"#7201a8\"],[0.3333333333333333,\"#9c179e\"],[0.4444444444444444,\"#bd3786\"],[0.5555555555555556,\"#d8576b\"],[0.6666666666666666,\"#ed7953\"],[0.7777777777777778,\"#fb9f3a\"],[0.8888888888888888,\"#fdca26\"],[1.0,\"#f0f921\"]]},\"colorway\":[\"#636efa\",\"#EF553B\",\"#00cc96\",\"#ab63fa\",\"#FFA15A\",\"#19d3f3\",\"#FF6692\",\"#B6E880\",\"#FF97FF\",\"#FECB52\"],\"font\":{\"color\":\"#2a3f5f\"},\"geo\":{\"bgcolor\":\"white\",\"lakecolor\":\"white\",\"landcolor\":\"#E5ECF6\",\"showlakes\":true,\"showland\":true,\"subunitcolor\":\"white\"},\"hoverlabel\":{\"align\":\"left\"},\"hovermode\":\"closest\",\"mapbox\":{\"style\":\"light\"},\"paper_bgcolor\":\"white\",\"plot_bgcolor\":\"#E5ECF6\",\"polar\":{\"angularaxis\":{\"gridcolor\":\"white\",\"linecolor\":\"white\",\"ticks\":\"\"},\"bgcolor\":\"#E5ECF6\",\"radialaxis\":{\"gridcolor\":\"white\",\"linecolor\":\"white\",\"ticks\":\"\"}},\"scene\":{\"xaxis\":{\"backgroundcolor\":\"#E5ECF6\",\"gridcolor\":\"white\",\"gridwidth\":2,\"linecolor\":\"white\",\"showbackground\":true,\"ticks\":\"\",\"zerolinecolor\":\"white\"},\"yaxis\":{\"backgroundcolor\":\"#E5ECF6\",\"gridcolor\":\"white\",\"gridwidth\":2,\"linecolor\":\"white\",\"showbackground\":true,\"ticks\":\"\",\"zerolinecolor\":\"white\"},\"zaxis\":{\"backgroundcolor\":\"#E5ECF6\",\"gridcolor\":\"white\",\"gridwidth\":2,\"linecolor\":\"white\",\"showbackground\":true,\"ticks\":\"\",\"zerolinecolor\":\"white\"}},\"shapedefaults\":{\"line\":{\"color\":\"#2a3f5f\"}},\"ternary\":{\"aaxis\":{\"gridcolor\":\"white\",\"linecolor\":\"white\",\"ticks\":\"\"},\"baxis\":{\"gridcolor\":\"white\",\"linecolor\":\"white\",\"ticks\":\"\"},\"bgcolor\":\"#E5ECF6\",\"caxis\":{\"gridcolor\":\"white\",\"linecolor\":\"white\",\"ticks\":\"\"}},\"title\":{\"x\":0.05},\"xaxis\":{\"automargin\":true,\"gridcolor\":\"white\",\"linecolor\":\"white\",\"ticks\":\"\",\"title\":{\"standoff\":15},\"zerolinecolor\":\"white\",\"zerolinewidth\":2},\"yaxis\":{\"automargin\":true,\"gridcolor\":\"white\",\"linecolor\":\"white\",\"ticks\":\"\",\"title\":{\"standoff\":15},\"zerolinecolor\":\"white\",\"zerolinewidth\":2}}},\"title\":{\"text\":\"Bubbble chart showing the Percentage of Elderly and Youth Population based on Percentage of Women Within Lebanese Villages\"},\"xaxis\":{\"title\":{\"text\":\"Percentage of Elderly\"}},\"yaxis\":{\"title\":{\"text\":\"Percentage of Youth\"}}},                        {\"responsive\": true}                    ).then(function(){\n",
       "                            \n",
       "var gd = document.getElementById('f261545a-831c-4cb2-b893-21578bb80173');\n",
       "var x = new MutationObserver(function (mutations, observer) {{\n",
       "        var display = window.getComputedStyle(gd).display;\n",
       "        if (!display || display === 'none') {{\n",
       "            console.log([gd, 'removed!']);\n",
       "            Plotly.purge(gd);\n",
       "            observer.disconnect();\n",
       "        }}\n",
       "}});\n",
       "\n",
       "// Listen for the removal of the full notebook cells\n",
       "var notebookContainer = gd.closest('#notebook-container');\n",
       "if (notebookContainer) {{\n",
       "    x.observe(notebookContainer, {childList: true});\n",
       "}}\n",
       "\n",
       "// Listen for the clearing of the current output cell\n",
       "var outputEl = gd.closest('.output');\n",
       "if (outputEl) {{\n",
       "    x.observe(outputEl, {childList: true});\n",
       "}}\n",
       "\n",
       "                        })                };                });            </script>        </div>"
      ]
     },
     "metadata": {},
     "output_type": "display_data"
    }
   ],
   "source": [
    "x = df.iloc[:, 2]\n",
    "y = df.iloc[:, 3]\n",
    "size = df[df.iloc[:, 0] <= 100].iloc[:, 0] \n",
    "p3 = go.Scatter(x=x,y=y,mode='markers',marker=dict(size=size,opacity=0.6,color=size,colorscale='Viridis',colorbar=dict(title='Percentage of Women')),text=df.iloc[:,4])\n",
    "layout = go.Layout(title='Bubbble chart showing the Percentage of Elderly and Youth Population based on Percentage of Women Within Lebanese Villages',xaxis_title = 'Percentage of Elderly',yaxis_title='Percentage of Youth')\n",
    "fig = go.Figure(data=[p3],layout=layout)\n",
    "py.iplot(fig, filename='bubble')"
   ]
  },
  {
   "cell_type": "code",
   "execution_count": 19,
   "id": "3c53904e-242c-4edd-9d86-8cdeb5347385",
   "metadata": {},
   "outputs": [
    {
     "data": {
      "application/vnd.plotly.v1+json": {
       "config": {
        "linkText": "Export to plot.ly",
        "plotlyServerURL": "https://plot.ly",
        "showLink": false
       },
       "data": [
        {
         "fill": "tozeroy",
         "mode": "none",
         "name": "Elderly",
         "type": "scatter",
         "x": [
          "Aabdine",
          "Aain Drafil",
          "Aain Ed-Delbe",
          "Aain El Saydeh",
          "Aain El-Kharroubeh",
          "Aain Et-Teffaha",
          "Aain Harsha",
          "Aaita Ej-Jabal",
          "Aalmane Ech-Chouf",
          "Aammatour",
          "Aanout",
          "Aathrine",
          "Aayha",
          "Aayroun",
          "Aaytat",
          "Antelias-Naccache",
          "Arsoun",
          "Baisour",
          "Balloune",
          "Batroumine",
          "Batroun",
          "Bchamoun",
          "Behdaydat",
          "Beit Monzer",
          "Berti",
          "Besri Jezzine",
          "Bmahray",
          "Bnaafoul",
          "Bnabil",
          "Bohwara",
          "Borj Aakkar",
          "Borj En-Naqoura",
          "Bouar",
          "Bqaa Kafra",
          "Bramiyeh",
          "Breissat",
          "Bsarma",
          "Btalloun",
          "Btedine El-Leqch",
          "Bzoummar",
          "Chamate",
          "Chhim",
          "Chibtine",
          "Chimlane",
          "Chnanaair",
          "Damour",
          "Daraiya Kesrouane",
          "Deir El-Ghazal",
          "Deir Mimas",
          "Dibbine",
          "Dlebta",
          "Douma",
          "Edde El-Batroun",
          "Eghbe",
          "El Ghabe",
          "Fatre",
          "Fourzol",
          "Ghabat",
          "Ghaziyeh",
          "Hadath Ej-Jebbeh",
          "Hammana",
          "Hanaouay",
          "Haouch El Qinnabeh Rachaya",
          "Hdeine",
          "Heri",
          "Hilan",
          "Jbaa En-Nabatiyeh-Ein-Boswar",
          "Jbeil",
          "Jdaidet Ghazir",
          "Jdita",
          "Jenjlaya",
          "Jiyeh",
          "Jouret El-Ballout",
          "Kafr Harra",
          "Kaftoun",
          "Kfar Hay",
          "Kfar Jreif",
          "Kfarhata ",
          "Kfarhata Zgharta",
          "Kouakh",
          "Kour",
          "Lassa",
          "Magher wbala",
          "Mar Chaaya",
          "Mazraat Mechref",
          "Mhaiydseh Rachaya",
          "Miziara",
          "Nabi Ayla",
          "Nabi Osmane",
          "Nakhleh",
          "Nimrine",
          "Nmairiyeh",
          "Qaa Er-Rim",
          "Qahmez",
          "Qalaouiyeh",
          "Qarah Bach",
          "Qartaba",
          "Qaynour",
          "Qaytouleh",
          "Qbaiyat Aakkar",
          "Qennabet Broummana",
          "Qleiaat Aakkar",
          "Qnat",
          "Qortada",
          "Qsaibet En-Nabatiyeh",
          "Rahbeh",
          "Rashana",
          "Sebaal Zgharta",
          "Soultaniyet Bent Jbeil",
          "Srayri",
          "Srobbine",
          "Talia",
          "Tallet Chattaha",
          "Toula El-Batroun",
          "Zaitoun",
          "Zeita",
          "Zgharta-Ehden",
          "Zibdine En-Nabatiyeh",
          "Zouarib",
          "Zrariyeh",
          "berqayel"
         ],
         "y": [
          0,
          52,
          40,
          40,
          0,
          60,
          55,
          35,
          60,
          55,
          60,
          55,
          65,
          50,
          52,
          0,
          50,
          50,
          48,
          60,
          40,
          0,
          0,
          50,
          0,
          40,
          55,
          60,
          60,
          45,
          55,
          60,
          40,
          50,
          50,
          60,
          55,
          54,
          0,
          55,
          60,
          60,
          60,
          50,
          50,
          55,
          60,
          52,
          55,
          40,
          60,
          50,
          45,
          45,
          55,
          70,
          40,
          70,
          60,
          40,
          52,
          40,
          60,
          50,
          70,
          40,
          51,
          60,
          50,
          60,
          60,
          50,
          40,
          48,
          70,
          55,
          52,
          0,
          0,
          53,
          60,
          35,
          40,
          60,
          55,
          51,
          60,
          55,
          40,
          75,
          45,
          20,
          47,
          45,
          70,
          45,
          50,
          60,
          60,
          50.2,
          62,
          0,
          55,
          60,
          65,
          60,
          52,
          50,
          55,
          35,
          0,
          60,
          50,
          55,
          60,
          45,
          45,
          60,
          50,
          53,
          65
         ]
        },
        {
         "fill": "tonexty",
         "mode": "none",
         "name": "Youth",
         "type": "scatter",
         "x": [
          "Aabdine",
          "Aain Drafil",
          "Aain Ed-Delbe",
          "Aain El Saydeh",
          "Aain El-Kharroubeh",
          "Aain Et-Teffaha",
          "Aain Harsha",
          "Aaita Ej-Jabal",
          "Aalmane Ech-Chouf",
          "Aammatour",
          "Aanout",
          "Aathrine",
          "Aayha",
          "Aayroun",
          "Aaytat",
          "Antelias-Naccache",
          "Arsoun",
          "Baisour",
          "Balloune",
          "Batroumine",
          "Batroun",
          "Bchamoun",
          "Behdaydat",
          "Beit Monzer",
          "Berti",
          "Besri Jezzine",
          "Bmahray",
          "Bnaafoul",
          "Bnabil",
          "Bohwara",
          "Borj Aakkar",
          "Borj En-Naqoura",
          "Bouar",
          "Bqaa Kafra",
          "Bramiyeh",
          "Breissat",
          "Bsarma",
          "Btalloun",
          "Btedine El-Leqch",
          "Bzoummar",
          "Chamate",
          "Chhim",
          "Chibtine",
          "Chimlane",
          "Chnanaair",
          "Damour",
          "Daraiya Kesrouane",
          "Deir El-Ghazal",
          "Deir Mimas",
          "Dibbine",
          "Dlebta",
          "Douma",
          "Edde El-Batroun",
          "Eghbe",
          "El Ghabe",
          "Fatre",
          "Fourzol",
          "Ghabat",
          "Ghaziyeh",
          "Hadath Ej-Jebbeh",
          "Hammana",
          "Hanaouay",
          "Haouch El Qinnabeh Rachaya",
          "Hdeine",
          "Heri",
          "Hilan",
          "Jbaa En-Nabatiyeh-Ein-Boswar",
          "Jbeil",
          "Jdaidet Ghazir",
          "Jdita",
          "Jenjlaya",
          "Jiyeh",
          "Jouret El-Ballout",
          "Kafr Harra",
          "Kaftoun",
          "Kfar Hay",
          "Kfar Jreif",
          "Kfarhata ",
          "Kfarhata Zgharta",
          "Kouakh",
          "Kour",
          "Lassa",
          "Magher wbala",
          "Mar Chaaya",
          "Mazraat Mechref",
          "Mhaiydseh Rachaya",
          "Miziara",
          "Nabi Ayla",
          "Nabi Osmane",
          "Nakhleh",
          "Nimrine",
          "Nmairiyeh",
          "Qaa Er-Rim",
          "Qahmez",
          "Qalaouiyeh",
          "Qarah Bach",
          "Qartaba",
          "Qaynour",
          "Qaytouleh",
          "Qbaiyat Aakkar",
          "Qennabet Broummana",
          "Qleiaat Aakkar",
          "Qnat",
          "Qortada",
          "Qsaibet En-Nabatiyeh",
          "Rahbeh",
          "Rashana",
          "Sebaal Zgharta",
          "Soultaniyet Bent Jbeil",
          "Srayri",
          "Srobbine",
          "Talia",
          "Tallet Chattaha",
          "Toula El-Batroun",
          "Zaitoun",
          "Zeita",
          "Zgharta-Ehden",
          "Zibdine En-Nabatiyeh",
          "Zouarib",
          "Zrariyeh",
          "berqayel"
         ],
         "y": [
          0,
          48,
          30,
          60,
          0,
          40,
          45,
          65,
          40,
          45,
          40,
          45,
          35,
          50,
          48,
          0,
          50,
          50,
          52,
          40,
          60,
          0,
          0,
          50,
          0,
          60,
          45,
          40,
          40,
          55,
          45,
          40,
          60,
          50,
          50,
          40,
          45,
          46,
          0,
          45,
          40,
          40,
          40,
          50,
          50,
          45,
          40,
          48,
          45,
          60,
          40,
          50,
          55,
          55,
          45,
          70,
          60,
          30,
          40,
          60,
          48,
          40,
          40,
          50,
          30,
          60,
          49,
          40,
          50,
          40,
          40,
          50,
          60,
          42,
          30,
          45,
          48,
          0,
          0,
          47,
          40,
          65,
          60,
          40,
          45,
          49,
          40,
          45,
          60,
          25,
          55,
          80,
          53,
          55,
          30,
          55,
          50,
          40,
          40,
          49.8,
          38,
          0,
          45,
          40,
          35,
          40,
          48,
          50,
          45,
          65,
          0,
          40,
          50,
          45,
          40,
          55,
          55,
          40,
          50,
          47,
          35
         ]
        }
       ],
       "layout": {
        "autosize": true,
        "showlegend": true,
        "template": {
         "data": {
          "bar": [
           {
            "error_x": {
             "color": "#2a3f5f"
            },
            "error_y": {
             "color": "#2a3f5f"
            },
            "marker": {
             "line": {
              "color": "#E5ECF6",
              "width": 0.5
             },
             "pattern": {
              "fillmode": "overlay",
              "size": 10,
              "solidity": 0.2
             }
            },
            "type": "bar"
           }
          ],
          "barpolar": [
           {
            "marker": {
             "line": {
              "color": "#E5ECF6",
              "width": 0.5
             },
             "pattern": {
              "fillmode": "overlay",
              "size": 10,
              "solidity": 0.2
             }
            },
            "type": "barpolar"
           }
          ],
          "carpet": [
           {
            "aaxis": {
             "endlinecolor": "#2a3f5f",
             "gridcolor": "white",
             "linecolor": "white",
             "minorgridcolor": "white",
             "startlinecolor": "#2a3f5f"
            },
            "baxis": {
             "endlinecolor": "#2a3f5f",
             "gridcolor": "white",
             "linecolor": "white",
             "minorgridcolor": "white",
             "startlinecolor": "#2a3f5f"
            },
            "type": "carpet"
           }
          ],
          "choropleth": [
           {
            "colorbar": {
             "outlinewidth": 0,
             "ticks": ""
            },
            "type": "choropleth"
           }
          ],
          "contour": [
           {
            "colorbar": {
             "outlinewidth": 0,
             "ticks": ""
            },
            "colorscale": [
             [
              0,
              "#0d0887"
             ],
             [
              0.1111111111111111,
              "#46039f"
             ],
             [
              0.2222222222222222,
              "#7201a8"
             ],
             [
              0.3333333333333333,
              "#9c179e"
             ],
             [
              0.4444444444444444,
              "#bd3786"
             ],
             [
              0.5555555555555556,
              "#d8576b"
             ],
             [
              0.6666666666666666,
              "#ed7953"
             ],
             [
              0.7777777777777778,
              "#fb9f3a"
             ],
             [
              0.8888888888888888,
              "#fdca26"
             ],
             [
              1,
              "#f0f921"
             ]
            ],
            "type": "contour"
           }
          ],
          "contourcarpet": [
           {
            "colorbar": {
             "outlinewidth": 0,
             "ticks": ""
            },
            "type": "contourcarpet"
           }
          ],
          "heatmap": [
           {
            "colorbar": {
             "outlinewidth": 0,
             "ticks": ""
            },
            "colorscale": [
             [
              0,
              "#0d0887"
             ],
             [
              0.1111111111111111,
              "#46039f"
             ],
             [
              0.2222222222222222,
              "#7201a8"
             ],
             [
              0.3333333333333333,
              "#9c179e"
             ],
             [
              0.4444444444444444,
              "#bd3786"
             ],
             [
              0.5555555555555556,
              "#d8576b"
             ],
             [
              0.6666666666666666,
              "#ed7953"
             ],
             [
              0.7777777777777778,
              "#fb9f3a"
             ],
             [
              0.8888888888888888,
              "#fdca26"
             ],
             [
              1,
              "#f0f921"
             ]
            ],
            "type": "heatmap"
           }
          ],
          "heatmapgl": [
           {
            "colorbar": {
             "outlinewidth": 0,
             "ticks": ""
            },
            "colorscale": [
             [
              0,
              "#0d0887"
             ],
             [
              0.1111111111111111,
              "#46039f"
             ],
             [
              0.2222222222222222,
              "#7201a8"
             ],
             [
              0.3333333333333333,
              "#9c179e"
             ],
             [
              0.4444444444444444,
              "#bd3786"
             ],
             [
              0.5555555555555556,
              "#d8576b"
             ],
             [
              0.6666666666666666,
              "#ed7953"
             ],
             [
              0.7777777777777778,
              "#fb9f3a"
             ],
             [
              0.8888888888888888,
              "#fdca26"
             ],
             [
              1,
              "#f0f921"
             ]
            ],
            "type": "heatmapgl"
           }
          ],
          "histogram": [
           {
            "marker": {
             "pattern": {
              "fillmode": "overlay",
              "size": 10,
              "solidity": 0.2
             }
            },
            "type": "histogram"
           }
          ],
          "histogram2d": [
           {
            "colorbar": {
             "outlinewidth": 0,
             "ticks": ""
            },
            "colorscale": [
             [
              0,
              "#0d0887"
             ],
             [
              0.1111111111111111,
              "#46039f"
             ],
             [
              0.2222222222222222,
              "#7201a8"
             ],
             [
              0.3333333333333333,
              "#9c179e"
             ],
             [
              0.4444444444444444,
              "#bd3786"
             ],
             [
              0.5555555555555556,
              "#d8576b"
             ],
             [
              0.6666666666666666,
              "#ed7953"
             ],
             [
              0.7777777777777778,
              "#fb9f3a"
             ],
             [
              0.8888888888888888,
              "#fdca26"
             ],
             [
              1,
              "#f0f921"
             ]
            ],
            "type": "histogram2d"
           }
          ],
          "histogram2dcontour": [
           {
            "colorbar": {
             "outlinewidth": 0,
             "ticks": ""
            },
            "colorscale": [
             [
              0,
              "#0d0887"
             ],
             [
              0.1111111111111111,
              "#46039f"
             ],
             [
              0.2222222222222222,
              "#7201a8"
             ],
             [
              0.3333333333333333,
              "#9c179e"
             ],
             [
              0.4444444444444444,
              "#bd3786"
             ],
             [
              0.5555555555555556,
              "#d8576b"
             ],
             [
              0.6666666666666666,
              "#ed7953"
             ],
             [
              0.7777777777777778,
              "#fb9f3a"
             ],
             [
              0.8888888888888888,
              "#fdca26"
             ],
             [
              1,
              "#f0f921"
             ]
            ],
            "type": "histogram2dcontour"
           }
          ],
          "mesh3d": [
           {
            "colorbar": {
             "outlinewidth": 0,
             "ticks": ""
            },
            "type": "mesh3d"
           }
          ],
          "parcoords": [
           {
            "line": {
             "colorbar": {
              "outlinewidth": 0,
              "ticks": ""
             }
            },
            "type": "parcoords"
           }
          ],
          "pie": [
           {
            "automargin": true,
            "type": "pie"
           }
          ],
          "scatter": [
           {
            "fillpattern": {
             "fillmode": "overlay",
             "size": 10,
             "solidity": 0.2
            },
            "type": "scatter"
           }
          ],
          "scatter3d": [
           {
            "line": {
             "colorbar": {
              "outlinewidth": 0,
              "ticks": ""
             }
            },
            "marker": {
             "colorbar": {
              "outlinewidth": 0,
              "ticks": ""
             }
            },
            "type": "scatter3d"
           }
          ],
          "scattercarpet": [
           {
            "marker": {
             "colorbar": {
              "outlinewidth": 0,
              "ticks": ""
             }
            },
            "type": "scattercarpet"
           }
          ],
          "scattergeo": [
           {
            "marker": {
             "colorbar": {
              "outlinewidth": 0,
              "ticks": ""
             }
            },
            "type": "scattergeo"
           }
          ],
          "scattergl": [
           {
            "marker": {
             "colorbar": {
              "outlinewidth": 0,
              "ticks": ""
             }
            },
            "type": "scattergl"
           }
          ],
          "scattermapbox": [
           {
            "marker": {
             "colorbar": {
              "outlinewidth": 0,
              "ticks": ""
             }
            },
            "type": "scattermapbox"
           }
          ],
          "scatterpolar": [
           {
            "marker": {
             "colorbar": {
              "outlinewidth": 0,
              "ticks": ""
             }
            },
            "type": "scatterpolar"
           }
          ],
          "scatterpolargl": [
           {
            "marker": {
             "colorbar": {
              "outlinewidth": 0,
              "ticks": ""
             }
            },
            "type": "scatterpolargl"
           }
          ],
          "scatterternary": [
           {
            "marker": {
             "colorbar": {
              "outlinewidth": 0,
              "ticks": ""
             }
            },
            "type": "scatterternary"
           }
          ],
          "surface": [
           {
            "colorbar": {
             "outlinewidth": 0,
             "ticks": ""
            },
            "colorscale": [
             [
              0,
              "#0d0887"
             ],
             [
              0.1111111111111111,
              "#46039f"
             ],
             [
              0.2222222222222222,
              "#7201a8"
             ],
             [
              0.3333333333333333,
              "#9c179e"
             ],
             [
              0.4444444444444444,
              "#bd3786"
             ],
             [
              0.5555555555555556,
              "#d8576b"
             ],
             [
              0.6666666666666666,
              "#ed7953"
             ],
             [
              0.7777777777777778,
              "#fb9f3a"
             ],
             [
              0.8888888888888888,
              "#fdca26"
             ],
             [
              1,
              "#f0f921"
             ]
            ],
            "type": "surface"
           }
          ],
          "table": [
           {
            "cells": {
             "fill": {
              "color": "#EBF0F8"
             },
             "line": {
              "color": "white"
             }
            },
            "header": {
             "fill": {
              "color": "#C8D4E3"
             },
             "line": {
              "color": "white"
             }
            },
            "type": "table"
           }
          ]
         },
         "layout": {
          "annotationdefaults": {
           "arrowcolor": "#2a3f5f",
           "arrowhead": 0,
           "arrowwidth": 1
          },
          "autotypenumbers": "strict",
          "coloraxis": {
           "colorbar": {
            "outlinewidth": 0,
            "ticks": ""
           }
          },
          "colorscale": {
           "diverging": [
            [
             0,
             "#8e0152"
            ],
            [
             0.1,
             "#c51b7d"
            ],
            [
             0.2,
             "#de77ae"
            ],
            [
             0.3,
             "#f1b6da"
            ],
            [
             0.4,
             "#fde0ef"
            ],
            [
             0.5,
             "#f7f7f7"
            ],
            [
             0.6,
             "#e6f5d0"
            ],
            [
             0.7,
             "#b8e186"
            ],
            [
             0.8,
             "#7fbc41"
            ],
            [
             0.9,
             "#4d9221"
            ],
            [
             1,
             "#276419"
            ]
           ],
           "sequential": [
            [
             0,
             "#0d0887"
            ],
            [
             0.1111111111111111,
             "#46039f"
            ],
            [
             0.2222222222222222,
             "#7201a8"
            ],
            [
             0.3333333333333333,
             "#9c179e"
            ],
            [
             0.4444444444444444,
             "#bd3786"
            ],
            [
             0.5555555555555556,
             "#d8576b"
            ],
            [
             0.6666666666666666,
             "#ed7953"
            ],
            [
             0.7777777777777778,
             "#fb9f3a"
            ],
            [
             0.8888888888888888,
             "#fdca26"
            ],
            [
             1,
             "#f0f921"
            ]
           ],
           "sequentialminus": [
            [
             0,
             "#0d0887"
            ],
            [
             0.1111111111111111,
             "#46039f"
            ],
            [
             0.2222222222222222,
             "#7201a8"
            ],
            [
             0.3333333333333333,
             "#9c179e"
            ],
            [
             0.4444444444444444,
             "#bd3786"
            ],
            [
             0.5555555555555556,
             "#d8576b"
            ],
            [
             0.6666666666666666,
             "#ed7953"
            ],
            [
             0.7777777777777778,
             "#fb9f3a"
            ],
            [
             0.8888888888888888,
             "#fdca26"
            ],
            [
             1,
             "#f0f921"
            ]
           ]
          },
          "colorway": [
           "#636efa",
           "#EF553B",
           "#00cc96",
           "#ab63fa",
           "#FFA15A",
           "#19d3f3",
           "#FF6692",
           "#B6E880",
           "#FF97FF",
           "#FECB52"
          ],
          "font": {
           "color": "#2a3f5f"
          },
          "geo": {
           "bgcolor": "white",
           "lakecolor": "white",
           "landcolor": "#E5ECF6",
           "showlakes": true,
           "showland": true,
           "subunitcolor": "white"
          },
          "hoverlabel": {
           "align": "left"
          },
          "hovermode": "closest",
          "mapbox": {
           "style": "light"
          },
          "paper_bgcolor": "white",
          "plot_bgcolor": "#E5ECF6",
          "polar": {
           "angularaxis": {
            "gridcolor": "white",
            "linecolor": "white",
            "ticks": ""
           },
           "bgcolor": "#E5ECF6",
           "radialaxis": {
            "gridcolor": "white",
            "linecolor": "white",
            "ticks": ""
           }
          },
          "scene": {
           "xaxis": {
            "backgroundcolor": "#E5ECF6",
            "gridcolor": "white",
            "gridwidth": 2,
            "linecolor": "white",
            "showbackground": true,
            "ticks": "",
            "zerolinecolor": "white"
           },
           "yaxis": {
            "backgroundcolor": "#E5ECF6",
            "gridcolor": "white",
            "gridwidth": 2,
            "linecolor": "white",
            "showbackground": true,
            "ticks": "",
            "zerolinecolor": "white"
           },
           "zaxis": {
            "backgroundcolor": "#E5ECF6",
            "gridcolor": "white",
            "gridwidth": 2,
            "linecolor": "white",
            "showbackground": true,
            "ticks": "",
            "zerolinecolor": "white"
           }
          },
          "shapedefaults": {
           "line": {
            "color": "#2a3f5f"
           }
          },
          "ternary": {
           "aaxis": {
            "gridcolor": "white",
            "linecolor": "white",
            "ticks": ""
           },
           "baxis": {
            "gridcolor": "white",
            "linecolor": "white",
            "ticks": ""
           },
           "bgcolor": "#E5ECF6",
           "caxis": {
            "gridcolor": "white",
            "linecolor": "white",
            "ticks": ""
           }
          },
          "title": {
           "x": 0.05
          },
          "xaxis": {
           "automargin": true,
           "gridcolor": "white",
           "linecolor": "white",
           "ticks": "",
           "title": {
            "standoff": 15
           },
           "zerolinecolor": "white",
           "zerolinewidth": 2
          },
          "yaxis": {
           "automargin": true,
           "gridcolor": "white",
           "linecolor": "white",
           "ticks": "",
           "title": {
            "standoff": 15
           },
           "zerolinecolor": "white",
           "zerolinewidth": 2
          }
         }
        },
        "title": {
         "text": "Scatter plot showing Youth and Elderly Population Distribution in Lebanese Villages for families with 1 to 3 members"
        },
        "xaxis": {
         "autorange": true,
         "range": [
          0,
          120
         ],
         "title": {
          "text": "Elderly Population Percentage"
         },
         "type": "category"
        },
        "yaxis": {
         "autorange": true,
         "range": [
          -4.4444444444444455,
          84.44444444444444
         ],
         "title": {
          "text": "Youth Population Percentage"
         },
         "type": "linear"
        }
       }
      },
      "image/png": "[encoded data removed]",
      "text/html": [
       "<div>                            <div id=\"d0c88217-6128-41ca-a1f5-349f35a50a97\" class=\"plotly-graph-div\" style=\"height:525px; width:100%;\"></div>            <script type=\"text/javascript\">                require([\"plotly\"], function(Plotly) {                    window.PLOTLYENV=window.PLOTLYENV || {};                                    if (document.getElementById(\"d0c88217-6128-41ca-a1f5-349f35a50a97\")) {                    Plotly.newPlot(                        \"d0c88217-6128-41ca-a1f5-349f35a50a97\",                        [{\"fill\":\"tozeroy\",\"mode\":\"none\",\"name\":\"Elderly\",\"x\":[\"Aabdine\",\"Aain Drafil\",\"Aain Ed-Delbe\",\"Aain El Saydeh\",\"Aain El-Kharroubeh\",\"Aain Et-Teffaha\",\"Aain Harsha\",\"Aaita Ej-Jabal\",\"Aalmane Ech-Chouf\",\"Aammatour\",\"Aanout\",\"Aathrine\",\"Aayha\",\"Aayroun\",\"Aaytat\",\"Antelias-Naccache\",\"Arsoun\",\"Baisour\",\"Balloune\",\"Batroumine\",\"Batroun\",\"Bchamoun\",\"Behdaydat\",\"Beit Monzer\",\"Berti\",\"Besri Jezzine\",\"Bmahray\",\"Bnaafoul\",\"Bnabil\",\"Bohwara\",\"Borj Aakkar\",\"Borj En-Naqoura\",\"Bouar\",\"Bqaa Kafra\",\"Bramiyeh\",\"Breissat\",\"Bsarma\",\"Btalloun\",\"Btedine El-Leqch\",\"Bzoummar\",\"Chamate\",\"Chhim\",\"Chibtine\",\"Chimlane\",\"Chnanaair\",\"Damour\",\"Daraiya Kesrouane\",\"Deir El-Ghazal\",\"Deir Mimas\",\"Dibbine\",\"Dlebta\",\"Douma\",\"Edde El-Batroun\",\"Eghbe\",\"El Ghabe\",\"Fatre\",\"Fourzol\",\"Ghabat\",\"Ghaziyeh\",\"Hadath Ej-Jebbeh\",\"Hammana\",\"Hanaouay\",\"Haouch El Qinnabeh Rachaya\",\"Hdeine\",\"Heri\",\"Hilan\",\"Jbaa En-Nabatiyeh-Ein-Boswar\",\"Jbeil\",\"Jdaidet Ghazir\",\"Jdita\",\"Jenjlaya\",\"Jiyeh\",\"Jouret El-Ballout\",\"Kafr Harra\",\"Kaftoun\",\"Kfar Hay\",\"Kfar Jreif\",\"Kfarhata\\u00a0\",\"Kfarhata Zgharta\",\"Kouakh\",\"Kour\",\"Lassa\",\"Magher wbala\",\"Mar Chaaya\",\"Mazraat Mechref\",\"Mhaiydseh Rachaya\",\"Miziara\",\"Nabi Ayla\",\"Nabi Osmane\",\"Nakhleh\",\"Nimrine\",\"Nmairiyeh\",\"Qaa Er-Rim\",\"Qahmez\",\"Qalaouiyeh\",\"Qarah Bach\",\"Qartaba\",\"Qaynour\",\"Qaytouleh\",\"Qbaiyat Aakkar\",\"Qennabet Broummana\",\"Qleiaat Aakkar\",\"Qnat\",\"Qortada\",\"Qsaibet En-Nabatiyeh\",\"Rahbeh\",\"Rashana\",\"Sebaal Zgharta\",\"Soultaniyet Bent Jbeil\",\"Srayri\",\"Srobbine\",\"Talia\",\"Tallet Chattaha\",\"Toula El-Batroun\",\"Zaitoun\",\"Zeita\",\"Zgharta-Ehden\",\"Zibdine En-Nabatiyeh\",\"Zouarib\",\"Zrariyeh\",\"berqayel\"],\"y\":[0.0,52.0,40.0,40.0,0.0,60.0,55.0,35.0,60.0,55.0,60.0,55.0,65.0,50.0,52.0,0.0,50.0,50.0,48.0,60.0,40.0,0.0,0.0,50.0,0.0,40.0,55.0,60.0,60.0,45.0,55.0,60.0,40.0,50.0,50.0,60.0,55.0,54.0,0.0,55.0,60.0,60.0,60.0,50.0,50.0,55.0,60.0,52.0,55.0,40.0,60.0,50.0,45.0,45.0,55.0,70.0,40.0,70.0,60.0,40.0,52.0,40.0,60.0,50.0,70.0,40.0,51.0,60.0,50.0,60.0,60.0,50.0,40.0,48.0,70.0,55.0,52.0,0.0,0.0,53.0,60.0,35.0,40.0,60.0,55.0,51.0,60.0,55.0,40.0,75.0,45.0,20.0,47.0,45.0,70.0,45.0,50.0,60.0,60.0,50.2,62.0,0.0,55.0,60.0,65.0,60.0,52.0,50.0,55.0,35.0,0.0,60.0,50.0,55.0,60.0,45.0,45.0,60.0,50.0,53.0,65.0],\"type\":\"scatter\"},{\"fill\":\"tonexty\",\"mode\":\"none\",\"name\":\"Youth\",\"x\":[\"Aabdine\",\"Aain Drafil\",\"Aain Ed-Delbe\",\"Aain El Saydeh\",\"Aain El-Kharroubeh\",\"Aain Et-Teffaha\",\"Aain Harsha\",\"Aaita Ej-Jabal\",\"Aalmane Ech-Chouf\",\"Aammatour\",\"Aanout\",\"Aathrine\",\"Aayha\",\"Aayroun\",\"Aaytat\",\"Antelias-Naccache\",\"Arsoun\",\"Baisour\",\"Balloune\",\"Batroumine\",\"Batroun\",\"Bchamoun\",\"Behdaydat\",\"Beit Monzer\",\"Berti\",\"Besri Jezzine\",\"Bmahray\",\"Bnaafoul\",\"Bnabil\",\"Bohwara\",\"Borj Aakkar\",\"Borj En-Naqoura\",\"Bouar\",\"Bqaa Kafra\",\"Bramiyeh\",\"Breissat\",\"Bsarma\",\"Btalloun\",\"Btedine El-Leqch\",\"Bzoummar\",\"Chamate\",\"Chhim\",\"Chibtine\",\"Chimlane\",\"Chnanaair\",\"Damour\",\"Daraiya Kesrouane\",\"Deir El-Ghazal\",\"Deir Mimas\",\"Dibbine\",\"Dlebta\",\"Douma\",\"Edde El-Batroun\",\"Eghbe\",\"El Ghabe\",\"Fatre\",\"Fourzol\",\"Ghabat\",\"Ghaziyeh\",\"Hadath Ej-Jebbeh\",\"Hammana\",\"Hanaouay\",\"Haouch El Qinnabeh Rachaya\",\"Hdeine\",\"Heri\",\"Hilan\",\"Jbaa En-Nabatiyeh-Ein-Boswar\",\"Jbeil\",\"Jdaidet Ghazir\",\"Jdita\",\"Jenjlaya\",\"Jiyeh\",\"Jouret El-Ballout\",\"Kafr Harra\",\"Kaftoun\",\"Kfar Hay\",\"Kfar Jreif\",\"Kfarhata\\u00a0\",\"Kfarhata Zgharta\",\"Kouakh\",\"Kour\",\"Lassa\",\"Magher wbala\",\"Mar Chaaya\",\"Mazraat Mechref\",\"Mhaiydseh Rachaya\",\"Miziara\",\"Nabi Ayla\",\"Nabi Osmane\",\"Nakhleh\",\"Nimrine\",\"Nmairiyeh\",\"Qaa Er-Rim\",\"Qahmez\",\"Qalaouiyeh\",\"Qarah Bach\",\"Qartaba\",\"Qaynour\",\"Qaytouleh\",\"Qbaiyat Aakkar\",\"Qennabet Broummana\",\"Qleiaat Aakkar\",\"Qnat\",\"Qortada\",\"Qsaibet En-Nabatiyeh\",\"Rahbeh\",\"Rashana\",\"Sebaal Zgharta\",\"Soultaniyet Bent Jbeil\",\"Srayri\",\"Srobbine\",\"Talia\",\"Tallet Chattaha\",\"Toula El-Batroun\",\"Zaitoun\",\"Zeita\",\"Zgharta-Ehden\",\"Zibdine En-Nabatiyeh\",\"Zouarib\",\"Zrariyeh\",\"berqayel\"],\"y\":[0.0,48.0,30.0,60.0,0.0,40.0,45.0,65.0,40.0,45.0,40.0,45.0,35.0,50.0,48.0,0.0,50.0,50.0,52.0,40.0,60.0,0.0,0.0,50.0,0.0,60.0,45.0,40.0,40.0,55.0,45.0,40.0,60.0,50.0,50.0,40.0,45.0,46.0,0.0,45.0,40.0,40.0,40.0,50.0,50.0,45.0,40.0,48.0,45.0,60.0,40.0,50.0,55.0,55.0,45.0,70.0,60.0,30.0,40.0,60.0,48.0,40.0,40.0,50.0,30.0,60.0,49.0,40.0,50.0,40.0,40.0,50.0,60.0,42.0,30.0,45.0,48.0,0.0,0.0,47.0,40.0,65.0,60.0,40.0,45.0,49.0,40.0,45.0,60.0,25.0,55.0,80.0,53.0,55.0,30.0,55.0,50.0,40.0,40.0,49.8,38.0,0.0,45.0,40.0,35.0,40.0,48.0,50.0,45.0,65.0,0.0,40.0,50.0,45.0,40.0,55.0,55.0,40.0,50.0,47.0,35.0],\"type\":\"scatter\"}],                        {\"showlegend\":true,\"template\":{\"data\":{\"barpolar\":[{\"marker\":{\"line\":{\"color\":\"#E5ECF6\",\"width\":0.5},\"pattern\":{\"fillmode\":\"overlay\",\"size\":10,\"solidity\":0.2}},\"type\":\"barpolar\"}],\"bar\":[{\"error_x\":{\"color\":\"#2a3f5f\"},\"error_y\":{\"color\":\"#2a3f5f\"},\"marker\":{\"line\":{\"color\":\"#E5ECF6\",\"width\":0.5},\"pattern\":{\"fillmode\":\"overlay\",\"size\":10,\"solidity\":0.2}},\"type\":\"bar\"}],\"carpet\":[{\"aaxis\":{\"endlinecolor\":\"#2a3f5f\",\"gridcolor\":\"white\",\"linecolor\":\"white\",\"minorgridcolor\":\"white\",\"startlinecolor\":\"#2a3f5f\"},\"baxis\":{\"endlinecolor\":\"#2a3f5f\",\"gridcolor\":\"white\",\"linecolor\":\"white\",\"minorgridcolor\":\"white\",\"startlinecolor\":\"#2a3f5f\"},\"type\":\"carpet\"}],\"choropleth\":[{\"colorbar\":{\"outlinewidth\":0,\"ticks\":\"\"},\"type\":\"choropleth\"}],\"contourcarpet\":[{\"colorbar\":{\"outlinewidth\":0,\"ticks\":\"\"},\"type\":\"contourcarpet\"}],\"contour\":[{\"colorbar\":{\"outlinewidth\":0,\"ticks\":\"\"},\"colorscale\":[[0.0,\"#0d0887\"],[0.1111111111111111,\"#46039f\"],[0.2222222222222222,\"#7201a8\"],[0.3333333333333333,\"#9c179e\"],[0.4444444444444444,\"#bd3786\"],[0.5555555555555556,\"#d8576b\"],[0.6666666666666666,\"#ed7953\"],[0.7777777777777778,\"#fb9f3a\"],[0.8888888888888888,\"#fdca26\"],[1.0,\"#f0f921\"]],\"type\":\"contour\"}],\"heatmapgl\":[{\"colorbar\":{\"outlinewidth\":0,\"ticks\":\"\"},\"colorscale\":[[0.0,\"#0d0887\"],[0.1111111111111111,\"#46039f\"],[0.2222222222222222,\"#7201a8\"],[0.3333333333333333,\"#9c179e\"],[0.4444444444444444,\"#bd3786\"],[0.5555555555555556,\"#d8576b\"],[0.6666666666666666,\"#ed7953\"],[0.7777777777777778,\"#fb9f3a\"],[0.8888888888888888,\"#fdca26\"],[1.0,\"#f0f921\"]],\"type\":\"heatmapgl\"}],\"heatmap\":[{\"colorbar\":{\"outlinewidth\":0,\"ticks\":\"\"},\"colorscale\":[[0.0,\"#0d0887\"],[0.1111111111111111,\"#46039f\"],[0.2222222222222222,\"#7201a8\"],[0.3333333333333333,\"#9c179e\"],[0.4444444444444444,\"#bd3786\"],[0.5555555555555556,\"#d8576b\"],[0.6666666666666666,\"#ed7953\"],[0.7777777777777778,\"#fb9f3a\"],[0.8888888888888888,\"#fdca26\"],[1.0,\"#f0f921\"]],\"type\":\"heatmap\"}],\"histogram2dcontour\":[{\"colorbar\":{\"outlinewidth\":0,\"ticks\":\"\"},\"colorscale\":[[0.0,\"#0d0887\"],[0.1111111111111111,\"#46039f\"],[0.2222222222222222,\"#7201a8\"],[0.3333333333333333,\"#9c179e\"],[0.4444444444444444,\"#bd3786\"],[0.5555555555555556,\"#d8576b\"],[0.6666666666666666,\"#ed7953\"],[0.7777777777777778,\"#fb9f3a\"],[0.8888888888888888,\"#fdca26\"],[1.0,\"#f0f921\"]],\"type\":\"histogram2dcontour\"}],\"histogram2d\":[{\"colorbar\":{\"outlinewidth\":0,\"ticks\":\"\"},\"colorscale\":[[0.0,\"#0d0887\"],[0.1111111111111111,\"#46039f\"],[0.2222222222222222,\"#7201a8\"],[0.3333333333333333,\"#9c179e\"],[0.4444444444444444,\"#bd3786\"],[0.5555555555555556,\"#d8576b\"],[0.6666666666666666,\"#ed7953\"],[0.7777777777777778,\"#fb9f3a\"],[0.8888888888888888,\"#fdca26\"],[1.0,\"#f0f921\"]],\"type\":\"histogram2d\"}],\"histogram\":[{\"marker\":{\"pattern\":{\"fillmode\":\"overlay\",\"size\":10,\"solidity\":0.2}},\"type\":\"histogram\"}],\"mesh3d\":[{\"colorbar\":{\"outlinewidth\":0,\"ticks\":\"\"},\"type\":\"mesh3d\"}],\"parcoords\":[{\"line\":{\"colorbar\":{\"outlinewidth\":0,\"ticks\":\"\"}},\"type\":\"parcoords\"}],\"pie\":[{\"automargin\":true,\"type\":\"pie\"}],\"scatter3d\":[{\"line\":{\"colorbar\":{\"outlinewidth\":0,\"ticks\":\"\"}},\"marker\":{\"colorbar\":{\"outlinewidth\":0,\"ticks\":\"\"}},\"type\":\"scatter3d\"}],\"scattercarpet\":[{\"marker\":{\"colorbar\":{\"outlinewidth\":0,\"ticks\":\"\"}},\"type\":\"scattercarpet\"}],\"scattergeo\":[{\"marker\":{\"colorbar\":{\"outlinewidth\":0,\"ticks\":\"\"}},\"type\":\"scattergeo\"}],\"scattergl\":[{\"marker\":{\"colorbar\":{\"outlinewidth\":0,\"ticks\":\"\"}},\"type\":\"scattergl\"}],\"scattermapbox\":[{\"marker\":{\"colorbar\":{\"outlinewidth\":0,\"ticks\":\"\"}},\"type\":\"scattermapbox\"}],\"scatterpolargl\":[{\"marker\":{\"colorbar\":{\"outlinewidth\":0,\"ticks\":\"\"}},\"type\":\"scatterpolargl\"}],\"scatterpolar\":[{\"marker\":{\"colorbar\":{\"outlinewidth\":0,\"ticks\":\"\"}},\"type\":\"scatterpolar\"}],\"scatter\":[{\"fillpattern\":{\"fillmode\":\"overlay\",\"size\":10,\"solidity\":0.2},\"type\":\"scatter\"}],\"scatterternary\":[{\"marker\":{\"colorbar\":{\"outlinewidth\":0,\"ticks\":\"\"}},\"type\":\"scatterternary\"}],\"surface\":[{\"colorbar\":{\"outlinewidth\":0,\"ticks\":\"\"},\"colorscale\":[[0.0,\"#0d0887\"],[0.1111111111111111,\"#46039f\"],[0.2222222222222222,\"#7201a8\"],[0.3333333333333333,\"#9c179e\"],[0.4444444444444444,\"#bd3786\"],[0.5555555555555556,\"#d8576b\"],[0.6666666666666666,\"#ed7953\"],[0.7777777777777778,\"#fb9f3a\"],[0.8888888888888888,\"#fdca26\"],[1.0,\"#f0f921\"]],\"type\":\"surface\"}],\"table\":[{\"cells\":{\"fill\":{\"color\":\"#EBF0F8\"},\"line\":{\"color\":\"white\"}},\"header\":{\"fill\":{\"color\":\"#C8D4E3\"},\"line\":{\"color\":\"white\"}},\"type\":\"table\"}]},\"layout\":{\"annotationdefaults\":{\"arrowcolor\":\"#2a3f5f\",\"arrowhead\":0,\"arrowwidth\":1},\"autotypenumbers\":\"strict\",\"coloraxis\":{\"colorbar\":{\"outlinewidth\":0,\"ticks\":\"\"}},\"colorscale\":{\"diverging\":[[0,\"#8e0152\"],[0.1,\"#c51b7d\"],[0.2,\"#de77ae\"],[0.3,\"#f1b6da\"],[0.4,\"#fde0ef\"],[0.5,\"#f7f7f7\"],[0.6,\"#e6f5d0\"],[0.7,\"#b8e186\"],[0.8,\"#7fbc41\"],[0.9,\"#4d9221\"],[1,\"#276419\"]],\"sequential\":[[0.0,\"#0d0887\"],[0.1111111111111111,\"#46039f\"],[0.2222222222222222,\"#7201a8\"],[0.3333333333333333,\"#9c179e\"],[0.4444444444444444,\"#bd3786\"],[0.5555555555555556,\"#d8576b\"],[0.6666666666666666,\"#ed7953\"],[0.7777777777777778,\"#fb9f3a\"],[0.8888888888888888,\"#fdca26\"],[1.0,\"#f0f921\"]],\"sequentialminus\":[[0.0,\"#0d0887\"],[0.1111111111111111,\"#46039f\"],[0.2222222222222222,\"#7201a8\"],[0.3333333333333333,\"#9c179e\"],[0.4444444444444444,\"#bd3786\"],[0.5555555555555556,\"#d8576b\"],[0.6666666666666666,\"#ed7953\"],[0.7777777777777778,\"#fb9f3a\"],[0.8888888888888888,\"#fdca26\"],[1.0,\"#f0f921\"]]},\"colorway\":[\"#636efa\",\"#EF553B\",\"#00cc96\",\"#ab63fa\",\"#FFA15A\",\"#19d3f3\",\"#FF6692\",\"#B6E880\",\"#FF97FF\",\"#FECB52\"],\"font\":{\"color\":\"#2a3f5f\"},\"geo\":{\"bgcolor\":\"white\",\"lakecolor\":\"white\",\"landcolor\":\"#E5ECF6\",\"showlakes\":true,\"showland\":true,\"subunitcolor\":\"white\"},\"hoverlabel\":{\"align\":\"left\"},\"hovermode\":\"closest\",\"mapbox\":{\"style\":\"light\"},\"paper_bgcolor\":\"white\",\"plot_bgcolor\":\"#E5ECF6\",\"polar\":{\"angularaxis\":{\"gridcolor\":\"white\",\"linecolor\":\"white\",\"ticks\":\"\"},\"bgcolor\":\"#E5ECF6\",\"radialaxis\":{\"gridcolor\":\"white\",\"linecolor\":\"white\",\"ticks\":\"\"}},\"scene\":{\"xaxis\":{\"backgroundcolor\":\"#E5ECF6\",\"gridcolor\":\"white\",\"gridwidth\":2,\"linecolor\":\"white\",\"showbackground\":true,\"ticks\":\"\",\"zerolinecolor\":\"white\"},\"yaxis\":{\"backgroundcolor\":\"#E5ECF6\",\"gridcolor\":\"white\",\"gridwidth\":2,\"linecolor\":\"white\",\"showbackground\":true,\"ticks\":\"\",\"zerolinecolor\":\"white\"},\"zaxis\":{\"backgroundcolor\":\"#E5ECF6\",\"gridcolor\":\"white\",\"gridwidth\":2,\"linecolor\":\"white\",\"showbackground\":true,\"ticks\":\"\",\"zerolinecolor\":\"white\"}},\"shapedefaults\":{\"line\":{\"color\":\"#2a3f5f\"}},\"ternary\":{\"aaxis\":{\"gridcolor\":\"white\",\"linecolor\":\"white\",\"ticks\":\"\"},\"baxis\":{\"gridcolor\":\"white\",\"linecolor\":\"white\",\"ticks\":\"\"},\"bgcolor\":\"#E5ECF6\",\"caxis\":{\"gridcolor\":\"white\",\"linecolor\":\"white\",\"ticks\":\"\"}},\"title\":{\"x\":0.05},\"xaxis\":{\"automargin\":true,\"gridcolor\":\"white\",\"linecolor\":\"white\",\"ticks\":\"\",\"title\":{\"standoff\":15},\"zerolinecolor\":\"white\",\"zerolinewidth\":2},\"yaxis\":{\"automargin\":true,\"gridcolor\":\"white\",\"linecolor\":\"white\",\"ticks\":\"\",\"title\":{\"standoff\":15},\"zerolinecolor\":\"white\",\"zerolinewidth\":2}}},\"title\":{\"text\":\"Scatter plot showing Youth and Elderly Population Distribution in Lebanese Villages for families with 1 to 3 members\"},\"xaxis\":{\"title\":{\"text\":\"Elderly Population Percentage\"}},\"yaxis\":{\"title\":{\"text\":\"Youth Population Percentage\"}}},                        {\"responsive\": true}                    ).then(function(){\n",
       "                            \n",
       "var gd = document.getElementById('d0c88217-6128-41ca-a1f5-349f35a50a97');\n",
       "var x = new MutationObserver(function (mutations, observer) {{\n",
       "        var display = window.getComputedStyle(gd).display;\n",
       "        if (!display || display === 'none') {{\n",
       "            console.log([gd, 'removed!']);\n",
       "            Plotly.purge(gd);\n",
       "            observer.disconnect();\n",
       "        }}\n",
       "}});\n",
       "\n",
       "// Listen for the removal of the full notebook cells\n",
       "var notebookContainer = gd.closest('#notebook-container');\n",
       "if (notebookContainer) {{\n",
       "    x.observe(notebookContainer, {childList: true});\n",
       "}}\n",
       "\n",
       "// Listen for the clearing of the current output cell\n",
       "var outputEl = gd.closest('.output');\n",
       "if (outputEl) {{\n",
       "    x.observe(outputEl, {childList: true});\n",
       "}}\n",
       "\n",
       "                        })                };                });            </script>        </div>"
      ]
     },
     "metadata": {},
     "output_type": "display_data"
    }
   ],
   "source": [
    "df=df[(df.iloc[:, 7] == 1) & (df.iloc[:, 0] < 100) & (df.iloc[:, 1] < 100)]\n",
    "x = df.iloc[:,4]\n",
    "y1 = df.iloc[:, 0] \n",
    "y2 = df.iloc[:, 1]  \n",
    "trace1 = go.Scatter(x=x,y=y1,mode='none',fill='tozeroy',name='Elderly')\n",
    "trace2 = go.Scatter(x=x,y=y2,mode='none',fill='tonexty',name='Youth')\n",
    "layout = go.Layout(title='Scatter plot showing Youth and Elderly Population Distribution in Lebanese Villages for families with 1 to 3 members',xaxis_title='Elderly Population Percentage',yaxis_title='Youth Population Percentage',showlegend=True)\n",
    "fig = go.Figure(data=[trace1, trace2], layout=layout)\n",
    "py.iplot(fig, filename='area')"
   ]
  },
  {
   "cell_type": "code",
   "execution_count": 21,
   "id": "0796cd1c-15d1-4f4d-9a4a-4290ff3c107d",
   "metadata": {},
   "outputs": [
    {
     "data": {
      "application/vnd.plotly.v1+json": {
       "config": {
        "linkText": "Export to plot.ly",
        "plotlyServerURL": "https://plot.ly",
        "showLink": false
       },
       "data": [
        {
         "hoverinfo": "text",
         "marker": {
          "color": "blue",
          "line": {
           "color": "black",
           "width": 2
          },
          "size": 12
         },
         "mode": "markers",
         "text": [
          "Aabdine",
          "Aain Drafil",
          "Aain Ed-Delbe",
          "Aain El Saydeh",
          "Aain El-Kharroubeh",
          "Aain Et-Teffaha",
          "Aain Harsha",
          "Aaita Ej-Jabal",
          "Aalmane Ech-Chouf",
          "Aammatour",
          "Aanout",
          "Aathrine",
          "Aayha",
          "Aayroun",
          "Aaytat",
          "Antelias-Naccache",
          "Arsoun",
          "Baisour",
          "Balloune",
          "Batroumine",
          "Batroun",
          "Bchamoun",
          "Behdaydat",
          "Beit Monzer",
          "Berti",
          "Besri Jezzine",
          "Bmahray",
          "Bnaafoul",
          "Bnabil",
          "Bohwara",
          "Borj Aakkar",
          "Borj En-Naqoura",
          "Bouar",
          "Bqaa Kafra",
          "Bramiyeh",
          "Breissat",
          "Bsarma",
          "Btalloun",
          "Btedine El-Leqch",
          "Bzoummar",
          "Chamate",
          "Chhim",
          "Chibtine",
          "Chimlane",
          "Chnanaair",
          "Damour",
          "Daraiya Kesrouane",
          "Deir El-Ghazal",
          "Deir Mimas",
          "Dibbine",
          "Dlebta",
          "Douma",
          "Edde El-Batroun",
          "Eghbe",
          "El Ghabe",
          "Fatre",
          "Fourzol",
          "Ghabat",
          "Ghaziyeh",
          "Hadath Ej-Jebbeh",
          "Hammana",
          "Hanaouay",
          "Haouch El Qinnabeh Rachaya",
          "Hdeine",
          "Heri",
          "Hilan",
          "Jbaa En-Nabatiyeh-Ein-Boswar",
          "Jbeil",
          "Jdaidet Ghazir",
          "Jdita",
          "Jenjlaya",
          "Jiyeh",
          "Jouret El-Ballout",
          "Kafr Harra",
          "Kaftoun",
          "Kfar Hay",
          "Kfar Jreif",
          "Kfarhata ",
          "Kfarhata Zgharta",
          "Kouakh",
          "Kour",
          "Lassa",
          "Magher wbala",
          "Mar Chaaya",
          "Mazraat Mechref",
          "Mhaiydseh Rachaya",
          "Miziara",
          "Nabi Ayla",
          "Nabi Osmane",
          "Nakhleh",
          "Nimrine",
          "Nmairiyeh",
          "Qaa Er-Rim",
          "Qahmez",
          "Qalaouiyeh",
          "Qarah Bach",
          "Qartaba",
          "Qaynour",
          "Qaytouleh",
          "Qbaiyat Aakkar",
          "Qennabet Broummana",
          "Qleiaat Aakkar",
          "Qnat",
          "Qortada",
          "Qsaibet En-Nabatiyeh",
          "Rahbeh",
          "Rashana",
          "Sebaal Zgharta",
          "Soultaniyet Bent Jbeil",
          "Srayri",
          "Srobbine",
          "Talia",
          "Tallet Chattaha",
          "Toula El-Batroun",
          "Zaitoun",
          "Zeita",
          "Zgharta-Ehden",
          "Zibdine En-Nabatiyeh",
          "Zouarib",
          "Zrariyeh",
          "berqayel"
         ],
         "textposition": "top center",
         "type": "scatter",
         "x": [
          0,
          48,
          30,
          60,
          0,
          40,
          45,
          65,
          40,
          45,
          40,
          45,
          35,
          50,
          48,
          0,
          50,
          50,
          52,
          40,
          60,
          0,
          0,
          50,
          0,
          60,
          45,
          40,
          40,
          55,
          45,
          40,
          60,
          50,
          50,
          40,
          45,
          46,
          0,
          45,
          40,
          40,
          40,
          50,
          50,
          45,
          40,
          48,
          45,
          60,
          40,
          50,
          55,
          55,
          45,
          70,
          60,
          30,
          40,
          60,
          48,
          40,
          40,
          50,
          30,
          60,
          49,
          40,
          50,
          40,
          40,
          50,
          60,
          42,
          30,
          45,
          48,
          0,
          0,
          47,
          40,
          65,
          60,
          40,
          45,
          49,
          40,
          45,
          60,
          25,
          55,
          80,
          53,
          55,
          30,
          55,
          50,
          40,
          40,
          49.8,
          38,
          0,
          45,
          40,
          35,
          40,
          48,
          50,
          45,
          65,
          0,
          40,
          50,
          45,
          40,
          55,
          55,
          40,
          50,
          47,
          35
         ],
         "y": [
          0,
          52,
          40,
          40,
          0,
          60,
          55,
          35,
          60,
          55,
          60,
          55,
          65,
          50,
          52,
          0,
          50,
          50,
          48,
          60,
          40,
          0,
          0,
          50,
          0,
          40,
          55,
          60,
          60,
          45,
          55,
          60,
          40,
          50,
          50,
          60,
          55,
          54,
          0,
          55,
          60,
          60,
          60,
          50,
          50,
          55,
          60,
          52,
          55,
          40,
          60,
          50,
          45,
          45,
          55,
          70,
          40,
          70,
          60,
          40,
          52,
          40,
          60,
          50,
          70,
          40,
          51,
          60,
          50,
          60,
          60,
          50,
          40,
          48,
          70,
          55,
          52,
          0,
          0,
          53,
          60,
          35,
          40,
          60,
          55,
          51,
          60,
          55,
          40,
          75,
          45,
          20,
          47,
          45,
          70,
          45,
          50,
          60,
          60,
          50.2,
          62,
          0,
          55,
          60,
          65,
          60,
          52,
          50,
          55,
          35,
          0,
          60,
          50,
          55,
          60,
          45,
          45,
          60,
          50,
          53,
          65
         ]
        }
       ],
       "layout": {
        "autosize": true,
        "template": {
         "data": {
          "bar": [
           {
            "error_x": {
             "color": "#2a3f5f"
            },
            "error_y": {
             "color": "#2a3f5f"
            },
            "marker": {
             "line": {
              "color": "#E5ECF6",
              "width": 0.5
             },
             "pattern": {
              "fillmode": "overlay",
              "size": 10,
              "solidity": 0.2
             }
            },
            "type": "bar"
           }
          ],
          "barpolar": [
           {
            "marker": {
             "line": {
              "color": "#E5ECF6",
              "width": 0.5
             },
             "pattern": {
              "fillmode": "overlay",
              "size": 10,
              "solidity": 0.2
             }
            },
            "type": "barpolar"
           }
          ],
          "carpet": [
           {
            "aaxis": {
             "endlinecolor": "#2a3f5f",
             "gridcolor": "white",
             "linecolor": "white",
             "minorgridcolor": "white",
             "startlinecolor": "#2a3f5f"
            },
            "baxis": {
             "endlinecolor": "#2a3f5f",
             "gridcolor": "white",
             "linecolor": "white",
             "minorgridcolor": "white",
             "startlinecolor": "#2a3f5f"
            },
            "type": "carpet"
           }
          ],
          "choropleth": [
           {
            "colorbar": {
             "outlinewidth": 0,
             "ticks": ""
            },
            "type": "choropleth"
           }
          ],
          "contour": [
           {
            "colorbar": {
             "outlinewidth": 0,
             "ticks": ""
            },
            "colorscale": [
             [
              0,
              "#0d0887"
             ],
             [
              0.1111111111111111,
              "#46039f"
             ],
             [
              0.2222222222222222,
              "#7201a8"
             ],
             [
              0.3333333333333333,
              "#9c179e"
             ],
             [
              0.4444444444444444,
              "#bd3786"
             ],
             [
              0.5555555555555556,
              "#d8576b"
             ],
             [
              0.6666666666666666,
              "#ed7953"
             ],
             [
              0.7777777777777778,
              "#fb9f3a"
             ],
             [
              0.8888888888888888,
              "#fdca26"
             ],
             [
              1,
              "#f0f921"
             ]
            ],
            "type": "contour"
           }
          ],
          "contourcarpet": [
           {
            "colorbar": {
             "outlinewidth": 0,
             "ticks": ""
            },
            "type": "contourcarpet"
           }
          ],
          "heatmap": [
           {
            "colorbar": {
             "outlinewidth": 0,
             "ticks": ""
            },
            "colorscale": [
             [
              0,
              "#0d0887"
             ],
             [
              0.1111111111111111,
              "#46039f"
             ],
             [
              0.2222222222222222,
              "#7201a8"
             ],
             [
              0.3333333333333333,
              "#9c179e"
             ],
             [
              0.4444444444444444,
              "#bd3786"
             ],
             [
              0.5555555555555556,
              "#d8576b"
             ],
             [
              0.6666666666666666,
              "#ed7953"
             ],
             [
              0.7777777777777778,
              "#fb9f3a"
             ],
             [
              0.8888888888888888,
              "#fdca26"
             ],
             [
              1,
              "#f0f921"
             ]
            ],
            "type": "heatmap"
           }
          ],
          "heatmapgl": [
           {
            "colorbar": {
             "outlinewidth": 0,
             "ticks": ""
            },
            "colorscale": [
             [
              0,
              "#0d0887"
             ],
             [
              0.1111111111111111,
              "#46039f"
             ],
             [
              0.2222222222222222,
              "#7201a8"
             ],
             [
              0.3333333333333333,
              "#9c179e"
             ],
             [
              0.4444444444444444,
              "#bd3786"
             ],
             [
              0.5555555555555556,
              "#d8576b"
             ],
             [
              0.6666666666666666,
              "#ed7953"
             ],
             [
              0.7777777777777778,
              "#fb9f3a"
             ],
             [
              0.8888888888888888,
              "#fdca26"
             ],
             [
              1,
              "#f0f921"
             ]
            ],
            "type": "heatmapgl"
           }
          ],
          "histogram": [
           {
            "marker": {
             "pattern": {
              "fillmode": "overlay",
              "size": 10,
              "solidity": 0.2
             }
            },
            "type": "histogram"
           }
          ],
          "histogram2d": [
           {
            "colorbar": {
             "outlinewidth": 0,
             "ticks": ""
            },
            "colorscale": [
             [
              0,
              "#0d0887"
             ],
             [
              0.1111111111111111,
              "#46039f"
             ],
             [
              0.2222222222222222,
              "#7201a8"
             ],
             [
              0.3333333333333333,
              "#9c179e"
             ],
             [
              0.4444444444444444,
              "#bd3786"
             ],
             [
              0.5555555555555556,
              "#d8576b"
             ],
             [
              0.6666666666666666,
              "#ed7953"
             ],
             [
              0.7777777777777778,
              "#fb9f3a"
             ],
             [
              0.8888888888888888,
              "#fdca26"
             ],
             [
              1,
              "#f0f921"
             ]
            ],
            "type": "histogram2d"
           }
          ],
          "histogram2dcontour": [
           {
            "colorbar": {
             "outlinewidth": 0,
             "ticks": ""
            },
            "colorscale": [
             [
              0,
              "#0d0887"
             ],
             [
              0.1111111111111111,
              "#46039f"
             ],
             [
              0.2222222222222222,
              "#7201a8"
             ],
             [
              0.3333333333333333,
              "#9c179e"
             ],
             [
              0.4444444444444444,
              "#bd3786"
             ],
             [
              0.5555555555555556,
              "#d8576b"
             ],
             [
              0.6666666666666666,
              "#ed7953"
             ],
             [
              0.7777777777777778,
              "#fb9f3a"
             ],
             [
              0.8888888888888888,
              "#fdca26"
             ],
             [
              1,
              "#f0f921"
             ]
            ],
            "type": "histogram2dcontour"
           }
          ],
          "mesh3d": [
           {
            "colorbar": {
             "outlinewidth": 0,
             "ticks": ""
            },
            "type": "mesh3d"
           }
          ],
          "parcoords": [
           {
            "line": {
             "colorbar": {
              "outlinewidth": 0,
              "ticks": ""
             }
            },
            "type": "parcoords"
           }
          ],
          "pie": [
           {
            "automargin": true,
            "type": "pie"
           }
          ],
          "scatter": [
           {
            "fillpattern": {
             "fillmode": "overlay",
             "size": 10,
             "solidity": 0.2
            },
            "type": "scatter"
           }
          ],
          "scatter3d": [
           {
            "line": {
             "colorbar": {
              "outlinewidth": 0,
              "ticks": ""
             }
            },
            "marker": {
             "colorbar": {
              "outlinewidth": 0,
              "ticks": ""
             }
            },
            "type": "scatter3d"
           }
          ],
          "scattercarpet": [
           {
            "marker": {
             "colorbar": {
              "outlinewidth": 0,
              "ticks": ""
             }
            },
            "type": "scattercarpet"
           }
          ],
          "scattergeo": [
           {
            "marker": {
             "colorbar": {
              "outlinewidth": 0,
              "ticks": ""
             }
            },
            "type": "scattergeo"
           }
          ],
          "scattergl": [
           {
            "marker": {
             "colorbar": {
              "outlinewidth": 0,
              "ticks": ""
             }
            },
            "type": "scattergl"
           }
          ],
          "scattermapbox": [
           {
            "marker": {
             "colorbar": {
              "outlinewidth": 0,
              "ticks": ""
             }
            },
            "type": "scattermapbox"
           }
          ],
          "scatterpolar": [
           {
            "marker": {
             "colorbar": {
              "outlinewidth": 0,
              "ticks": ""
             }
            },
            "type": "scatterpolar"
           }
          ],
          "scatterpolargl": [
           {
            "marker": {
             "colorbar": {
              "outlinewidth": 0,
              "ticks": ""
             }
            },
            "type": "scatterpolargl"
           }
          ],
          "scatterternary": [
           {
            "marker": {
             "colorbar": {
              "outlinewidth": 0,
              "ticks": ""
             }
            },
            "type": "scatterternary"
           }
          ],
          "surface": [
           {
            "colorbar": {
             "outlinewidth": 0,
             "ticks": ""
            },
            "colorscale": [
             [
              0,
              "#0d0887"
             ],
             [
              0.1111111111111111,
              "#46039f"
             ],
             [
              0.2222222222222222,
              "#7201a8"
             ],
             [
              0.3333333333333333,
              "#9c179e"
             ],
             [
              0.4444444444444444,
              "#bd3786"
             ],
             [
              0.5555555555555556,
              "#d8576b"
             ],
             [
              0.6666666666666666,
              "#ed7953"
             ],
             [
              0.7777777777777778,
              "#fb9f3a"
             ],
             [
              0.8888888888888888,
              "#fdca26"
             ],
             [
              1,
              "#f0f921"
             ]
            ],
            "type": "surface"
           }
          ],
          "table": [
           {
            "cells": {
             "fill": {
              "color": "#EBF0F8"
             },
             "line": {
              "color": "white"
             }
            },
            "header": {
             "fill": {
              "color": "#C8D4E3"
             },
             "line": {
              "color": "white"
             }
            },
            "type": "table"
           }
          ]
         },
         "layout": {
          "annotationdefaults": {
           "arrowcolor": "#2a3f5f",
           "arrowhead": 0,
           "arrowwidth": 1
          },
          "autotypenumbers": "strict",
          "coloraxis": {
           "colorbar": {
            "outlinewidth": 0,
            "ticks": ""
           }
          },
          "colorscale": {
           "diverging": [
            [
             0,
             "#8e0152"
            ],
            [
             0.1,
             "#c51b7d"
            ],
            [
             0.2,
             "#de77ae"
            ],
            [
             0.3,
             "#f1b6da"
            ],
            [
             0.4,
             "#fde0ef"
            ],
            [
             0.5,
             "#f7f7f7"
            ],
            [
             0.6,
             "#e6f5d0"
            ],
            [
             0.7,
             "#b8e186"
            ],
            [
             0.8,
             "#7fbc41"
            ],
            [
             0.9,
             "#4d9221"
            ],
            [
             1,
             "#276419"
            ]
           ],
           "sequential": [
            [
             0,
             "#0d0887"
            ],
            [
             0.1111111111111111,
             "#46039f"
            ],
            [
             0.2222222222222222,
             "#7201a8"
            ],
            [
             0.3333333333333333,
             "#9c179e"
            ],
            [
             0.4444444444444444,
             "#bd3786"
            ],
            [
             0.5555555555555556,
             "#d8576b"
            ],
            [
             0.6666666666666666,
             "#ed7953"
            ],
            [
             0.7777777777777778,
             "#fb9f3a"
            ],
            [
             0.8888888888888888,
             "#fdca26"
            ],
            [
             1,
             "#f0f921"
            ]
           ],
           "sequentialminus": [
            [
             0,
             "#0d0887"
            ],
            [
             0.1111111111111111,
             "#46039f"
            ],
            [
             0.2222222222222222,
             "#7201a8"
            ],
            [
             0.3333333333333333,
             "#9c179e"
            ],
            [
             0.4444444444444444,
             "#bd3786"
            ],
            [
             0.5555555555555556,
             "#d8576b"
            ],
            [
             0.6666666666666666,
             "#ed7953"
            ],
            [
             0.7777777777777778,
             "#fb9f3a"
            ],
            [
             0.8888888888888888,
             "#fdca26"
            ],
            [
             1,
             "#f0f921"
            ]
           ]
          },
          "colorway": [
           "#636efa",
           "#EF553B",
           "#00cc96",
           "#ab63fa",
           "#FFA15A",
           "#19d3f3",
           "#FF6692",
           "#B6E880",
           "#FF97FF",
           "#FECB52"
          ],
          "font": {
           "color": "#2a3f5f"
          },
          "geo": {
           "bgcolor": "white",
           "lakecolor": "white",
           "landcolor": "#E5ECF6",
           "showlakes": true,
           "showland": true,
           "subunitcolor": "white"
          },
          "hoverlabel": {
           "align": "left"
          },
          "hovermode": "closest",
          "mapbox": {
           "style": "light"
          },
          "paper_bgcolor": "white",
          "plot_bgcolor": "#E5ECF6",
          "polar": {
           "angularaxis": {
            "gridcolor": "white",
            "linecolor": "white",
            "ticks": ""
           },
           "bgcolor": "#E5ECF6",
           "radialaxis": {
            "gridcolor": "white",
            "linecolor": "white",
            "ticks": ""
           }
          },
          "scene": {
           "xaxis": {
            "backgroundcolor": "#E5ECF6",
            "gridcolor": "white",
            "gridwidth": 2,
            "linecolor": "white",
            "showbackground": true,
            "ticks": "",
            "zerolinecolor": "white"
           },
           "yaxis": {
            "backgroundcolor": "#E5ECF6",
            "gridcolor": "white",
            "gridwidth": 2,
            "linecolor": "white",
            "showbackground": true,
            "ticks": "",
            "zerolinecolor": "white"
           },
           "zaxis": {
            "backgroundcolor": "#E5ECF6",
            "gridcolor": "white",
            "gridwidth": 2,
            "linecolor": "white",
            "showbackground": true,
            "ticks": "",
            "zerolinecolor": "white"
           }
          },
          "shapedefaults": {
           "line": {
            "color": "#2a3f5f"
           }
          },
          "ternary": {
           "aaxis": {
            "gridcolor": "white",
            "linecolor": "white",
            "ticks": ""
           },
           "baxis": {
            "gridcolor": "white",
            "linecolor": "white",
            "ticks": ""
           },
           "bgcolor": "#E5ECF6",
           "caxis": {
            "gridcolor": "white",
            "linecolor": "white",
            "ticks": ""
           }
          },
          "title": {
           "x": 0.05
          },
          "xaxis": {
           "automargin": true,
           "gridcolor": "white",
           "linecolor": "white",
           "ticks": "",
           "title": {
            "standoff": 15
           },
           "zerolinecolor": "white",
           "zerolinewidth": 2
          },
          "yaxis": {
           "automargin": true,
           "gridcolor": "white",
           "linecolor": "white",
           "ticks": "",
           "title": {
            "standoff": 15
           },
           "zerolinecolor": "white",
           "zerolinewidth": 2
          }
         }
        },
        "title": {
         "text": "Scatter plot % Men vs. % Women in Villages"
        },
        "xaxis": {
         "range": [
          0,
          88
         ],
         "title": {
          "text": "Men"
         },
         "type": "linear"
        },
        "yaxis": {
         "range": [
          0,
          82.5
         ],
         "title": {
          "text": "Women"
         },
         "type": "linear"
        }
       }
      },
      "image/png": "[encoded data removed]",
      "text/html": [
       "<div>                            <div id=\"b9f33a9d-39cc-47c0-92b1-c4cc873d171c\" class=\"plotly-graph-div\" style=\"height:525px; width:100%;\"></div>            <script type=\"text/javascript\">                require([\"plotly\"], function(Plotly) {                    window.PLOTLYENV=window.PLOTLYENV || {};                                    if (document.getElementById(\"b9f33a9d-39cc-47c0-92b1-c4cc873d171c\")) {                    Plotly.newPlot(                        \"b9f33a9d-39cc-47c0-92b1-c4cc873d171c\",                        [{\"hoverinfo\":\"text\",\"marker\":{\"color\":\"blue\",\"line\":{\"color\":\"black\",\"width\":2},\"size\":12},\"mode\":\"markers\",\"text\":[\"Aabdine\",\"Aain Drafil\",\"Aain Ed-Delbe\",\"Aain El Saydeh\",\"Aain El-Kharroubeh\",\"Aain Et-Teffaha\",\"Aain Harsha\",\"Aaita Ej-Jabal\",\"Aalmane Ech-Chouf\",\"Aammatour\",\"Aanout\",\"Aathrine\",\"Aayha\",\"Aayroun\",\"Aaytat\",\"Antelias-Naccache\",\"Arsoun\",\"Baisour\",\"Balloune\",\"Batroumine\",\"Batroun\",\"Bchamoun\",\"Behdaydat\",\"Beit Monzer\",\"Berti\",\"Besri Jezzine\",\"Bmahray\",\"Bnaafoul\",\"Bnabil\",\"Bohwara\",\"Borj Aakkar\",\"Borj En-Naqoura\",\"Bouar\",\"Bqaa Kafra\",\"Bramiyeh\",\"Breissat\",\"Bsarma\",\"Btalloun\",\"Btedine El-Leqch\",\"Bzoummar\",\"Chamate\",\"Chhim\",\"Chibtine\",\"Chimlane\",\"Chnanaair\",\"Damour\",\"Daraiya Kesrouane\",\"Deir El-Ghazal\",\"Deir Mimas\",\"Dibbine\",\"Dlebta\",\"Douma\",\"Edde El-Batroun\",\"Eghbe\",\"El Ghabe\",\"Fatre\",\"Fourzol\",\"Ghabat\",\"Ghaziyeh\",\"Hadath Ej-Jebbeh\",\"Hammana\",\"Hanaouay\",\"Haouch El Qinnabeh Rachaya\",\"Hdeine\",\"Heri\",\"Hilan\",\"Jbaa En-Nabatiyeh-Ein-Boswar\",\"Jbeil\",\"Jdaidet Ghazir\",\"Jdita\",\"Jenjlaya\",\"Jiyeh\",\"Jouret El-Ballout\",\"Kafr Harra\",\"Kaftoun\",\"Kfar Hay\",\"Kfar Jreif\",\"Kfarhata\\u00a0\",\"Kfarhata Zgharta\",\"Kouakh\",\"Kour\",\"Lassa\",\"Magher wbala\",\"Mar Chaaya\",\"Mazraat Mechref\",\"Mhaiydseh Rachaya\",\"Miziara\",\"Nabi Ayla\",\"Nabi Osmane\",\"Nakhleh\",\"Nimrine\",\"Nmairiyeh\",\"Qaa Er-Rim\",\"Qahmez\",\"Qalaouiyeh\",\"Qarah Bach\",\"Qartaba\",\"Qaynour\",\"Qaytouleh\",\"Qbaiyat Aakkar\",\"Qennabet Broummana\",\"Qleiaat Aakkar\",\"Qnat\",\"Qortada\",\"Qsaibet En-Nabatiyeh\",\"Rahbeh\",\"Rashana\",\"Sebaal Zgharta\",\"Soultaniyet Bent Jbeil\",\"Srayri\",\"Srobbine\",\"Talia\",\"Tallet Chattaha\",\"Toula El-Batroun\",\"Zaitoun\",\"Zeita\",\"Zgharta-Ehden\",\"Zibdine En-Nabatiyeh\",\"Zouarib\",\"Zrariyeh\",\"berqayel\"],\"textposition\":\"top center\",\"x\":[0.0,48.0,30.0,60.0,0.0,40.0,45.0,65.0,40.0,45.0,40.0,45.0,35.0,50.0,48.0,0.0,50.0,50.0,52.0,40.0,60.0,0.0,0.0,50.0,0.0,60.0,45.0,40.0,40.0,55.0,45.0,40.0,60.0,50.0,50.0,40.0,45.0,46.0,0.0,45.0,40.0,40.0,40.0,50.0,50.0,45.0,40.0,48.0,45.0,60.0,40.0,50.0,55.0,55.0,45.0,70.0,60.0,30.0,40.0,60.0,48.0,40.0,40.0,50.0,30.0,60.0,49.0,40.0,50.0,40.0,40.0,50.0,60.0,42.0,30.0,45.0,48.0,0.0,0.0,47.0,40.0,65.0,60.0,40.0,45.0,49.0,40.0,45.0,60.0,25.0,55.0,80.0,53.0,55.0,30.0,55.0,50.0,40.0,40.0,49.8,38.0,0.0,45.0,40.0,35.0,40.0,48.0,50.0,45.0,65.0,0.0,40.0,50.0,45.0,40.0,55.0,55.0,40.0,50.0,47.0,35.0],\"y\":[0.0,52.0,40.0,40.0,0.0,60.0,55.0,35.0,60.0,55.0,60.0,55.0,65.0,50.0,52.0,0.0,50.0,50.0,48.0,60.0,40.0,0.0,0.0,50.0,0.0,40.0,55.0,60.0,60.0,45.0,55.0,60.0,40.0,50.0,50.0,60.0,55.0,54.0,0.0,55.0,60.0,60.0,60.0,50.0,50.0,55.0,60.0,52.0,55.0,40.0,60.0,50.0,45.0,45.0,55.0,70.0,40.0,70.0,60.0,40.0,52.0,40.0,60.0,50.0,70.0,40.0,51.0,60.0,50.0,60.0,60.0,50.0,40.0,48.0,70.0,55.0,52.0,0.0,0.0,53.0,60.0,35.0,40.0,60.0,55.0,51.0,60.0,55.0,40.0,75.0,45.0,20.0,47.0,45.0,70.0,45.0,50.0,60.0,60.0,50.2,62.0,0.0,55.0,60.0,65.0,60.0,52.0,50.0,55.0,35.0,0.0,60.0,50.0,55.0,60.0,45.0,45.0,60.0,50.0,53.0,65.0],\"type\":\"scatter\"}],                        {\"template\":{\"data\":{\"barpolar\":[{\"marker\":{\"line\":{\"color\":\"#E5ECF6\",\"width\":0.5},\"pattern\":{\"fillmode\":\"overlay\",\"size\":10,\"solidity\":0.2}},\"type\":\"barpolar\"}],\"bar\":[{\"error_x\":{\"color\":\"#2a3f5f\"},\"error_y\":{\"color\":\"#2a3f5f\"},\"marker\":{\"line\":{\"color\":\"#E5ECF6\",\"width\":0.5},\"pattern\":{\"fillmode\":\"overlay\",\"size\":10,\"solidity\":0.2}},\"type\":\"bar\"}],\"carpet\":[{\"aaxis\":{\"endlinecolor\":\"#2a3f5f\",\"gridcolor\":\"white\",\"linecolor\":\"white\",\"minorgridcolor\":\"white\",\"startlinecolor\":\"#2a3f5f\"},\"baxis\":{\"endlinecolor\":\"#2a3f5f\",\"gridcolor\":\"white\",\"linecolor\":\"white\",\"minorgridcolor\":\"white\",\"startlinecolor\":\"#2a3f5f\"},\"type\":\"carpet\"}],\"choropleth\":[{\"colorbar\":{\"outlinewidth\":0,\"ticks\":\"\"},\"type\":\"choropleth\"}],\"contourcarpet\":[{\"colorbar\":{\"outlinewidth\":0,\"ticks\":\"\"},\"type\":\"contourcarpet\"}],\"contour\":[{\"colorbar\":{\"outlinewidth\":0,\"ticks\":\"\"},\"colorscale\":[[0.0,\"#0d0887\"],[0.1111111111111111,\"#46039f\"],[0.2222222222222222,\"#7201a8\"],[0.3333333333333333,\"#9c179e\"],[0.4444444444444444,\"#bd3786\"],[0.5555555555555556,\"#d8576b\"],[0.6666666666666666,\"#ed7953\"],[0.7777777777777778,\"#fb9f3a\"],[0.8888888888888888,\"#fdca26\"],[1.0,\"#f0f921\"]],\"type\":\"contour\"}],\"heatmapgl\":[{\"colorbar\":{\"outlinewidth\":0,\"ticks\":\"\"},\"colorscale\":[[0.0,\"#0d0887\"],[0.1111111111111111,\"#46039f\"],[0.2222222222222222,\"#7201a8\"],[0.3333333333333333,\"#9c179e\"],[0.4444444444444444,\"#bd3786\"],[0.5555555555555556,\"#d8576b\"],[0.6666666666666666,\"#ed7953\"],[0.7777777777777778,\"#fb9f3a\"],[0.8888888888888888,\"#fdca26\"],[1.0,\"#f0f921\"]],\"type\":\"heatmapgl\"}],\"heatmap\":[{\"colorbar\":{\"outlinewidth\":0,\"ticks\":\"\"},\"colorscale\":[[0.0,\"#0d0887\"],[0.1111111111111111,\"#46039f\"],[0.2222222222222222,\"#7201a8\"],[0.3333333333333333,\"#9c179e\"],[0.4444444444444444,\"#bd3786\"],[0.5555555555555556,\"#d8576b\"],[0.6666666666666666,\"#ed7953\"],[0.7777777777777778,\"#fb9f3a\"],[0.8888888888888888,\"#fdca26\"],[1.0,\"#f0f921\"]],\"type\":\"heatmap\"}],\"histogram2dcontour\":[{\"colorbar\":{\"outlinewidth\":0,\"ticks\":\"\"},\"colorscale\":[[0.0,\"#0d0887\"],[0.1111111111111111,\"#46039f\"],[0.2222222222222222,\"#7201a8\"],[0.3333333333333333,\"#9c179e\"],[0.4444444444444444,\"#bd3786\"],[0.5555555555555556,\"#d8576b\"],[0.6666666666666666,\"#ed7953\"],[0.7777777777777778,\"#fb9f3a\"],[0.8888888888888888,\"#fdca26\"],[1.0,\"#f0f921\"]],\"type\":\"histogram2dcontour\"}],\"histogram2d\":[{\"colorbar\":{\"outlinewidth\":0,\"ticks\":\"\"},\"colorscale\":[[0.0,\"#0d0887\"],[0.1111111111111111,\"#46039f\"],[0.2222222222222222,\"#7201a8\"],[0.3333333333333333,\"#9c179e\"],[0.4444444444444444,\"#bd3786\"],[0.5555555555555556,\"#d8576b\"],[0.6666666666666666,\"#ed7953\"],[0.7777777777777778,\"#fb9f3a\"],[0.8888888888888888,\"#fdca26\"],[1.0,\"#f0f921\"]],\"type\":\"histogram2d\"}],\"histogram\":[{\"marker\":{\"pattern\":{\"fillmode\":\"overlay\",\"size\":10,\"solidity\":0.2}},\"type\":\"histogram\"}],\"mesh3d\":[{\"colorbar\":{\"outlinewidth\":0,\"ticks\":\"\"},\"type\":\"mesh3d\"}],\"parcoords\":[{\"line\":{\"colorbar\":{\"outlinewidth\":0,\"ticks\":\"\"}},\"type\":\"parcoords\"}],\"pie\":[{\"automargin\":true,\"type\":\"pie\"}],\"scatter3d\":[{\"line\":{\"colorbar\":{\"outlinewidth\":0,\"ticks\":\"\"}},\"marker\":{\"colorbar\":{\"outlinewidth\":0,\"ticks\":\"\"}},\"type\":\"scatter3d\"}],\"scattercarpet\":[{\"marker\":{\"colorbar\":{\"outlinewidth\":0,\"ticks\":\"\"}},\"type\":\"scattercarpet\"}],\"scattergeo\":[{\"marker\":{\"colorbar\":{\"outlinewidth\":0,\"ticks\":\"\"}},\"type\":\"scattergeo\"}],\"scattergl\":[{\"marker\":{\"colorbar\":{\"outlinewidth\":0,\"ticks\":\"\"}},\"type\":\"scattergl\"}],\"scattermapbox\":[{\"marker\":{\"colorbar\":{\"outlinewidth\":0,\"ticks\":\"\"}},\"type\":\"scattermapbox\"}],\"scatterpolargl\":[{\"marker\":{\"colorbar\":{\"outlinewidth\":0,\"ticks\":\"\"}},\"type\":\"scatterpolargl\"}],\"scatterpolar\":[{\"marker\":{\"colorbar\":{\"outlinewidth\":0,\"ticks\":\"\"}},\"type\":\"scatterpolar\"}],\"scatter\":[{\"fillpattern\":{\"fillmode\":\"overlay\",\"size\":10,\"solidity\":0.2},\"type\":\"scatter\"}],\"scatterternary\":[{\"marker\":{\"colorbar\":{\"outlinewidth\":0,\"ticks\":\"\"}},\"type\":\"scatterternary\"}],\"surface\":[{\"colorbar\":{\"outlinewidth\":0,\"ticks\":\"\"},\"colorscale\":[[0.0,\"#0d0887\"],[0.1111111111111111,\"#46039f\"],[0.2222222222222222,\"#7201a8\"],[0.3333333333333333,\"#9c179e\"],[0.4444444444444444,\"#bd3786\"],[0.5555555555555556,\"#d8576b\"],[0.6666666666666666,\"#ed7953\"],[0.7777777777777778,\"#fb9f3a\"],[0.8888888888888888,\"#fdca26\"],[1.0,\"#f0f921\"]],\"type\":\"surface\"}],\"table\":[{\"cells\":{\"fill\":{\"color\":\"#EBF0F8\"},\"line\":{\"color\":\"white\"}},\"header\":{\"fill\":{\"color\":\"#C8D4E3\"},\"line\":{\"color\":\"white\"}},\"type\":\"table\"}]},\"layout\":{\"annotationdefaults\":{\"arrowcolor\":\"#2a3f5f\",\"arrowhead\":0,\"arrowwidth\":1},\"autotypenumbers\":\"strict\",\"coloraxis\":{\"colorbar\":{\"outlinewidth\":0,\"ticks\":\"\"}},\"colorscale\":{\"diverging\":[[0,\"#8e0152\"],[0.1,\"#c51b7d\"],[0.2,\"#de77ae\"],[0.3,\"#f1b6da\"],[0.4,\"#fde0ef\"],[0.5,\"#f7f7f7\"],[0.6,\"#e6f5d0\"],[0.7,\"#b8e186\"],[0.8,\"#7fbc41\"],[0.9,\"#4d9221\"],[1,\"#276419\"]],\"sequential\":[[0.0,\"#0d0887\"],[0.1111111111111111,\"#46039f\"],[0.2222222222222222,\"#7201a8\"],[0.3333333333333333,\"#9c179e\"],[0.4444444444444444,\"#bd3786\"],[0.5555555555555556,\"#d8576b\"],[0.6666666666666666,\"#ed7953\"],[0.7777777777777778,\"#fb9f3a\"],[0.8888888888888888,\"#fdca26\"],[1.0,\"#f0f921\"]],\"sequentialminus\":[[0.0,\"#0d0887\"],[0.1111111111111111,\"#46039f\"],[0.2222222222222222,\"#7201a8\"],[0.3333333333333333,\"#9c179e\"],[0.4444444444444444,\"#bd3786\"],[0.5555555555555556,\"#d8576b\"],[0.6666666666666666,\"#ed7953\"],[0.7777777777777778,\"#fb9f3a\"],[0.8888888888888888,\"#fdca26\"],[1.0,\"#f0f921\"]]},\"colorway\":[\"#636efa\",\"#EF553B\",\"#00cc96\",\"#ab63fa\",\"#FFA15A\",\"#19d3f3\",\"#FF6692\",\"#B6E880\",\"#FF97FF\",\"#FECB52\"],\"font\":{\"color\":\"#2a3f5f\"},\"geo\":{\"bgcolor\":\"white\",\"lakecolor\":\"white\",\"landcolor\":\"#E5ECF6\",\"showlakes\":true,\"showland\":true,\"subunitcolor\":\"white\"},\"hoverlabel\":{\"align\":\"left\"},\"hovermode\":\"closest\",\"mapbox\":{\"style\":\"light\"},\"paper_bgcolor\":\"white\",\"plot_bgcolor\":\"#E5ECF6\",\"polar\":{\"angularaxis\":{\"gridcolor\":\"white\",\"linecolor\":\"white\",\"ticks\":\"\"},\"bgcolor\":\"#E5ECF6\",\"radialaxis\":{\"gridcolor\":\"white\",\"linecolor\":\"white\",\"ticks\":\"\"}},\"scene\":{\"xaxis\":{\"backgroundcolor\":\"#E5ECF6\",\"gridcolor\":\"white\",\"gridwidth\":2,\"linecolor\":\"white\",\"showbackground\":true,\"ticks\":\"\",\"zerolinecolor\":\"white\"},\"yaxis\":{\"backgroundcolor\":\"#E5ECF6\",\"gridcolor\":\"white\",\"gridwidth\":2,\"linecolor\":\"white\",\"showbackground\":true,\"ticks\":\"\",\"zerolinecolor\":\"white\"},\"zaxis\":{\"backgroundcolor\":\"#E5ECF6\",\"gridcolor\":\"white\",\"gridwidth\":2,\"linecolor\":\"white\",\"showbackground\":true,\"ticks\":\"\",\"zerolinecolor\":\"white\"}},\"shapedefaults\":{\"line\":{\"color\":\"#2a3f5f\"}},\"ternary\":{\"aaxis\":{\"gridcolor\":\"white\",\"linecolor\":\"white\",\"ticks\":\"\"},\"baxis\":{\"gridcolor\":\"white\",\"linecolor\":\"white\",\"ticks\":\"\"},\"bgcolor\":\"#E5ECF6\",\"caxis\":{\"gridcolor\":\"white\",\"linecolor\":\"white\",\"ticks\":\"\"}},\"title\":{\"x\":0.05},\"xaxis\":{\"automargin\":true,\"gridcolor\":\"white\",\"linecolor\":\"white\",\"ticks\":\"\",\"title\":{\"standoff\":15},\"zerolinecolor\":\"white\",\"zerolinewidth\":2},\"yaxis\":{\"automargin\":true,\"gridcolor\":\"white\",\"linecolor\":\"white\",\"ticks\":\"\",\"title\":{\"standoff\":15},\"zerolinecolor\":\"white\",\"zerolinewidth\":2}}},\"title\":{\"text\":\"Scatter plot % Men vs. % Women in Villages\"},\"xaxis\":{\"range\":[0,88.0],\"title\":{\"text\":\"Men\"}},\"yaxis\":{\"range\":[0,82.5],\"title\":{\"text\":\"Women\"}}},                        {\"responsive\": true}                    ).then(function(){\n",
       "                            \n",
       "var gd = document.getElementById('b9f33a9d-39cc-47c0-92b1-c4cc873d171c');\n",
       "var x = new MutationObserver(function (mutations, observer) {{\n",
       "        var display = window.getComputedStyle(gd).display;\n",
       "        if (!display || display === 'none') {{\n",
       "            console.log([gd, 'removed!']);\n",
       "            Plotly.purge(gd);\n",
       "            observer.disconnect();\n",
       "        }}\n",
       "}});\n",
       "\n",
       "// Listen for the removal of the full notebook cells\n",
       "var notebookContainer = gd.closest('#notebook-container');\n",
       "if (notebookContainer) {{\n",
       "    x.observe(notebookContainer, {childList: true});\n",
       "}}\n",
       "\n",
       "// Listen for the clearing of the current output cell\n",
       "var outputEl = gd.closest('.output');\n",
       "if (outputEl) {{\n",
       "    x.observe(outputEl, {childList: true});\n",
       "}}\n",
       "\n",
       "                        })                };                });            </script>        </div>"
      ]
     },
     "metadata": {},
     "output_type": "display_data"
    }
   ],
   "source": [
    "women = df.iloc[:, 0]\n",
    "men = df.iloc[:, 1]\n",
    "cities = df.iloc[:, 4]\n",
    "fig = go.Figure()\n",
    "fig.add_trace(go.Scatter(x=men,y=women,mode='markers',text=cities,textposition='top center',marker=dict(size=12,color='blue',line=dict(width=2,color='black')),hoverinfo='text'))\n",
    "fig.update_layout(title='Scatter plot % Men vs. % Women in Villages',xaxis_title='Men',yaxis_title='Women',xaxis=dict(range=[0, max(men) * 1.1]),yaxis=dict(range=[0, max(women) * 1.1]))\n",
    "py.iplot(fig, filename='scatter')"
   ]
  },
  {
   "cell_type": "code",
   "execution_count": null,
   "id": "d0a33bf1-0d00-4e9e-af71-2e4813f7b113",
   "metadata": {},
   "outputs": [],
   "source": []
  }
 ],
 "metadata": {
  "kernelspec": {
   "display_name": "Python 3 (ipykernel)",
   "language": "python",
   "name": "python3"
  },
  "language_info": {
   "codemirror_mode": {
    "name": "ipython",
    "version": 3
   },
   "file_extension": ".py",
   "mimetype": "text/x-python",
   "name": "python",
   "nbconvert_exporter": "python",
   "pygments_lexer": "ipython3",
   "version": "3.12.4"
  }
 },
 "nbformat": 4,
 "nbformat_minor": 5
}
